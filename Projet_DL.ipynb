{
  "nbformat": 4,
  "nbformat_minor": 0,
  "metadata": {
    "kernelspec": {
      "name": "python3",
      "display_name": "Python 3"
    },
    "language_info": {
      "codemirror_mode": {
        "name": "ipython",
        "version": 3
      },
      "file_extension": ".py",
      "mimetype": "text/x-python",
      "name": "python",
      "nbconvert_exporter": "python",
      "pygments_lexer": "ipython3",
      "version": "3.7.3"
    },
    "colab": {
      "name": "Projet_DL.ipynb",
      "provenance": [],
      "collapsed_sections": [],
      "machine_shape": "hm"
    },
    "accelerator": "GPU"
  },
  "cells": [
    {
      "cell_type": "code",
      "metadata": {
        "id": "s7p9W5sCYYNY",
        "colab_type": "code",
        "outputId": "83f8d595-0667-425e-a08a-84c8815f918b",
        "colab": {
          "base_uri": "https://localhost:8080/",
          "height": 122
        }
      },
      "source": [
        "from google.colab import drive\n",
        "drive.mount('/content/gdrive')\n",
        "import pandas as pd\n",
        "import numpy as np\n",
        "import matplotlib.pyplot as plt\n",
        "import re"
      ],
      "execution_count": 2,
      "outputs": [
        {
          "output_type": "stream",
          "text": [
            "Go to this URL in a browser: https://accounts.google.com/o/oauth2/auth?client_id=947318989803-6bn6qk8qdgf4n4g3pfee6491hc0brc4i.apps.googleusercontent.com&redirect_uri=urn%3aietf%3awg%3aoauth%3a2.0%3aoob&response_type=code&scope=email%20https%3a%2f%2fwww.googleapis.com%2fauth%2fdocs.test%20https%3a%2f%2fwww.googleapis.com%2fauth%2fdrive%20https%3a%2f%2fwww.googleapis.com%2fauth%2fdrive.photos.readonly%20https%3a%2f%2fwww.googleapis.com%2fauth%2fpeopleapi.readonly\n",
            "\n",
            "Enter your authorization code:\n",
            "··········\n",
            "Mounted at /content/gdrive\n"
          ],
          "name": "stdout"
        }
      ]
    },
    {
      "cell_type": "markdown",
      "metadata": {
        "id": "BujJxbxdYhGn",
        "colab_type": "text"
      },
      "source": [
        "#**Data Understanding & Preparation**"
      ]
    },
    {
      "cell_type": "code",
      "metadata": {
        "id": "v7Bh5wYQYYNh",
        "colab_type": "code",
        "outputId": "173c13ce-8d2e-41b1-b557-13dbc742ffc9",
        "colab": {
          "base_uri": "https://localhost:8080/",
          "height": 359
        }
      },
      "source": [
        "train = pd.read_csv ('/content/gdrive/My Drive/ashrae-energy-prediction/train.csv')\n",
        "train.head(10)"
      ],
      "execution_count": 0,
      "outputs": [
        {
          "output_type": "execute_result",
          "data": {
            "text/html": [
              "<div>\n",
              "<style scoped>\n",
              "    .dataframe tbody tr th:only-of-type {\n",
              "        vertical-align: middle;\n",
              "    }\n",
              "\n",
              "    .dataframe tbody tr th {\n",
              "        vertical-align: top;\n",
              "    }\n",
              "\n",
              "    .dataframe thead th {\n",
              "        text-align: right;\n",
              "    }\n",
              "</style>\n",
              "<table border=\"1\" class=\"dataframe\">\n",
              "  <thead>\n",
              "    <tr style=\"text-align: right;\">\n",
              "      <th></th>\n",
              "      <th>building_id</th>\n",
              "      <th>meter</th>\n",
              "      <th>timestamp</th>\n",
              "      <th>meter_reading</th>\n",
              "    </tr>\n",
              "  </thead>\n",
              "  <tbody>\n",
              "    <tr>\n",
              "      <th>0</th>\n",
              "      <td>0</td>\n",
              "      <td>0</td>\n",
              "      <td>2016-01-01 00:00:00</td>\n",
              "      <td>0.0</td>\n",
              "    </tr>\n",
              "    <tr>\n",
              "      <th>1</th>\n",
              "      <td>1</td>\n",
              "      <td>0</td>\n",
              "      <td>2016-01-01 00:00:00</td>\n",
              "      <td>0.0</td>\n",
              "    </tr>\n",
              "    <tr>\n",
              "      <th>2</th>\n",
              "      <td>2</td>\n",
              "      <td>0</td>\n",
              "      <td>2016-01-01 00:00:00</td>\n",
              "      <td>0.0</td>\n",
              "    </tr>\n",
              "    <tr>\n",
              "      <th>3</th>\n",
              "      <td>3</td>\n",
              "      <td>0</td>\n",
              "      <td>2016-01-01 00:00:00</td>\n",
              "      <td>0.0</td>\n",
              "    </tr>\n",
              "    <tr>\n",
              "      <th>4</th>\n",
              "      <td>4</td>\n",
              "      <td>0</td>\n",
              "      <td>2016-01-01 00:00:00</td>\n",
              "      <td>0.0</td>\n",
              "    </tr>\n",
              "    <tr>\n",
              "      <th>5</th>\n",
              "      <td>5</td>\n",
              "      <td>0</td>\n",
              "      <td>2016-01-01 00:00:00</td>\n",
              "      <td>0.0</td>\n",
              "    </tr>\n",
              "    <tr>\n",
              "      <th>6</th>\n",
              "      <td>6</td>\n",
              "      <td>0</td>\n",
              "      <td>2016-01-01 00:00:00</td>\n",
              "      <td>0.0</td>\n",
              "    </tr>\n",
              "    <tr>\n",
              "      <th>7</th>\n",
              "      <td>7</td>\n",
              "      <td>0</td>\n",
              "      <td>2016-01-01 00:00:00</td>\n",
              "      <td>0.0</td>\n",
              "    </tr>\n",
              "    <tr>\n",
              "      <th>8</th>\n",
              "      <td>8</td>\n",
              "      <td>0</td>\n",
              "      <td>2016-01-01 00:00:00</td>\n",
              "      <td>0.0</td>\n",
              "    </tr>\n",
              "    <tr>\n",
              "      <th>9</th>\n",
              "      <td>9</td>\n",
              "      <td>0</td>\n",
              "      <td>2016-01-01 00:00:00</td>\n",
              "      <td>0.0</td>\n",
              "    </tr>\n",
              "  </tbody>\n",
              "</table>\n",
              "</div>"
            ],
            "text/plain": [
              "   building_id  meter            timestamp  meter_reading\n",
              "0            0      0  2016-01-01 00:00:00            0.0\n",
              "1            1      0  2016-01-01 00:00:00            0.0\n",
              "2            2      0  2016-01-01 00:00:00            0.0\n",
              "3            3      0  2016-01-01 00:00:00            0.0\n",
              "4            4      0  2016-01-01 00:00:00            0.0\n",
              "5            5      0  2016-01-01 00:00:00            0.0\n",
              "6            6      0  2016-01-01 00:00:00            0.0\n",
              "7            7      0  2016-01-01 00:00:00            0.0\n",
              "8            8      0  2016-01-01 00:00:00            0.0\n",
              "9            9      0  2016-01-01 00:00:00            0.0"
            ]
          },
          "metadata": {
            "tags": []
          },
          "execution_count": 2
        }
      ]
    },
    {
      "cell_type": "code",
      "metadata": {
        "id": "E92ufH22YYNp",
        "colab_type": "code",
        "outputId": "7b8f5ebf-5c7f-4c79-c823-397fa38d4908",
        "colab": {
          "base_uri": "https://localhost:8080/",
          "height": 359
        }
      },
      "source": [
        "train.tail(10)"
      ],
      "execution_count": 0,
      "outputs": [
        {
          "output_type": "execute_result",
          "data": {
            "text/html": [
              "<div>\n",
              "<style scoped>\n",
              "    .dataframe tbody tr th:only-of-type {\n",
              "        vertical-align: middle;\n",
              "    }\n",
              "\n",
              "    .dataframe tbody tr th {\n",
              "        vertical-align: top;\n",
              "    }\n",
              "\n",
              "    .dataframe thead th {\n",
              "        text-align: right;\n",
              "    }\n",
              "</style>\n",
              "<table border=\"1\" class=\"dataframe\">\n",
              "  <thead>\n",
              "    <tr style=\"text-align: right;\">\n",
              "      <th></th>\n",
              "      <th>building_id</th>\n",
              "      <th>meter</th>\n",
              "      <th>timestamp</th>\n",
              "      <th>meter_reading</th>\n",
              "    </tr>\n",
              "  </thead>\n",
              "  <tbody>\n",
              "    <tr>\n",
              "      <th>20216090</th>\n",
              "      <td>1440</td>\n",
              "      <td>0</td>\n",
              "      <td>2016-12-31 23:00:00</td>\n",
              "      <td>154.7500</td>\n",
              "    </tr>\n",
              "    <tr>\n",
              "      <th>20216091</th>\n",
              "      <td>1441</td>\n",
              "      <td>0</td>\n",
              "      <td>2016-12-31 23:00:00</td>\n",
              "      <td>242.9250</td>\n",
              "    </tr>\n",
              "    <tr>\n",
              "      <th>20216092</th>\n",
              "      <td>1442</td>\n",
              "      <td>0</td>\n",
              "      <td>2016-12-31 23:00:00</td>\n",
              "      <td>59.4000</td>\n",
              "    </tr>\n",
              "    <tr>\n",
              "      <th>20216093</th>\n",
              "      <td>1442</td>\n",
              "      <td>2</td>\n",
              "      <td>2016-12-31 23:00:00</td>\n",
              "      <td>55.6241</td>\n",
              "    </tr>\n",
              "    <tr>\n",
              "      <th>20216094</th>\n",
              "      <td>1443</td>\n",
              "      <td>0</td>\n",
              "      <td>2016-12-31 23:00:00</td>\n",
              "      <td>64.9500</td>\n",
              "    </tr>\n",
              "    <tr>\n",
              "      <th>20216095</th>\n",
              "      <td>1444</td>\n",
              "      <td>0</td>\n",
              "      <td>2016-12-31 23:00:00</td>\n",
              "      <td>8.7500</td>\n",
              "    </tr>\n",
              "    <tr>\n",
              "      <th>20216096</th>\n",
              "      <td>1445</td>\n",
              "      <td>0</td>\n",
              "      <td>2016-12-31 23:00:00</td>\n",
              "      <td>4.8250</td>\n",
              "    </tr>\n",
              "    <tr>\n",
              "      <th>20216097</th>\n",
              "      <td>1446</td>\n",
              "      <td>0</td>\n",
              "      <td>2016-12-31 23:00:00</td>\n",
              "      <td>0.0000</td>\n",
              "    </tr>\n",
              "    <tr>\n",
              "      <th>20216098</th>\n",
              "      <td>1447</td>\n",
              "      <td>0</td>\n",
              "      <td>2016-12-31 23:00:00</td>\n",
              "      <td>159.5750</td>\n",
              "    </tr>\n",
              "    <tr>\n",
              "      <th>20216099</th>\n",
              "      <td>1448</td>\n",
              "      <td>0</td>\n",
              "      <td>2016-12-31 23:00:00</td>\n",
              "      <td>2.8500</td>\n",
              "    </tr>\n",
              "  </tbody>\n",
              "</table>\n",
              "</div>"
            ],
            "text/plain": [
              "          building_id  meter            timestamp  meter_reading\n",
              "20216090         1440      0  2016-12-31 23:00:00       154.7500\n",
              "20216091         1441      0  2016-12-31 23:00:00       242.9250\n",
              "20216092         1442      0  2016-12-31 23:00:00        59.4000\n",
              "20216093         1442      2  2016-12-31 23:00:00        55.6241\n",
              "20216094         1443      0  2016-12-31 23:00:00        64.9500\n",
              "20216095         1444      0  2016-12-31 23:00:00         8.7500\n",
              "20216096         1445      0  2016-12-31 23:00:00         4.8250\n",
              "20216097         1446      0  2016-12-31 23:00:00         0.0000\n",
              "20216098         1447      0  2016-12-31 23:00:00       159.5750\n",
              "20216099         1448      0  2016-12-31 23:00:00         2.8500"
            ]
          },
          "metadata": {
            "tags": []
          },
          "execution_count": 3
        }
      ]
    },
    {
      "cell_type": "code",
      "metadata": {
        "id": "6uxek1k-YYNv",
        "colab_type": "code",
        "outputId": "62870a9b-542b-4ade-ab3d-73e5d9198e37",
        "colab": {
          "base_uri": "https://localhost:8080/",
          "height": 34
        }
      },
      "source": [
        "train.shape"
      ],
      "execution_count": 0,
      "outputs": [
        {
          "output_type": "execute_result",
          "data": {
            "text/plain": [
              "(20216100, 4)"
            ]
          },
          "metadata": {
            "tags": []
          },
          "execution_count": 4
        }
      ]
    },
    {
      "cell_type": "code",
      "metadata": {
        "id": "7K6Q8N3iYYN7",
        "colab_type": "code",
        "colab": {}
      },
      "source": [
        "building_metadata = pd.read_csv ('/content/gdrive/My Drive/ashrae-energy-prediction/building_metadata.csv')"
      ],
      "execution_count": 0,
      "outputs": []
    },
    {
      "cell_type": "code",
      "metadata": {
        "id": "9k7J9HwdYYN_",
        "colab_type": "code",
        "outputId": "cbffcbe8-d363-43b3-98fc-77203576ac0d",
        "colab": {
          "base_uri": "https://localhost:8080/",
          "height": 359
        }
      },
      "source": [
        "building_metadata.head(10)"
      ],
      "execution_count": 0,
      "outputs": [
        {
          "output_type": "execute_result",
          "data": {
            "text/html": [
              "<div>\n",
              "<style scoped>\n",
              "    .dataframe tbody tr th:only-of-type {\n",
              "        vertical-align: middle;\n",
              "    }\n",
              "\n",
              "    .dataframe tbody tr th {\n",
              "        vertical-align: top;\n",
              "    }\n",
              "\n",
              "    .dataframe thead th {\n",
              "        text-align: right;\n",
              "    }\n",
              "</style>\n",
              "<table border=\"1\" class=\"dataframe\">\n",
              "  <thead>\n",
              "    <tr style=\"text-align: right;\">\n",
              "      <th></th>\n",
              "      <th>site_id</th>\n",
              "      <th>building_id</th>\n",
              "      <th>primary_use</th>\n",
              "      <th>square_feet</th>\n",
              "      <th>year_built</th>\n",
              "      <th>floor_count</th>\n",
              "    </tr>\n",
              "  </thead>\n",
              "  <tbody>\n",
              "    <tr>\n",
              "      <th>0</th>\n",
              "      <td>0</td>\n",
              "      <td>0</td>\n",
              "      <td>Education</td>\n",
              "      <td>7432</td>\n",
              "      <td>2008.0</td>\n",
              "      <td>NaN</td>\n",
              "    </tr>\n",
              "    <tr>\n",
              "      <th>1</th>\n",
              "      <td>0</td>\n",
              "      <td>1</td>\n",
              "      <td>Education</td>\n",
              "      <td>2720</td>\n",
              "      <td>2004.0</td>\n",
              "      <td>NaN</td>\n",
              "    </tr>\n",
              "    <tr>\n",
              "      <th>2</th>\n",
              "      <td>0</td>\n",
              "      <td>2</td>\n",
              "      <td>Education</td>\n",
              "      <td>5376</td>\n",
              "      <td>1991.0</td>\n",
              "      <td>NaN</td>\n",
              "    </tr>\n",
              "    <tr>\n",
              "      <th>3</th>\n",
              "      <td>0</td>\n",
              "      <td>3</td>\n",
              "      <td>Education</td>\n",
              "      <td>23685</td>\n",
              "      <td>2002.0</td>\n",
              "      <td>NaN</td>\n",
              "    </tr>\n",
              "    <tr>\n",
              "      <th>4</th>\n",
              "      <td>0</td>\n",
              "      <td>4</td>\n",
              "      <td>Education</td>\n",
              "      <td>116607</td>\n",
              "      <td>1975.0</td>\n",
              "      <td>NaN</td>\n",
              "    </tr>\n",
              "    <tr>\n",
              "      <th>5</th>\n",
              "      <td>0</td>\n",
              "      <td>5</td>\n",
              "      <td>Education</td>\n",
              "      <td>8000</td>\n",
              "      <td>2000.0</td>\n",
              "      <td>NaN</td>\n",
              "    </tr>\n",
              "    <tr>\n",
              "      <th>6</th>\n",
              "      <td>0</td>\n",
              "      <td>6</td>\n",
              "      <td>Lodging/residential</td>\n",
              "      <td>27926</td>\n",
              "      <td>1981.0</td>\n",
              "      <td>NaN</td>\n",
              "    </tr>\n",
              "    <tr>\n",
              "      <th>7</th>\n",
              "      <td>0</td>\n",
              "      <td>7</td>\n",
              "      <td>Education</td>\n",
              "      <td>121074</td>\n",
              "      <td>1989.0</td>\n",
              "      <td>NaN</td>\n",
              "    </tr>\n",
              "    <tr>\n",
              "      <th>8</th>\n",
              "      <td>0</td>\n",
              "      <td>8</td>\n",
              "      <td>Education</td>\n",
              "      <td>60809</td>\n",
              "      <td>2003.0</td>\n",
              "      <td>NaN</td>\n",
              "    </tr>\n",
              "    <tr>\n",
              "      <th>9</th>\n",
              "      <td>0</td>\n",
              "      <td>9</td>\n",
              "      <td>Office</td>\n",
              "      <td>27000</td>\n",
              "      <td>2010.0</td>\n",
              "      <td>NaN</td>\n",
              "    </tr>\n",
              "  </tbody>\n",
              "</table>\n",
              "</div>"
            ],
            "text/plain": [
              "   site_id  building_id  ... year_built  floor_count\n",
              "0        0            0  ...     2008.0          NaN\n",
              "1        0            1  ...     2004.0          NaN\n",
              "2        0            2  ...     1991.0          NaN\n",
              "3        0            3  ...     2002.0          NaN\n",
              "4        0            4  ...     1975.0          NaN\n",
              "5        0            5  ...     2000.0          NaN\n",
              "6        0            6  ...     1981.0          NaN\n",
              "7        0            7  ...     1989.0          NaN\n",
              "8        0            8  ...     2003.0          NaN\n",
              "9        0            9  ...     2010.0          NaN\n",
              "\n",
              "[10 rows x 6 columns]"
            ]
          },
          "metadata": {
            "tags": []
          },
          "execution_count": 6
        }
      ]
    },
    {
      "cell_type": "code",
      "metadata": {
        "id": "oKUY3KiqYYOD",
        "colab_type": "code",
        "outputId": "1162967a-a188-49dd-e11d-291050f7fb22",
        "colab": {
          "base_uri": "https://localhost:8080/",
          "height": 34
        }
      },
      "source": [
        "building_metadata.shape"
      ],
      "execution_count": 0,
      "outputs": [
        {
          "output_type": "execute_result",
          "data": {
            "text/plain": [
              "(1449, 6)"
            ]
          },
          "metadata": {
            "tags": []
          },
          "execution_count": 7
        }
      ]
    },
    {
      "cell_type": "code",
      "metadata": {
        "id": "lW6EEfRkYYOH",
        "colab_type": "code",
        "colab": {}
      },
      "source": [
        "weather_train = pd.read_csv ('/content/gdrive/My Drive/ashrae-energy-prediction/weather_train.csv')"
      ],
      "execution_count": 0,
      "outputs": []
    },
    {
      "cell_type": "code",
      "metadata": {
        "id": "RcgkUpbsYYOK",
        "colab_type": "code",
        "outputId": "8890db12-d862-4951-f601-179381d749fa",
        "colab": {
          "base_uri": "https://localhost:8080/",
          "height": 359
        }
      },
      "source": [
        "weather_train.head(10)"
      ],
      "execution_count": 0,
      "outputs": [
        {
          "output_type": "execute_result",
          "data": {
            "text/html": [
              "<div>\n",
              "<style scoped>\n",
              "    .dataframe tbody tr th:only-of-type {\n",
              "        vertical-align: middle;\n",
              "    }\n",
              "\n",
              "    .dataframe tbody tr th {\n",
              "        vertical-align: top;\n",
              "    }\n",
              "\n",
              "    .dataframe thead th {\n",
              "        text-align: right;\n",
              "    }\n",
              "</style>\n",
              "<table border=\"1\" class=\"dataframe\">\n",
              "  <thead>\n",
              "    <tr style=\"text-align: right;\">\n",
              "      <th></th>\n",
              "      <th>site_id</th>\n",
              "      <th>timestamp</th>\n",
              "      <th>air_temperature</th>\n",
              "      <th>cloud_coverage</th>\n",
              "      <th>dew_temperature</th>\n",
              "      <th>precip_depth_1_hr</th>\n",
              "      <th>sea_level_pressure</th>\n",
              "      <th>wind_direction</th>\n",
              "      <th>wind_speed</th>\n",
              "    </tr>\n",
              "  </thead>\n",
              "  <tbody>\n",
              "    <tr>\n",
              "      <th>0</th>\n",
              "      <td>0</td>\n",
              "      <td>2016-01-01 00:00:00</td>\n",
              "      <td>25.0</td>\n",
              "      <td>6.0</td>\n",
              "      <td>20.0</td>\n",
              "      <td>NaN</td>\n",
              "      <td>1019.7</td>\n",
              "      <td>0.0</td>\n",
              "      <td>0.0</td>\n",
              "    </tr>\n",
              "    <tr>\n",
              "      <th>1</th>\n",
              "      <td>0</td>\n",
              "      <td>2016-01-01 01:00:00</td>\n",
              "      <td>24.4</td>\n",
              "      <td>NaN</td>\n",
              "      <td>21.1</td>\n",
              "      <td>-1.0</td>\n",
              "      <td>1020.2</td>\n",
              "      <td>70.0</td>\n",
              "      <td>1.5</td>\n",
              "    </tr>\n",
              "    <tr>\n",
              "      <th>2</th>\n",
              "      <td>0</td>\n",
              "      <td>2016-01-01 02:00:00</td>\n",
              "      <td>22.8</td>\n",
              "      <td>2.0</td>\n",
              "      <td>21.1</td>\n",
              "      <td>0.0</td>\n",
              "      <td>1020.2</td>\n",
              "      <td>0.0</td>\n",
              "      <td>0.0</td>\n",
              "    </tr>\n",
              "    <tr>\n",
              "      <th>3</th>\n",
              "      <td>0</td>\n",
              "      <td>2016-01-01 03:00:00</td>\n",
              "      <td>21.1</td>\n",
              "      <td>2.0</td>\n",
              "      <td>20.6</td>\n",
              "      <td>0.0</td>\n",
              "      <td>1020.1</td>\n",
              "      <td>0.0</td>\n",
              "      <td>0.0</td>\n",
              "    </tr>\n",
              "    <tr>\n",
              "      <th>4</th>\n",
              "      <td>0</td>\n",
              "      <td>2016-01-01 04:00:00</td>\n",
              "      <td>20.0</td>\n",
              "      <td>2.0</td>\n",
              "      <td>20.0</td>\n",
              "      <td>-1.0</td>\n",
              "      <td>1020.0</td>\n",
              "      <td>250.0</td>\n",
              "      <td>2.6</td>\n",
              "    </tr>\n",
              "    <tr>\n",
              "      <th>5</th>\n",
              "      <td>0</td>\n",
              "      <td>2016-01-01 05:00:00</td>\n",
              "      <td>19.4</td>\n",
              "      <td>NaN</td>\n",
              "      <td>19.4</td>\n",
              "      <td>0.0</td>\n",
              "      <td>NaN</td>\n",
              "      <td>0.0</td>\n",
              "      <td>0.0</td>\n",
              "    </tr>\n",
              "    <tr>\n",
              "      <th>6</th>\n",
              "      <td>0</td>\n",
              "      <td>2016-01-01 06:00:00</td>\n",
              "      <td>21.1</td>\n",
              "      <td>6.0</td>\n",
              "      <td>21.1</td>\n",
              "      <td>-1.0</td>\n",
              "      <td>1019.4</td>\n",
              "      <td>0.0</td>\n",
              "      <td>0.0</td>\n",
              "    </tr>\n",
              "    <tr>\n",
              "      <th>7</th>\n",
              "      <td>0</td>\n",
              "      <td>2016-01-01 07:00:00</td>\n",
              "      <td>21.1</td>\n",
              "      <td>NaN</td>\n",
              "      <td>21.1</td>\n",
              "      <td>0.0</td>\n",
              "      <td>1018.8</td>\n",
              "      <td>210.0</td>\n",
              "      <td>1.5</td>\n",
              "    </tr>\n",
              "    <tr>\n",
              "      <th>8</th>\n",
              "      <td>0</td>\n",
              "      <td>2016-01-01 08:00:00</td>\n",
              "      <td>20.6</td>\n",
              "      <td>NaN</td>\n",
              "      <td>20.0</td>\n",
              "      <td>0.0</td>\n",
              "      <td>1018.1</td>\n",
              "      <td>0.0</td>\n",
              "      <td>0.0</td>\n",
              "    </tr>\n",
              "    <tr>\n",
              "      <th>9</th>\n",
              "      <td>0</td>\n",
              "      <td>2016-01-01 09:00:00</td>\n",
              "      <td>21.1</td>\n",
              "      <td>NaN</td>\n",
              "      <td>20.6</td>\n",
              "      <td>0.0</td>\n",
              "      <td>1019.0</td>\n",
              "      <td>290.0</td>\n",
              "      <td>1.5</td>\n",
              "    </tr>\n",
              "  </tbody>\n",
              "</table>\n",
              "</div>"
            ],
            "text/plain": [
              "   site_id            timestamp  ...  wind_direction  wind_speed\n",
              "0        0  2016-01-01 00:00:00  ...             0.0         0.0\n",
              "1        0  2016-01-01 01:00:00  ...            70.0         1.5\n",
              "2        0  2016-01-01 02:00:00  ...             0.0         0.0\n",
              "3        0  2016-01-01 03:00:00  ...             0.0         0.0\n",
              "4        0  2016-01-01 04:00:00  ...           250.0         2.6\n",
              "5        0  2016-01-01 05:00:00  ...             0.0         0.0\n",
              "6        0  2016-01-01 06:00:00  ...             0.0         0.0\n",
              "7        0  2016-01-01 07:00:00  ...           210.0         1.5\n",
              "8        0  2016-01-01 08:00:00  ...             0.0         0.0\n",
              "9        0  2016-01-01 09:00:00  ...           290.0         1.5\n",
              "\n",
              "[10 rows x 9 columns]"
            ]
          },
          "metadata": {
            "tags": []
          },
          "execution_count": 9
        }
      ]
    },
    {
      "cell_type": "code",
      "metadata": {
        "id": "F8Exc0n_YYOO",
        "colab_type": "code",
        "outputId": "34fa3ef9-f776-49f5-e4aa-4551f283b39c",
        "colab": {
          "base_uri": "https://localhost:8080/",
          "height": 34
        }
      },
      "source": [
        "weather_train.shape"
      ],
      "execution_count": 0,
      "outputs": [
        {
          "output_type": "execute_result",
          "data": {
            "text/plain": [
              "(139773, 9)"
            ]
          },
          "metadata": {
            "tags": []
          },
          "execution_count": 10
        }
      ]
    },
    {
      "cell_type": "code",
      "metadata": {
        "id": "ff2gFsv9YYOg",
        "colab_type": "code",
        "outputId": "1856921b-a99c-4be2-f8d6-94d73be8b920",
        "colab": {
          "base_uri": "https://localhost:8080/",
          "height": 359
        }
      },
      "source": [
        "building_metadata.tail(10)"
      ],
      "execution_count": 0,
      "outputs": [
        {
          "output_type": "execute_result",
          "data": {
            "text/html": [
              "<div>\n",
              "<style scoped>\n",
              "    .dataframe tbody tr th:only-of-type {\n",
              "        vertical-align: middle;\n",
              "    }\n",
              "\n",
              "    .dataframe tbody tr th {\n",
              "        vertical-align: top;\n",
              "    }\n",
              "\n",
              "    .dataframe thead th {\n",
              "        text-align: right;\n",
              "    }\n",
              "</style>\n",
              "<table border=\"1\" class=\"dataframe\">\n",
              "  <thead>\n",
              "    <tr style=\"text-align: right;\">\n",
              "      <th></th>\n",
              "      <th>site_id</th>\n",
              "      <th>building_id</th>\n",
              "      <th>primary_use</th>\n",
              "      <th>square_feet</th>\n",
              "      <th>year_built</th>\n",
              "      <th>floor_count</th>\n",
              "    </tr>\n",
              "  </thead>\n",
              "  <tbody>\n",
              "    <tr>\n",
              "      <th>1439</th>\n",
              "      <td>15</td>\n",
              "      <td>1439</td>\n",
              "      <td>Education</td>\n",
              "      <td>56497</td>\n",
              "      <td>1957.0</td>\n",
              "      <td>NaN</td>\n",
              "    </tr>\n",
              "    <tr>\n",
              "      <th>1440</th>\n",
              "      <td>15</td>\n",
              "      <td>1440</td>\n",
              "      <td>Lodging/residential</td>\n",
              "      <td>150294</td>\n",
              "      <td>1987.0</td>\n",
              "      <td>NaN</td>\n",
              "    </tr>\n",
              "    <tr>\n",
              "      <th>1441</th>\n",
              "      <td>15</td>\n",
              "      <td>1441</td>\n",
              "      <td>Education</td>\n",
              "      <td>30143</td>\n",
              "      <td>1951.0</td>\n",
              "      <td>NaN</td>\n",
              "    </tr>\n",
              "    <tr>\n",
              "      <th>1442</th>\n",
              "      <td>15</td>\n",
              "      <td>1442</td>\n",
              "      <td>Public services</td>\n",
              "      <td>99541</td>\n",
              "      <td>1993.0</td>\n",
              "      <td>NaN</td>\n",
              "    </tr>\n",
              "    <tr>\n",
              "      <th>1443</th>\n",
              "      <td>15</td>\n",
              "      <td>1443</td>\n",
              "      <td>Education</td>\n",
              "      <td>40311</td>\n",
              "      <td>1913.0</td>\n",
              "      <td>NaN</td>\n",
              "    </tr>\n",
              "    <tr>\n",
              "      <th>1444</th>\n",
              "      <td>15</td>\n",
              "      <td>1444</td>\n",
              "      <td>Entertainment/public assembly</td>\n",
              "      <td>19619</td>\n",
              "      <td>1914.0</td>\n",
              "      <td>NaN</td>\n",
              "    </tr>\n",
              "    <tr>\n",
              "      <th>1445</th>\n",
              "      <td>15</td>\n",
              "      <td>1445</td>\n",
              "      <td>Education</td>\n",
              "      <td>4298</td>\n",
              "      <td>NaN</td>\n",
              "      <td>NaN</td>\n",
              "    </tr>\n",
              "    <tr>\n",
              "      <th>1446</th>\n",
              "      <td>15</td>\n",
              "      <td>1446</td>\n",
              "      <td>Entertainment/public assembly</td>\n",
              "      <td>11265</td>\n",
              "      <td>1997.0</td>\n",
              "      <td>NaN</td>\n",
              "    </tr>\n",
              "    <tr>\n",
              "      <th>1447</th>\n",
              "      <td>15</td>\n",
              "      <td>1447</td>\n",
              "      <td>Lodging/residential</td>\n",
              "      <td>29775</td>\n",
              "      <td>2001.0</td>\n",
              "      <td>NaN</td>\n",
              "    </tr>\n",
              "    <tr>\n",
              "      <th>1448</th>\n",
              "      <td>15</td>\n",
              "      <td>1448</td>\n",
              "      <td>Office</td>\n",
              "      <td>92271</td>\n",
              "      <td>2001.0</td>\n",
              "      <td>NaN</td>\n",
              "    </tr>\n",
              "  </tbody>\n",
              "</table>\n",
              "</div>"
            ],
            "text/plain": [
              "      site_id  building_id  ... year_built  floor_count\n",
              "1439       15         1439  ...     1957.0          NaN\n",
              "1440       15         1440  ...     1987.0          NaN\n",
              "1441       15         1441  ...     1951.0          NaN\n",
              "1442       15         1442  ...     1993.0          NaN\n",
              "1443       15         1443  ...     1913.0          NaN\n",
              "1444       15         1444  ...     1914.0          NaN\n",
              "1445       15         1445  ...        NaN          NaN\n",
              "1446       15         1446  ...     1997.0          NaN\n",
              "1447       15         1447  ...     2001.0          NaN\n",
              "1448       15         1448  ...     2001.0          NaN\n",
              "\n",
              "[10 rows x 6 columns]"
            ]
          },
          "metadata": {
            "tags": []
          },
          "execution_count": 11
        }
      ]
    },
    {
      "cell_type": "code",
      "metadata": {
        "id": "cW5Wwqy4YYOl",
        "colab_type": "code",
        "outputId": "c5bbab1c-85ac-4023-cd5c-c97aff6b9eac",
        "colab": {
          "base_uri": "https://localhost:8080/",
          "height": 136
        }
      },
      "source": [
        "building_metadata.isna().sum()"
      ],
      "execution_count": 0,
      "outputs": [
        {
          "output_type": "execute_result",
          "data": {
            "text/plain": [
              "site_id           0\n",
              "building_id       0\n",
              "primary_use       0\n",
              "square_feet       0\n",
              "year_built      774\n",
              "floor_count    1094\n",
              "dtype: int64"
            ]
          },
          "metadata": {
            "tags": []
          },
          "execution_count": 12
        }
      ]
    },
    {
      "cell_type": "markdown",
      "metadata": {
        "id": "O1CsdjYCZDDq",
        "colab_type": "text"
      },
      "source": [
        "**Delete 'year_built'  &  'floor_count'**"
      ]
    },
    {
      "cell_type": "code",
      "metadata": {
        "id": "LzJIO8KxYYOv",
        "colab_type": "code",
        "colab": {}
      },
      "source": [
        "var = [x for x in building_metadata.columns if x not in ['year_built','floor_count']]\n",
        "var\n",
        "new_building_metadata = building_metadata[var]\n"
      ],
      "execution_count": 0,
      "outputs": []
    },
    {
      "cell_type": "code",
      "metadata": {
        "id": "uuKfFdIpYYO0",
        "colab_type": "code",
        "outputId": "6b6063c1-93f7-4216-856e-5237f8088c16",
        "colab": {
          "base_uri": "https://localhost:8080/",
          "height": 306
        }
      },
      "source": [
        "new_building_metadata.primary_use.value_counts()"
      ],
      "execution_count": 0,
      "outputs": [
        {
          "output_type": "execute_result",
          "data": {
            "text/plain": [
              "Education                        549\n",
              "Office                           279\n",
              "Entertainment/public assembly    184\n",
              "Public services                  156\n",
              "Lodging/residential              147\n",
              "Other                             25\n",
              "Healthcare                        23\n",
              "Parking                           22\n",
              "Warehouse/storage                 13\n",
              "Manufacturing/industrial          12\n",
              "Retail                            11\n",
              "Services                          10\n",
              "Technology/science                 6\n",
              "Food sales and service             5\n",
              "Utility                            4\n",
              "Religious worship                  3\n",
              "Name: primary_use, dtype: int64"
            ]
          },
          "metadata": {
            "tags": []
          },
          "execution_count": 14
        }
      ]
    },
    {
      "cell_type": "code",
      "metadata": {
        "scrolled": true,
        "id": "hlyDALeIYYPD",
        "colab_type": "code",
        "outputId": "cc54e502-e9e2-4bd4-e44b-b843f2f6bd93",
        "colab": {
          "base_uri": "https://localhost:8080/",
          "height": 529
        }
      },
      "source": [
        "weather_train.tail(10)"
      ],
      "execution_count": 0,
      "outputs": [
        {
          "output_type": "execute_result",
          "data": {
            "text/html": [
              "<div>\n",
              "<style scoped>\n",
              "    .dataframe tbody tr th:only-of-type {\n",
              "        vertical-align: middle;\n",
              "    }\n",
              "\n",
              "    .dataframe tbody tr th {\n",
              "        vertical-align: top;\n",
              "    }\n",
              "\n",
              "    .dataframe thead th {\n",
              "        text-align: right;\n",
              "    }\n",
              "</style>\n",
              "<table border=\"1\" class=\"dataframe\">\n",
              "  <thead>\n",
              "    <tr style=\"text-align: right;\">\n",
              "      <th></th>\n",
              "      <th>site_id</th>\n",
              "      <th>timestamp</th>\n",
              "      <th>air_temperature</th>\n",
              "      <th>cloud_coverage</th>\n",
              "      <th>dew_temperature</th>\n",
              "      <th>precip_depth_1_hr</th>\n",
              "      <th>sea_level_pressure</th>\n",
              "      <th>wind_direction</th>\n",
              "      <th>wind_speed</th>\n",
              "    </tr>\n",
              "  </thead>\n",
              "  <tbody>\n",
              "    <tr>\n",
              "      <th>139763</th>\n",
              "      <td>15</td>\n",
              "      <td>2016-12-31 14:00:00</td>\n",
              "      <td>-2.8</td>\n",
              "      <td>NaN</td>\n",
              "      <td>-7.8</td>\n",
              "      <td>NaN</td>\n",
              "      <td>1013.4</td>\n",
              "      <td>170.0</td>\n",
              "      <td>5.7</td>\n",
              "    </tr>\n",
              "    <tr>\n",
              "      <th>139764</th>\n",
              "      <td>15</td>\n",
              "      <td>2016-12-31 15:00:00</td>\n",
              "      <td>-1.7</td>\n",
              "      <td>4.0</td>\n",
              "      <td>-7.2</td>\n",
              "      <td>NaN</td>\n",
              "      <td>1012.3</td>\n",
              "      <td>160.0</td>\n",
              "      <td>6.7</td>\n",
              "    </tr>\n",
              "    <tr>\n",
              "      <th>139765</th>\n",
              "      <td>15</td>\n",
              "      <td>2016-12-31 16:00:00</td>\n",
              "      <td>-0.6</td>\n",
              "      <td>0.0</td>\n",
              "      <td>-6.7</td>\n",
              "      <td>NaN</td>\n",
              "      <td>1011.1</td>\n",
              "      <td>170.0</td>\n",
              "      <td>7.2</td>\n",
              "    </tr>\n",
              "    <tr>\n",
              "      <th>139766</th>\n",
              "      <td>15</td>\n",
              "      <td>2016-12-31 17:00:00</td>\n",
              "      <td>2.2</td>\n",
              "      <td>NaN</td>\n",
              "      <td>-7.8</td>\n",
              "      <td>NaN</td>\n",
              "      <td>1009.1</td>\n",
              "      <td>180.0</td>\n",
              "      <td>7.7</td>\n",
              "    </tr>\n",
              "    <tr>\n",
              "      <th>139767</th>\n",
              "      <td>15</td>\n",
              "      <td>2016-12-31 18:00:00</td>\n",
              "      <td>2.8</td>\n",
              "      <td>NaN</td>\n",
              "      <td>-7.8</td>\n",
              "      <td>NaN</td>\n",
              "      <td>1007.7</td>\n",
              "      <td>180.0</td>\n",
              "      <td>8.2</td>\n",
              "    </tr>\n",
              "    <tr>\n",
              "      <th>139768</th>\n",
              "      <td>15</td>\n",
              "      <td>2016-12-31 19:00:00</td>\n",
              "      <td>3.0</td>\n",
              "      <td>NaN</td>\n",
              "      <td>-8.0</td>\n",
              "      <td>NaN</td>\n",
              "      <td>NaN</td>\n",
              "      <td>180.0</td>\n",
              "      <td>5.7</td>\n",
              "    </tr>\n",
              "    <tr>\n",
              "      <th>139769</th>\n",
              "      <td>15</td>\n",
              "      <td>2016-12-31 20:00:00</td>\n",
              "      <td>2.8</td>\n",
              "      <td>2.0</td>\n",
              "      <td>-8.9</td>\n",
              "      <td>NaN</td>\n",
              "      <td>1007.4</td>\n",
              "      <td>180.0</td>\n",
              "      <td>7.7</td>\n",
              "    </tr>\n",
              "    <tr>\n",
              "      <th>139770</th>\n",
              "      <td>15</td>\n",
              "      <td>2016-12-31 21:00:00</td>\n",
              "      <td>2.8</td>\n",
              "      <td>NaN</td>\n",
              "      <td>-7.2</td>\n",
              "      <td>NaN</td>\n",
              "      <td>1007.5</td>\n",
              "      <td>180.0</td>\n",
              "      <td>5.1</td>\n",
              "    </tr>\n",
              "    <tr>\n",
              "      <th>139771</th>\n",
              "      <td>15</td>\n",
              "      <td>2016-12-31 22:00:00</td>\n",
              "      <td>2.2</td>\n",
              "      <td>NaN</td>\n",
              "      <td>-6.7</td>\n",
              "      <td>NaN</td>\n",
              "      <td>1008.0</td>\n",
              "      <td>170.0</td>\n",
              "      <td>4.6</td>\n",
              "    </tr>\n",
              "    <tr>\n",
              "      <th>139772</th>\n",
              "      <td>15</td>\n",
              "      <td>2016-12-31 23:00:00</td>\n",
              "      <td>1.7</td>\n",
              "      <td>NaN</td>\n",
              "      <td>-5.6</td>\n",
              "      <td>-1.0</td>\n",
              "      <td>1008.5</td>\n",
              "      <td>180.0</td>\n",
              "      <td>8.8</td>\n",
              "    </tr>\n",
              "  </tbody>\n",
              "</table>\n",
              "</div>"
            ],
            "text/plain": [
              "        site_id            timestamp  ...  wind_direction  wind_speed\n",
              "139763       15  2016-12-31 14:00:00  ...           170.0         5.7\n",
              "139764       15  2016-12-31 15:00:00  ...           160.0         6.7\n",
              "139765       15  2016-12-31 16:00:00  ...           170.0         7.2\n",
              "139766       15  2016-12-31 17:00:00  ...           180.0         7.7\n",
              "139767       15  2016-12-31 18:00:00  ...           180.0         8.2\n",
              "139768       15  2016-12-31 19:00:00  ...           180.0         5.7\n",
              "139769       15  2016-12-31 20:00:00  ...           180.0         7.7\n",
              "139770       15  2016-12-31 21:00:00  ...           180.0         5.1\n",
              "139771       15  2016-12-31 22:00:00  ...           170.0         4.6\n",
              "139772       15  2016-12-31 23:00:00  ...           180.0         8.8\n",
              "\n",
              "[10 rows x 9 columns]"
            ]
          },
          "metadata": {
            "tags": []
          },
          "execution_count": 15
        }
      ]
    },
    {
      "cell_type": "code",
      "metadata": {
        "id": "ReG23f62YYPM",
        "colab_type": "code",
        "outputId": "b0925090-266f-4d0a-c290-f85abec331eb",
        "colab": {
          "base_uri": "https://localhost:8080/",
          "height": 187
        }
      },
      "source": [
        "weather_train.isna().sum()"
      ],
      "execution_count": 0,
      "outputs": [
        {
          "output_type": "execute_result",
          "data": {
            "text/plain": [
              "site_id                   0\n",
              "timestamp                 0\n",
              "air_temperature          55\n",
              "cloud_coverage        69173\n",
              "dew_temperature         113\n",
              "precip_depth_1_hr     50289\n",
              "sea_level_pressure    10618\n",
              "wind_direction         6268\n",
              "wind_speed              304\n",
              "dtype: int64"
            ]
          },
          "metadata": {
            "tags": []
          },
          "execution_count": 16
        }
      ]
    },
    {
      "cell_type": "code",
      "metadata": {
        "id": "Mt5xXYdmYYPT",
        "colab_type": "code",
        "outputId": "f5f15d84-c6e7-4772-bc0e-b7626dd1df38",
        "colab": {
          "base_uri": "https://localhost:8080/",
          "height": 34
        }
      },
      "source": [
        "weather_train.shape"
      ],
      "execution_count": 0,
      "outputs": [
        {
          "output_type": "execute_result",
          "data": {
            "text/plain": [
              "(139773, 9)"
            ]
          },
          "metadata": {
            "tags": []
          },
          "execution_count": 17
        }
      ]
    },
    {
      "cell_type": "markdown",
      "metadata": {
        "id": "M45xIaxeZk4U",
        "colab_type": "text"
      },
      "source": [
        "**Delete attributes with many missing values**"
      ]
    },
    {
      "cell_type": "code",
      "metadata": {
        "id": "y7BXmPAIYYPX",
        "colab_type": "code",
        "colab": {}
      },
      "source": [
        "var = [x for x in weather_train.columns if x not in ['cloud_coverage','precip_depth_1_hr','sea_level_pressure','wind_direction']]\n",
        "new_weather_train = weather_train[var]"
      ],
      "execution_count": 0,
      "outputs": []
    },
    {
      "cell_type": "code",
      "metadata": {
        "id": "tJ9Ur_uIYYPc",
        "colab_type": "code",
        "outputId": "0ed04ab5-84a8-404e-ef06-2ebd1c062e30",
        "colab": {
          "base_uri": "https://localhost:8080/",
          "height": 297
        }
      },
      "source": [
        "new_weather_train.describe()"
      ],
      "execution_count": 0,
      "outputs": [
        {
          "output_type": "execute_result",
          "data": {
            "text/html": [
              "<div>\n",
              "<style scoped>\n",
              "    .dataframe tbody tr th:only-of-type {\n",
              "        vertical-align: middle;\n",
              "    }\n",
              "\n",
              "    .dataframe tbody tr th {\n",
              "        vertical-align: top;\n",
              "    }\n",
              "\n",
              "    .dataframe thead th {\n",
              "        text-align: right;\n",
              "    }\n",
              "</style>\n",
              "<table border=\"1\" class=\"dataframe\">\n",
              "  <thead>\n",
              "    <tr style=\"text-align: right;\">\n",
              "      <th></th>\n",
              "      <th>site_id</th>\n",
              "      <th>air_temperature</th>\n",
              "      <th>dew_temperature</th>\n",
              "      <th>wind_speed</th>\n",
              "    </tr>\n",
              "  </thead>\n",
              "  <tbody>\n",
              "    <tr>\n",
              "      <th>count</th>\n",
              "      <td>139773.000000</td>\n",
              "      <td>139718.000000</td>\n",
              "      <td>139660.000000</td>\n",
              "      <td>139469.000000</td>\n",
              "    </tr>\n",
              "    <tr>\n",
              "      <th>mean</th>\n",
              "      <td>7.478977</td>\n",
              "      <td>14.418106</td>\n",
              "      <td>7.350158</td>\n",
              "      <td>3.560527</td>\n",
              "    </tr>\n",
              "    <tr>\n",
              "      <th>std</th>\n",
              "      <td>4.604744</td>\n",
              "      <td>10.626595</td>\n",
              "      <td>9.790235</td>\n",
              "      <td>2.335874</td>\n",
              "    </tr>\n",
              "    <tr>\n",
              "      <th>min</th>\n",
              "      <td>0.000000</td>\n",
              "      <td>-28.900000</td>\n",
              "      <td>-35.000000</td>\n",
              "      <td>0.000000</td>\n",
              "    </tr>\n",
              "    <tr>\n",
              "      <th>25%</th>\n",
              "      <td>3.000000</td>\n",
              "      <td>7.200000</td>\n",
              "      <td>0.600000</td>\n",
              "      <td>2.100000</td>\n",
              "    </tr>\n",
              "    <tr>\n",
              "      <th>50%</th>\n",
              "      <td>7.000000</td>\n",
              "      <td>15.000000</td>\n",
              "      <td>8.300000</td>\n",
              "      <td>3.100000</td>\n",
              "    </tr>\n",
              "    <tr>\n",
              "      <th>75%</th>\n",
              "      <td>11.000000</td>\n",
              "      <td>22.200000</td>\n",
              "      <td>14.400000</td>\n",
              "      <td>5.000000</td>\n",
              "    </tr>\n",
              "    <tr>\n",
              "      <th>max</th>\n",
              "      <td>15.000000</td>\n",
              "      <td>47.200000</td>\n",
              "      <td>26.100000</td>\n",
              "      <td>19.000000</td>\n",
              "    </tr>\n",
              "  </tbody>\n",
              "</table>\n",
              "</div>"
            ],
            "text/plain": [
              "             site_id  air_temperature  dew_temperature     wind_speed\n",
              "count  139773.000000    139718.000000    139660.000000  139469.000000\n",
              "mean        7.478977        14.418106         7.350158       3.560527\n",
              "std         4.604744        10.626595         9.790235       2.335874\n",
              "min         0.000000       -28.900000       -35.000000       0.000000\n",
              "25%         3.000000         7.200000         0.600000       2.100000\n",
              "50%         7.000000        15.000000         8.300000       3.100000\n",
              "75%        11.000000        22.200000        14.400000       5.000000\n",
              "max        15.000000        47.200000        26.100000      19.000000"
            ]
          },
          "metadata": {
            "tags": []
          },
          "execution_count": 19
        }
      ]
    },
    {
      "cell_type": "code",
      "metadata": {
        "id": "sD7g38r4YYPl",
        "colab_type": "code",
        "colab": {}
      },
      "source": [
        ""
      ],
      "execution_count": 0,
      "outputs": []
    },
    {
      "cell_type": "code",
      "metadata": {
        "id": "mxHk2kRfYYPo",
        "colab_type": "code",
        "outputId": "1be49ad0-dd03-4242-ba46-4fd8d8d7a449",
        "colab": {
          "base_uri": "https://localhost:8080/",
          "height": 204
        }
      },
      "source": [
        "#replace missing values with median (wind_speed)\n",
        "new_weather_train['wind_speed'].fillna(new_weather_train['wind_speed'].median(), inplace=True)\n",
        "new_weather_train.isna().sum()"
      ],
      "execution_count": 0,
      "outputs": [
        {
          "output_type": "stream",
          "text": [
            "/usr/local/lib/python3.6/dist-packages/pandas/core/generic.py:6287: SettingWithCopyWarning: \n",
            "A value is trying to be set on a copy of a slice from a DataFrame\n",
            "\n",
            "See the caveats in the documentation: http://pandas.pydata.org/pandas-docs/stable/user_guide/indexing.html#returning-a-view-versus-a-copy\n",
            "  self._update_inplace(new_data)\n"
          ],
          "name": "stderr"
        },
        {
          "output_type": "execute_result",
          "data": {
            "text/plain": [
              "site_id              0\n",
              "timestamp            0\n",
              "air_temperature     55\n",
              "dew_temperature    113\n",
              "wind_speed           0\n",
              "dtype: int64"
            ]
          },
          "metadata": {
            "tags": []
          },
          "execution_count": 20
        }
      ]
    },
    {
      "cell_type": "code",
      "metadata": {
        "id": "9oQ4lfLCYYPr",
        "colab_type": "code",
        "outputId": "33713c64-ca2c-4d6f-b984-0f4119503a92",
        "colab": {
          "base_uri": "https://localhost:8080/",
          "height": 204
        }
      },
      "source": [
        "#replace missing values with median ('air_temperature')\n",
        "\n",
        "new_weather_train['air_temperature'].fillna(new_weather_train['air_temperature'].median(), inplace=True)\n",
        "new_weather_train.isna().sum()"
      ],
      "execution_count": 0,
      "outputs": [
        {
          "output_type": "stream",
          "text": [
            "/usr/local/lib/python3.6/dist-packages/pandas/core/generic.py:6287: SettingWithCopyWarning: \n",
            "A value is trying to be set on a copy of a slice from a DataFrame\n",
            "\n",
            "See the caveats in the documentation: http://pandas.pydata.org/pandas-docs/stable/user_guide/indexing.html#returning-a-view-versus-a-copy\n",
            "  self._update_inplace(new_data)\n"
          ],
          "name": "stderr"
        },
        {
          "output_type": "execute_result",
          "data": {
            "text/plain": [
              "site_id              0\n",
              "timestamp            0\n",
              "air_temperature      0\n",
              "dew_temperature    113\n",
              "wind_speed           0\n",
              "dtype: int64"
            ]
          },
          "metadata": {
            "tags": []
          },
          "execution_count": 21
        }
      ]
    },
    {
      "cell_type": "code",
      "metadata": {
        "id": "YB57SUrYYYPu",
        "colab_type": "code",
        "outputId": "7f5e42cf-8142-42c1-c1ff-cfbd0b3be19a",
        "colab": {
          "base_uri": "https://localhost:8080/",
          "height": 204
        }
      },
      "source": [
        "#replace missing values with median ('dew_temperature')\n",
        "\n",
        "new_weather_train['dew_temperature'].fillna(new_weather_train['dew_temperature'].median(), inplace=True)\n",
        "new_weather_train.isna().sum()"
      ],
      "execution_count": 0,
      "outputs": [
        {
          "output_type": "stream",
          "text": [
            "/usr/local/lib/python3.6/dist-packages/pandas/core/generic.py:6287: SettingWithCopyWarning: \n",
            "A value is trying to be set on a copy of a slice from a DataFrame\n",
            "\n",
            "See the caveats in the documentation: http://pandas.pydata.org/pandas-docs/stable/user_guide/indexing.html#returning-a-view-versus-a-copy\n",
            "  self._update_inplace(new_data)\n"
          ],
          "name": "stderr"
        },
        {
          "output_type": "execute_result",
          "data": {
            "text/plain": [
              "site_id            0\n",
              "timestamp          0\n",
              "air_temperature    0\n",
              "dew_temperature    0\n",
              "wind_speed         0\n",
              "dtype: int64"
            ]
          },
          "metadata": {
            "tags": []
          },
          "execution_count": 22
        }
      ]
    },
    {
      "cell_type": "code",
      "metadata": {
        "id": "_9Jz7fYiYYPw",
        "colab_type": "code",
        "outputId": "49511a78-2c59-47b8-af5e-f10974b62c3b",
        "colab": {
          "base_uri": "https://localhost:8080/",
          "height": 359
        }
      },
      "source": [
        "new_weather_train.head(10)"
      ],
      "execution_count": 0,
      "outputs": [
        {
          "output_type": "execute_result",
          "data": {
            "text/html": [
              "<div>\n",
              "<style scoped>\n",
              "    .dataframe tbody tr th:only-of-type {\n",
              "        vertical-align: middle;\n",
              "    }\n",
              "\n",
              "    .dataframe tbody tr th {\n",
              "        vertical-align: top;\n",
              "    }\n",
              "\n",
              "    .dataframe thead th {\n",
              "        text-align: right;\n",
              "    }\n",
              "</style>\n",
              "<table border=\"1\" class=\"dataframe\">\n",
              "  <thead>\n",
              "    <tr style=\"text-align: right;\">\n",
              "      <th></th>\n",
              "      <th>site_id</th>\n",
              "      <th>timestamp</th>\n",
              "      <th>air_temperature</th>\n",
              "      <th>dew_temperature</th>\n",
              "      <th>wind_speed</th>\n",
              "    </tr>\n",
              "  </thead>\n",
              "  <tbody>\n",
              "    <tr>\n",
              "      <th>0</th>\n",
              "      <td>0</td>\n",
              "      <td>2016-01-01 00:00:00</td>\n",
              "      <td>25.0</td>\n",
              "      <td>20.0</td>\n",
              "      <td>0.0</td>\n",
              "    </tr>\n",
              "    <tr>\n",
              "      <th>1</th>\n",
              "      <td>0</td>\n",
              "      <td>2016-01-01 01:00:00</td>\n",
              "      <td>24.4</td>\n",
              "      <td>21.1</td>\n",
              "      <td>1.5</td>\n",
              "    </tr>\n",
              "    <tr>\n",
              "      <th>2</th>\n",
              "      <td>0</td>\n",
              "      <td>2016-01-01 02:00:00</td>\n",
              "      <td>22.8</td>\n",
              "      <td>21.1</td>\n",
              "      <td>0.0</td>\n",
              "    </tr>\n",
              "    <tr>\n",
              "      <th>3</th>\n",
              "      <td>0</td>\n",
              "      <td>2016-01-01 03:00:00</td>\n",
              "      <td>21.1</td>\n",
              "      <td>20.6</td>\n",
              "      <td>0.0</td>\n",
              "    </tr>\n",
              "    <tr>\n",
              "      <th>4</th>\n",
              "      <td>0</td>\n",
              "      <td>2016-01-01 04:00:00</td>\n",
              "      <td>20.0</td>\n",
              "      <td>20.0</td>\n",
              "      <td>2.6</td>\n",
              "    </tr>\n",
              "    <tr>\n",
              "      <th>5</th>\n",
              "      <td>0</td>\n",
              "      <td>2016-01-01 05:00:00</td>\n",
              "      <td>19.4</td>\n",
              "      <td>19.4</td>\n",
              "      <td>0.0</td>\n",
              "    </tr>\n",
              "    <tr>\n",
              "      <th>6</th>\n",
              "      <td>0</td>\n",
              "      <td>2016-01-01 06:00:00</td>\n",
              "      <td>21.1</td>\n",
              "      <td>21.1</td>\n",
              "      <td>0.0</td>\n",
              "    </tr>\n",
              "    <tr>\n",
              "      <th>7</th>\n",
              "      <td>0</td>\n",
              "      <td>2016-01-01 07:00:00</td>\n",
              "      <td>21.1</td>\n",
              "      <td>21.1</td>\n",
              "      <td>1.5</td>\n",
              "    </tr>\n",
              "    <tr>\n",
              "      <th>8</th>\n",
              "      <td>0</td>\n",
              "      <td>2016-01-01 08:00:00</td>\n",
              "      <td>20.6</td>\n",
              "      <td>20.0</td>\n",
              "      <td>0.0</td>\n",
              "    </tr>\n",
              "    <tr>\n",
              "      <th>9</th>\n",
              "      <td>0</td>\n",
              "      <td>2016-01-01 09:00:00</td>\n",
              "      <td>21.1</td>\n",
              "      <td>20.6</td>\n",
              "      <td>1.5</td>\n",
              "    </tr>\n",
              "  </tbody>\n",
              "</table>\n",
              "</div>"
            ],
            "text/plain": [
              "   site_id            timestamp  air_temperature  dew_temperature  wind_speed\n",
              "0        0  2016-01-01 00:00:00             25.0             20.0         0.0\n",
              "1        0  2016-01-01 01:00:00             24.4             21.1         1.5\n",
              "2        0  2016-01-01 02:00:00             22.8             21.1         0.0\n",
              "3        0  2016-01-01 03:00:00             21.1             20.6         0.0\n",
              "4        0  2016-01-01 04:00:00             20.0             20.0         2.6\n",
              "5        0  2016-01-01 05:00:00             19.4             19.4         0.0\n",
              "6        0  2016-01-01 06:00:00             21.1             21.1         0.0\n",
              "7        0  2016-01-01 07:00:00             21.1             21.1         1.5\n",
              "8        0  2016-01-01 08:00:00             20.6             20.0         0.0\n",
              "9        0  2016-01-01 09:00:00             21.1             20.6         1.5"
            ]
          },
          "metadata": {
            "tags": []
          },
          "execution_count": 23
        }
      ]
    },
    {
      "cell_type": "code",
      "metadata": {
        "id": "Wy7p4u18YYP2",
        "colab_type": "code",
        "outputId": "2aafaca1-5c2f-4dc0-dc23-822140b1975b",
        "colab": {
          "base_uri": "https://localhost:8080/",
          "height": 102
        }
      },
      "source": [
        "train.isna().sum()"
      ],
      "execution_count": 0,
      "outputs": [
        {
          "output_type": "execute_result",
          "data": {
            "text/plain": [
              "building_id      0\n",
              "meter            0\n",
              "timestamp        0\n",
              "meter_reading    0\n",
              "dtype: int64"
            ]
          },
          "metadata": {
            "tags": []
          },
          "execution_count": 24
        }
      ]
    },
    {
      "cell_type": "code",
      "metadata": {
        "id": "_rpjnMjvYYP5",
        "colab_type": "code",
        "outputId": "c07e4731-81a4-4bdb-a76f-4dbe4baa9e05",
        "colab": {
          "base_uri": "https://localhost:8080/",
          "height": 483
        }
      },
      "source": [
        "train.head(14)"
      ],
      "execution_count": 0,
      "outputs": [
        {
          "output_type": "execute_result",
          "data": {
            "text/html": [
              "<div>\n",
              "<style scoped>\n",
              "    .dataframe tbody tr th:only-of-type {\n",
              "        vertical-align: middle;\n",
              "    }\n",
              "\n",
              "    .dataframe tbody tr th {\n",
              "        vertical-align: top;\n",
              "    }\n",
              "\n",
              "    .dataframe thead th {\n",
              "        text-align: right;\n",
              "    }\n",
              "</style>\n",
              "<table border=\"1\" class=\"dataframe\">\n",
              "  <thead>\n",
              "    <tr style=\"text-align: right;\">\n",
              "      <th></th>\n",
              "      <th>building_id</th>\n",
              "      <th>meter</th>\n",
              "      <th>timestamp</th>\n",
              "      <th>meter_reading</th>\n",
              "    </tr>\n",
              "  </thead>\n",
              "  <tbody>\n",
              "    <tr>\n",
              "      <th>0</th>\n",
              "      <td>0</td>\n",
              "      <td>0</td>\n",
              "      <td>2016-01-01 00:00:00</td>\n",
              "      <td>0.0</td>\n",
              "    </tr>\n",
              "    <tr>\n",
              "      <th>1</th>\n",
              "      <td>1</td>\n",
              "      <td>0</td>\n",
              "      <td>2016-01-01 00:00:00</td>\n",
              "      <td>0.0</td>\n",
              "    </tr>\n",
              "    <tr>\n",
              "      <th>2</th>\n",
              "      <td>2</td>\n",
              "      <td>0</td>\n",
              "      <td>2016-01-01 00:00:00</td>\n",
              "      <td>0.0</td>\n",
              "    </tr>\n",
              "    <tr>\n",
              "      <th>3</th>\n",
              "      <td>3</td>\n",
              "      <td>0</td>\n",
              "      <td>2016-01-01 00:00:00</td>\n",
              "      <td>0.0</td>\n",
              "    </tr>\n",
              "    <tr>\n",
              "      <th>4</th>\n",
              "      <td>4</td>\n",
              "      <td>0</td>\n",
              "      <td>2016-01-01 00:00:00</td>\n",
              "      <td>0.0</td>\n",
              "    </tr>\n",
              "    <tr>\n",
              "      <th>5</th>\n",
              "      <td>5</td>\n",
              "      <td>0</td>\n",
              "      <td>2016-01-01 00:00:00</td>\n",
              "      <td>0.0</td>\n",
              "    </tr>\n",
              "    <tr>\n",
              "      <th>6</th>\n",
              "      <td>6</td>\n",
              "      <td>0</td>\n",
              "      <td>2016-01-01 00:00:00</td>\n",
              "      <td>0.0</td>\n",
              "    </tr>\n",
              "    <tr>\n",
              "      <th>7</th>\n",
              "      <td>7</td>\n",
              "      <td>0</td>\n",
              "      <td>2016-01-01 00:00:00</td>\n",
              "      <td>0.0</td>\n",
              "    </tr>\n",
              "    <tr>\n",
              "      <th>8</th>\n",
              "      <td>8</td>\n",
              "      <td>0</td>\n",
              "      <td>2016-01-01 00:00:00</td>\n",
              "      <td>0.0</td>\n",
              "    </tr>\n",
              "    <tr>\n",
              "      <th>9</th>\n",
              "      <td>9</td>\n",
              "      <td>0</td>\n",
              "      <td>2016-01-01 00:00:00</td>\n",
              "      <td>0.0</td>\n",
              "    </tr>\n",
              "    <tr>\n",
              "      <th>10</th>\n",
              "      <td>10</td>\n",
              "      <td>0</td>\n",
              "      <td>2016-01-01 00:00:00</td>\n",
              "      <td>0.0</td>\n",
              "    </tr>\n",
              "    <tr>\n",
              "      <th>11</th>\n",
              "      <td>11</td>\n",
              "      <td>0</td>\n",
              "      <td>2016-01-01 00:00:00</td>\n",
              "      <td>0.0</td>\n",
              "    </tr>\n",
              "    <tr>\n",
              "      <th>12</th>\n",
              "      <td>12</td>\n",
              "      <td>0</td>\n",
              "      <td>2016-01-01 00:00:00</td>\n",
              "      <td>0.0</td>\n",
              "    </tr>\n",
              "    <tr>\n",
              "      <th>13</th>\n",
              "      <td>13</td>\n",
              "      <td>0</td>\n",
              "      <td>2016-01-01 00:00:00</td>\n",
              "      <td>0.0</td>\n",
              "    </tr>\n",
              "  </tbody>\n",
              "</table>\n",
              "</div>"
            ],
            "text/plain": [
              "    building_id  meter            timestamp  meter_reading\n",
              "0             0      0  2016-01-01 00:00:00            0.0\n",
              "1             1      0  2016-01-01 00:00:00            0.0\n",
              "2             2      0  2016-01-01 00:00:00            0.0\n",
              "3             3      0  2016-01-01 00:00:00            0.0\n",
              "4             4      0  2016-01-01 00:00:00            0.0\n",
              "5             5      0  2016-01-01 00:00:00            0.0\n",
              "6             6      0  2016-01-01 00:00:00            0.0\n",
              "7             7      0  2016-01-01 00:00:00            0.0\n",
              "8             8      0  2016-01-01 00:00:00            0.0\n",
              "9             9      0  2016-01-01 00:00:00            0.0\n",
              "10           10      0  2016-01-01 00:00:00            0.0\n",
              "11           11      0  2016-01-01 00:00:00            0.0\n",
              "12           12      0  2016-01-01 00:00:00            0.0\n",
              "13           13      0  2016-01-01 00:00:00            0.0"
            ]
          },
          "metadata": {
            "tags": []
          },
          "execution_count": 25
        }
      ]
    },
    {
      "cell_type": "code",
      "metadata": {
        "id": "BLLql60wYYP9",
        "colab_type": "code",
        "outputId": "a68b9614-916a-4f00-8c65-c20d5940b927",
        "colab": {
          "base_uri": "https://localhost:8080/",
          "height": 359
        }
      },
      "source": [
        "new_building_metadata.head(10)"
      ],
      "execution_count": 0,
      "outputs": [
        {
          "output_type": "execute_result",
          "data": {
            "text/html": [
              "<div>\n",
              "<style scoped>\n",
              "    .dataframe tbody tr th:only-of-type {\n",
              "        vertical-align: middle;\n",
              "    }\n",
              "\n",
              "    .dataframe tbody tr th {\n",
              "        vertical-align: top;\n",
              "    }\n",
              "\n",
              "    .dataframe thead th {\n",
              "        text-align: right;\n",
              "    }\n",
              "</style>\n",
              "<table border=\"1\" class=\"dataframe\">\n",
              "  <thead>\n",
              "    <tr style=\"text-align: right;\">\n",
              "      <th></th>\n",
              "      <th>site_id</th>\n",
              "      <th>building_id</th>\n",
              "      <th>primary_use</th>\n",
              "      <th>square_feet</th>\n",
              "    </tr>\n",
              "  </thead>\n",
              "  <tbody>\n",
              "    <tr>\n",
              "      <th>0</th>\n",
              "      <td>0</td>\n",
              "      <td>0</td>\n",
              "      <td>Education</td>\n",
              "      <td>7432</td>\n",
              "    </tr>\n",
              "    <tr>\n",
              "      <th>1</th>\n",
              "      <td>0</td>\n",
              "      <td>1</td>\n",
              "      <td>Education</td>\n",
              "      <td>2720</td>\n",
              "    </tr>\n",
              "    <tr>\n",
              "      <th>2</th>\n",
              "      <td>0</td>\n",
              "      <td>2</td>\n",
              "      <td>Education</td>\n",
              "      <td>5376</td>\n",
              "    </tr>\n",
              "    <tr>\n",
              "      <th>3</th>\n",
              "      <td>0</td>\n",
              "      <td>3</td>\n",
              "      <td>Education</td>\n",
              "      <td>23685</td>\n",
              "    </tr>\n",
              "    <tr>\n",
              "      <th>4</th>\n",
              "      <td>0</td>\n",
              "      <td>4</td>\n",
              "      <td>Education</td>\n",
              "      <td>116607</td>\n",
              "    </tr>\n",
              "    <tr>\n",
              "      <th>5</th>\n",
              "      <td>0</td>\n",
              "      <td>5</td>\n",
              "      <td>Education</td>\n",
              "      <td>8000</td>\n",
              "    </tr>\n",
              "    <tr>\n",
              "      <th>6</th>\n",
              "      <td>0</td>\n",
              "      <td>6</td>\n",
              "      <td>Lodging/residential</td>\n",
              "      <td>27926</td>\n",
              "    </tr>\n",
              "    <tr>\n",
              "      <th>7</th>\n",
              "      <td>0</td>\n",
              "      <td>7</td>\n",
              "      <td>Education</td>\n",
              "      <td>121074</td>\n",
              "    </tr>\n",
              "    <tr>\n",
              "      <th>8</th>\n",
              "      <td>0</td>\n",
              "      <td>8</td>\n",
              "      <td>Education</td>\n",
              "      <td>60809</td>\n",
              "    </tr>\n",
              "    <tr>\n",
              "      <th>9</th>\n",
              "      <td>0</td>\n",
              "      <td>9</td>\n",
              "      <td>Office</td>\n",
              "      <td>27000</td>\n",
              "    </tr>\n",
              "  </tbody>\n",
              "</table>\n",
              "</div>"
            ],
            "text/plain": [
              "   site_id  building_id          primary_use  square_feet\n",
              "0        0            0            Education         7432\n",
              "1        0            1            Education         2720\n",
              "2        0            2            Education         5376\n",
              "3        0            3            Education        23685\n",
              "4        0            4            Education       116607\n",
              "5        0            5            Education         8000\n",
              "6        0            6  Lodging/residential        27926\n",
              "7        0            7            Education       121074\n",
              "8        0            8            Education        60809\n",
              "9        0            9               Office        27000"
            ]
          },
          "metadata": {
            "tags": []
          },
          "execution_count": 26
        }
      ]
    },
    {
      "cell_type": "code",
      "metadata": {
        "id": "bHsXQftuYYP_",
        "colab_type": "code",
        "colab": {}
      },
      "source": [
        ""
      ],
      "execution_count": 0,
      "outputs": []
    },
    {
      "cell_type": "code",
      "metadata": {
        "id": "MHPyKPe8YYQC",
        "colab_type": "code",
        "outputId": "399a4d59-6e67-4d4d-9eb6-2c6f91b3ac4a",
        "colab": {
          "base_uri": "https://localhost:8080/",
          "height": 306
        }
      },
      "source": [
        "new_building_metadata.primary_use.value_counts()"
      ],
      "execution_count": 0,
      "outputs": [
        {
          "output_type": "execute_result",
          "data": {
            "text/plain": [
              "Education                        549\n",
              "Office                           279\n",
              "Entertainment/public assembly    184\n",
              "Public services                  156\n",
              "Lodging/residential              147\n",
              "Other                             25\n",
              "Healthcare                        23\n",
              "Parking                           22\n",
              "Warehouse/storage                 13\n",
              "Manufacturing/industrial          12\n",
              "Retail                            11\n",
              "Services                          10\n",
              "Technology/science                 6\n",
              "Food sales and service             5\n",
              "Utility                            4\n",
              "Religious worship                  3\n",
              "Name: primary_use, dtype: int64"
            ]
          },
          "metadata": {
            "tags": []
          },
          "execution_count": 27
        }
      ]
    },
    {
      "cell_type": "markdown",
      "metadata": {
        "id": "2qxWcFWsbSaA",
        "colab_type": "text"
      },
      "source": [
        "##**concatenate all attributes in one dataframe (train)**"
      ]
    },
    {
      "cell_type": "code",
      "metadata": {
        "id": "1FbLGsBLYYQo",
        "colab_type": "code",
        "colab": {}
      },
      "source": [
        "new_building_metadata_building_id = new_building_metadata['building_id'].to_list()\n",
        "train_building_id = train['building_id'].to_list()"
      ],
      "execution_count": 0,
      "outputs": []
    },
    {
      "cell_type": "code",
      "metadata": {
        "id": "ehOhXBlbYYQq",
        "colab_type": "code",
        "colab": {}
      },
      "source": [
        "new_building_metadata_square_feet = new_building_metadata['square_feet'].to_list()"
      ],
      "execution_count": 0,
      "outputs": []
    },
    {
      "cell_type": "code",
      "metadata": {
        "id": "7f7ynmfVYYQw",
        "colab_type": "code",
        "colab": {}
      },
      "source": [
        "train_square_feet = []\n",
        "for i in range(len(train_building_id)):\n",
        "    train_square_feet.append(new_building_metadata_square_feet[train_building_id[i]])\n",
        "   "
      ],
      "execution_count": 0,
      "outputs": []
    },
    {
      "cell_type": "code",
      "metadata": {
        "id": "M_pG0h90YYQ7",
        "colab_type": "code",
        "outputId": "da536ec2-8be7-4cb0-fadf-0d72f2cee45d",
        "colab": {
          "base_uri": "https://localhost:8080/",
          "height": 34
        }
      },
      "source": [
        "train_square_feet[0]"
      ],
      "execution_count": 0,
      "outputs": [
        {
          "output_type": "execute_result",
          "data": {
            "text/plain": [
              "7432"
            ]
          },
          "metadata": {
            "tags": []
          },
          "execution_count": 31
        }
      ]
    },
    {
      "cell_type": "code",
      "metadata": {
        "scrolled": true,
        "id": "ouKB8eoJYYRD",
        "colab_type": "code",
        "outputId": "a75a1b83-4c7c-414e-8ae6-5b197de7b97a",
        "colab": {
          "base_uri": "https://localhost:8080/",
          "height": 359
        }
      },
      "source": [
        "new_building_metadata.head(10)"
      ],
      "execution_count": 0,
      "outputs": [
        {
          "output_type": "execute_result",
          "data": {
            "text/html": [
              "<div>\n",
              "<style scoped>\n",
              "    .dataframe tbody tr th:only-of-type {\n",
              "        vertical-align: middle;\n",
              "    }\n",
              "\n",
              "    .dataframe tbody tr th {\n",
              "        vertical-align: top;\n",
              "    }\n",
              "\n",
              "    .dataframe thead th {\n",
              "        text-align: right;\n",
              "    }\n",
              "</style>\n",
              "<table border=\"1\" class=\"dataframe\">\n",
              "  <thead>\n",
              "    <tr style=\"text-align: right;\">\n",
              "      <th></th>\n",
              "      <th>site_id</th>\n",
              "      <th>building_id</th>\n",
              "      <th>primary_use</th>\n",
              "      <th>square_feet</th>\n",
              "    </tr>\n",
              "  </thead>\n",
              "  <tbody>\n",
              "    <tr>\n",
              "      <th>0</th>\n",
              "      <td>0</td>\n",
              "      <td>0</td>\n",
              "      <td>Education</td>\n",
              "      <td>7432</td>\n",
              "    </tr>\n",
              "    <tr>\n",
              "      <th>1</th>\n",
              "      <td>0</td>\n",
              "      <td>1</td>\n",
              "      <td>Education</td>\n",
              "      <td>2720</td>\n",
              "    </tr>\n",
              "    <tr>\n",
              "      <th>2</th>\n",
              "      <td>0</td>\n",
              "      <td>2</td>\n",
              "      <td>Education</td>\n",
              "      <td>5376</td>\n",
              "    </tr>\n",
              "    <tr>\n",
              "      <th>3</th>\n",
              "      <td>0</td>\n",
              "      <td>3</td>\n",
              "      <td>Education</td>\n",
              "      <td>23685</td>\n",
              "    </tr>\n",
              "    <tr>\n",
              "      <th>4</th>\n",
              "      <td>0</td>\n",
              "      <td>4</td>\n",
              "      <td>Education</td>\n",
              "      <td>116607</td>\n",
              "    </tr>\n",
              "    <tr>\n",
              "      <th>5</th>\n",
              "      <td>0</td>\n",
              "      <td>5</td>\n",
              "      <td>Education</td>\n",
              "      <td>8000</td>\n",
              "    </tr>\n",
              "    <tr>\n",
              "      <th>6</th>\n",
              "      <td>0</td>\n",
              "      <td>6</td>\n",
              "      <td>Lodging/residential</td>\n",
              "      <td>27926</td>\n",
              "    </tr>\n",
              "    <tr>\n",
              "      <th>7</th>\n",
              "      <td>0</td>\n",
              "      <td>7</td>\n",
              "      <td>Education</td>\n",
              "      <td>121074</td>\n",
              "    </tr>\n",
              "    <tr>\n",
              "      <th>8</th>\n",
              "      <td>0</td>\n",
              "      <td>8</td>\n",
              "      <td>Education</td>\n",
              "      <td>60809</td>\n",
              "    </tr>\n",
              "    <tr>\n",
              "      <th>9</th>\n",
              "      <td>0</td>\n",
              "      <td>9</td>\n",
              "      <td>Office</td>\n",
              "      <td>27000</td>\n",
              "    </tr>\n",
              "  </tbody>\n",
              "</table>\n",
              "</div>"
            ],
            "text/plain": [
              "   site_id  building_id          primary_use  square_feet\n",
              "0        0            0            Education         7432\n",
              "1        0            1            Education         2720\n",
              "2        0            2            Education         5376\n",
              "3        0            3            Education        23685\n",
              "4        0            4            Education       116607\n",
              "5        0            5            Education         8000\n",
              "6        0            6  Lodging/residential        27926\n",
              "7        0            7            Education       121074\n",
              "8        0            8            Education        60809\n",
              "9        0            9               Office        27000"
            ]
          },
          "metadata": {
            "tags": []
          },
          "execution_count": 32
        }
      ]
    },
    {
      "cell_type": "code",
      "metadata": {
        "id": "P1uOiUBEYYRJ",
        "colab_type": "code",
        "outputId": "ba0f1e85-d516-4b54-c0e2-0975467d2451",
        "colab": {
          "base_uri": "https://localhost:8080/",
          "height": 359
        }
      },
      "source": [
        "train.head(10)"
      ],
      "execution_count": 0,
      "outputs": [
        {
          "output_type": "execute_result",
          "data": {
            "text/html": [
              "<div>\n",
              "<style scoped>\n",
              "    .dataframe tbody tr th:only-of-type {\n",
              "        vertical-align: middle;\n",
              "    }\n",
              "\n",
              "    .dataframe tbody tr th {\n",
              "        vertical-align: top;\n",
              "    }\n",
              "\n",
              "    .dataframe thead th {\n",
              "        text-align: right;\n",
              "    }\n",
              "</style>\n",
              "<table border=\"1\" class=\"dataframe\">\n",
              "  <thead>\n",
              "    <tr style=\"text-align: right;\">\n",
              "      <th></th>\n",
              "      <th>building_id</th>\n",
              "      <th>meter</th>\n",
              "      <th>timestamp</th>\n",
              "      <th>meter_reading</th>\n",
              "    </tr>\n",
              "  </thead>\n",
              "  <tbody>\n",
              "    <tr>\n",
              "      <th>0</th>\n",
              "      <td>0</td>\n",
              "      <td>0</td>\n",
              "      <td>2016-01-01 00:00:00</td>\n",
              "      <td>0.0</td>\n",
              "    </tr>\n",
              "    <tr>\n",
              "      <th>1</th>\n",
              "      <td>1</td>\n",
              "      <td>0</td>\n",
              "      <td>2016-01-01 00:00:00</td>\n",
              "      <td>0.0</td>\n",
              "    </tr>\n",
              "    <tr>\n",
              "      <th>2</th>\n",
              "      <td>2</td>\n",
              "      <td>0</td>\n",
              "      <td>2016-01-01 00:00:00</td>\n",
              "      <td>0.0</td>\n",
              "    </tr>\n",
              "    <tr>\n",
              "      <th>3</th>\n",
              "      <td>3</td>\n",
              "      <td>0</td>\n",
              "      <td>2016-01-01 00:00:00</td>\n",
              "      <td>0.0</td>\n",
              "    </tr>\n",
              "    <tr>\n",
              "      <th>4</th>\n",
              "      <td>4</td>\n",
              "      <td>0</td>\n",
              "      <td>2016-01-01 00:00:00</td>\n",
              "      <td>0.0</td>\n",
              "    </tr>\n",
              "    <tr>\n",
              "      <th>5</th>\n",
              "      <td>5</td>\n",
              "      <td>0</td>\n",
              "      <td>2016-01-01 00:00:00</td>\n",
              "      <td>0.0</td>\n",
              "    </tr>\n",
              "    <tr>\n",
              "      <th>6</th>\n",
              "      <td>6</td>\n",
              "      <td>0</td>\n",
              "      <td>2016-01-01 00:00:00</td>\n",
              "      <td>0.0</td>\n",
              "    </tr>\n",
              "    <tr>\n",
              "      <th>7</th>\n",
              "      <td>7</td>\n",
              "      <td>0</td>\n",
              "      <td>2016-01-01 00:00:00</td>\n",
              "      <td>0.0</td>\n",
              "    </tr>\n",
              "    <tr>\n",
              "      <th>8</th>\n",
              "      <td>8</td>\n",
              "      <td>0</td>\n",
              "      <td>2016-01-01 00:00:00</td>\n",
              "      <td>0.0</td>\n",
              "    </tr>\n",
              "    <tr>\n",
              "      <th>9</th>\n",
              "      <td>9</td>\n",
              "      <td>0</td>\n",
              "      <td>2016-01-01 00:00:00</td>\n",
              "      <td>0.0</td>\n",
              "    </tr>\n",
              "  </tbody>\n",
              "</table>\n",
              "</div>"
            ],
            "text/plain": [
              "   building_id  meter            timestamp  meter_reading\n",
              "0            0      0  2016-01-01 00:00:00            0.0\n",
              "1            1      0  2016-01-01 00:00:00            0.0\n",
              "2            2      0  2016-01-01 00:00:00            0.0\n",
              "3            3      0  2016-01-01 00:00:00            0.0\n",
              "4            4      0  2016-01-01 00:00:00            0.0\n",
              "5            5      0  2016-01-01 00:00:00            0.0\n",
              "6            6      0  2016-01-01 00:00:00            0.0\n",
              "7            7      0  2016-01-01 00:00:00            0.0\n",
              "8            8      0  2016-01-01 00:00:00            0.0\n",
              "9            9      0  2016-01-01 00:00:00            0.0"
            ]
          },
          "metadata": {
            "tags": []
          },
          "execution_count": 33
        }
      ]
    },
    {
      "cell_type": "code",
      "metadata": {
        "id": "Yeb7eUTSYYRQ",
        "colab_type": "code",
        "colab": {}
      },
      "source": [
        "train['square_feet']=train_square_feet"
      ],
      "execution_count": 0,
      "outputs": []
    },
    {
      "cell_type": "code",
      "metadata": {
        "id": "Sf7du3u0YYRS",
        "colab_type": "code",
        "outputId": "21234c0b-7888-4808-9c35-7695000be5d5",
        "colab": {
          "base_uri": "https://localhost:8080/",
          "height": 359
        }
      },
      "source": [
        "train.head(10)"
      ],
      "execution_count": 0,
      "outputs": [
        {
          "output_type": "execute_result",
          "data": {
            "text/html": [
              "<div>\n",
              "<style scoped>\n",
              "    .dataframe tbody tr th:only-of-type {\n",
              "        vertical-align: middle;\n",
              "    }\n",
              "\n",
              "    .dataframe tbody tr th {\n",
              "        vertical-align: top;\n",
              "    }\n",
              "\n",
              "    .dataframe thead th {\n",
              "        text-align: right;\n",
              "    }\n",
              "</style>\n",
              "<table border=\"1\" class=\"dataframe\">\n",
              "  <thead>\n",
              "    <tr style=\"text-align: right;\">\n",
              "      <th></th>\n",
              "      <th>building_id</th>\n",
              "      <th>meter</th>\n",
              "      <th>timestamp</th>\n",
              "      <th>meter_reading</th>\n",
              "      <th>square_feet</th>\n",
              "    </tr>\n",
              "  </thead>\n",
              "  <tbody>\n",
              "    <tr>\n",
              "      <th>0</th>\n",
              "      <td>0</td>\n",
              "      <td>0</td>\n",
              "      <td>2016-01-01 00:00:00</td>\n",
              "      <td>0.0</td>\n",
              "      <td>7432</td>\n",
              "    </tr>\n",
              "    <tr>\n",
              "      <th>1</th>\n",
              "      <td>1</td>\n",
              "      <td>0</td>\n",
              "      <td>2016-01-01 00:00:00</td>\n",
              "      <td>0.0</td>\n",
              "      <td>2720</td>\n",
              "    </tr>\n",
              "    <tr>\n",
              "      <th>2</th>\n",
              "      <td>2</td>\n",
              "      <td>0</td>\n",
              "      <td>2016-01-01 00:00:00</td>\n",
              "      <td>0.0</td>\n",
              "      <td>5376</td>\n",
              "    </tr>\n",
              "    <tr>\n",
              "      <th>3</th>\n",
              "      <td>3</td>\n",
              "      <td>0</td>\n",
              "      <td>2016-01-01 00:00:00</td>\n",
              "      <td>0.0</td>\n",
              "      <td>23685</td>\n",
              "    </tr>\n",
              "    <tr>\n",
              "      <th>4</th>\n",
              "      <td>4</td>\n",
              "      <td>0</td>\n",
              "      <td>2016-01-01 00:00:00</td>\n",
              "      <td>0.0</td>\n",
              "      <td>116607</td>\n",
              "    </tr>\n",
              "    <tr>\n",
              "      <th>5</th>\n",
              "      <td>5</td>\n",
              "      <td>0</td>\n",
              "      <td>2016-01-01 00:00:00</td>\n",
              "      <td>0.0</td>\n",
              "      <td>8000</td>\n",
              "    </tr>\n",
              "    <tr>\n",
              "      <th>6</th>\n",
              "      <td>6</td>\n",
              "      <td>0</td>\n",
              "      <td>2016-01-01 00:00:00</td>\n",
              "      <td>0.0</td>\n",
              "      <td>27926</td>\n",
              "    </tr>\n",
              "    <tr>\n",
              "      <th>7</th>\n",
              "      <td>7</td>\n",
              "      <td>0</td>\n",
              "      <td>2016-01-01 00:00:00</td>\n",
              "      <td>0.0</td>\n",
              "      <td>121074</td>\n",
              "    </tr>\n",
              "    <tr>\n",
              "      <th>8</th>\n",
              "      <td>8</td>\n",
              "      <td>0</td>\n",
              "      <td>2016-01-01 00:00:00</td>\n",
              "      <td>0.0</td>\n",
              "      <td>60809</td>\n",
              "    </tr>\n",
              "    <tr>\n",
              "      <th>9</th>\n",
              "      <td>9</td>\n",
              "      <td>0</td>\n",
              "      <td>2016-01-01 00:00:00</td>\n",
              "      <td>0.0</td>\n",
              "      <td>27000</td>\n",
              "    </tr>\n",
              "  </tbody>\n",
              "</table>\n",
              "</div>"
            ],
            "text/plain": [
              "   building_id  meter            timestamp  meter_reading  square_feet\n",
              "0            0      0  2016-01-01 00:00:00            0.0         7432\n",
              "1            1      0  2016-01-01 00:00:00            0.0         2720\n",
              "2            2      0  2016-01-01 00:00:00            0.0         5376\n",
              "3            3      0  2016-01-01 00:00:00            0.0        23685\n",
              "4            4      0  2016-01-01 00:00:00            0.0       116607\n",
              "5            5      0  2016-01-01 00:00:00            0.0         8000\n",
              "6            6      0  2016-01-01 00:00:00            0.0        27926\n",
              "7            7      0  2016-01-01 00:00:00            0.0       121074\n",
              "8            8      0  2016-01-01 00:00:00            0.0        60809\n",
              "9            9      0  2016-01-01 00:00:00            0.0        27000"
            ]
          },
          "metadata": {
            "tags": []
          },
          "execution_count": 35
        }
      ]
    },
    {
      "cell_type": "code",
      "metadata": {
        "id": "uG8BPVq8YYRV",
        "colab_type": "code",
        "colab": {}
      },
      "source": [
        "new_building_metadata_site_id = new_building_metadata['site_id'].to_list()"
      ],
      "execution_count": 0,
      "outputs": []
    },
    {
      "cell_type": "code",
      "metadata": {
        "id": "SXS-xWyUYYRa",
        "colab_type": "code",
        "outputId": "9d66f1d3-d994-438a-abfc-8e854a6b4848",
        "colab": {
          "base_uri": "https://localhost:8080/",
          "height": 34
        }
      },
      "source": [
        "train_site_id = []\n",
        "for i in range(len(train_building_id)):\n",
        "    train_site_id.append(new_building_metadata_site_id[train_building_id[i]])\n",
        "len(train_site_id)\n",
        "    "
      ],
      "execution_count": 0,
      "outputs": [
        {
          "output_type": "execute_result",
          "data": {
            "text/plain": [
              "20216100"
            ]
          },
          "metadata": {
            "tags": []
          },
          "execution_count": 37
        }
      ]
    },
    {
      "cell_type": "code",
      "metadata": {
        "id": "q0fd2YCTYYRh",
        "colab_type": "code",
        "colab": {}
      },
      "source": [
        "train['site_id'] = train_site_id "
      ],
      "execution_count": 0,
      "outputs": []
    },
    {
      "cell_type": "code",
      "metadata": {
        "id": "r8RiYJzzYYRl",
        "colab_type": "code",
        "outputId": "6778a85e-2c7e-4f2a-d6c8-cd390873849c",
        "colab": {
          "base_uri": "https://localhost:8080/",
          "height": 419
        }
      },
      "source": [
        "train.head(1005)"
      ],
      "execution_count": 0,
      "outputs": [
        {
          "output_type": "execute_result",
          "data": {
            "text/html": [
              "<div>\n",
              "<style scoped>\n",
              "    .dataframe tbody tr th:only-of-type {\n",
              "        vertical-align: middle;\n",
              "    }\n",
              "\n",
              "    .dataframe tbody tr th {\n",
              "        vertical-align: top;\n",
              "    }\n",
              "\n",
              "    .dataframe thead th {\n",
              "        text-align: right;\n",
              "    }\n",
              "</style>\n",
              "<table border=\"1\" class=\"dataframe\">\n",
              "  <thead>\n",
              "    <tr style=\"text-align: right;\">\n",
              "      <th></th>\n",
              "      <th>building_id</th>\n",
              "      <th>meter</th>\n",
              "      <th>timestamp</th>\n",
              "      <th>meter_reading</th>\n",
              "      <th>square_feet</th>\n",
              "      <th>site_id</th>\n",
              "    </tr>\n",
              "  </thead>\n",
              "  <tbody>\n",
              "    <tr>\n",
              "      <th>0</th>\n",
              "      <td>0</td>\n",
              "      <td>0</td>\n",
              "      <td>2016-01-01 00:00:00</td>\n",
              "      <td>0.0000</td>\n",
              "      <td>7432</td>\n",
              "      <td>0</td>\n",
              "    </tr>\n",
              "    <tr>\n",
              "      <th>1</th>\n",
              "      <td>1</td>\n",
              "      <td>0</td>\n",
              "      <td>2016-01-01 00:00:00</td>\n",
              "      <td>0.0000</td>\n",
              "      <td>2720</td>\n",
              "      <td>0</td>\n",
              "    </tr>\n",
              "    <tr>\n",
              "      <th>2</th>\n",
              "      <td>2</td>\n",
              "      <td>0</td>\n",
              "      <td>2016-01-01 00:00:00</td>\n",
              "      <td>0.0000</td>\n",
              "      <td>5376</td>\n",
              "      <td>0</td>\n",
              "    </tr>\n",
              "    <tr>\n",
              "      <th>3</th>\n",
              "      <td>3</td>\n",
              "      <td>0</td>\n",
              "      <td>2016-01-01 00:00:00</td>\n",
              "      <td>0.0000</td>\n",
              "      <td>23685</td>\n",
              "      <td>0</td>\n",
              "    </tr>\n",
              "    <tr>\n",
              "      <th>4</th>\n",
              "      <td>4</td>\n",
              "      <td>0</td>\n",
              "      <td>2016-01-01 00:00:00</td>\n",
              "      <td>0.0000</td>\n",
              "      <td>116607</td>\n",
              "      <td>0</td>\n",
              "    </tr>\n",
              "    <tr>\n",
              "      <th>...</th>\n",
              "      <td>...</td>\n",
              "      <td>...</td>\n",
              "      <td>...</td>\n",
              "      <td>...</td>\n",
              "      <td>...</td>\n",
              "      <td>...</td>\n",
              "    </tr>\n",
              "    <tr>\n",
              "      <th>1000</th>\n",
              "      <td>803</td>\n",
              "      <td>2</td>\n",
              "      <td>2016-01-01 00:00:00</td>\n",
              "      <td>2154.9100</td>\n",
              "      <td>182986</td>\n",
              "      <td>7</td>\n",
              "    </tr>\n",
              "    <tr>\n",
              "      <th>1001</th>\n",
              "      <td>804</td>\n",
              "      <td>0</td>\n",
              "      <td>2016-01-01 00:00:00</td>\n",
              "      <td>368.5830</td>\n",
              "      <td>175618</td>\n",
              "      <td>8</td>\n",
              "    </tr>\n",
              "    <tr>\n",
              "      <th>1002</th>\n",
              "      <td>805</td>\n",
              "      <td>0</td>\n",
              "      <td>2016-01-01 00:00:00</td>\n",
              "      <td>5.2500</td>\n",
              "      <td>3200</td>\n",
              "      <td>8</td>\n",
              "    </tr>\n",
              "    <tr>\n",
              "      <th>1003</th>\n",
              "      <td>806</td>\n",
              "      <td>0</td>\n",
              "      <td>2016-01-01 00:00:00</td>\n",
              "      <td>8.0833</td>\n",
              "      <td>28693</td>\n",
              "      <td>8</td>\n",
              "    </tr>\n",
              "    <tr>\n",
              "      <th>1004</th>\n",
              "      <td>807</td>\n",
              "      <td>0</td>\n",
              "      <td>2016-01-01 00:00:00</td>\n",
              "      <td>2.7917</td>\n",
              "      <td>3000</td>\n",
              "      <td>8</td>\n",
              "    </tr>\n",
              "  </tbody>\n",
              "</table>\n",
              "<p>1005 rows × 6 columns</p>\n",
              "</div>"
            ],
            "text/plain": [
              "      building_id  meter  ... square_feet  site_id\n",
              "0               0      0  ...        7432        0\n",
              "1               1      0  ...        2720        0\n",
              "2               2      0  ...        5376        0\n",
              "3               3      0  ...       23685        0\n",
              "4               4      0  ...      116607        0\n",
              "...           ...    ...  ...         ...      ...\n",
              "1000          803      2  ...      182986        7\n",
              "1001          804      0  ...      175618        8\n",
              "1002          805      0  ...        3200        8\n",
              "1003          806      0  ...       28693        8\n",
              "1004          807      0  ...        3000        8\n",
              "\n",
              "[1005 rows x 6 columns]"
            ]
          },
          "metadata": {
            "tags": []
          },
          "execution_count": 39
        }
      ]
    },
    {
      "cell_type": "code",
      "metadata": {
        "id": "l6UL3ezYYYRo",
        "colab_type": "code",
        "outputId": "e70ae6a9-abf0-495c-b8c4-fd0a05100c67",
        "colab": {
          "base_uri": "https://localhost:8080/",
          "height": 359
        }
      },
      "source": [
        "new_building_metadata.head(10)"
      ],
      "execution_count": 0,
      "outputs": [
        {
          "output_type": "execute_result",
          "data": {
            "text/html": [
              "<div>\n",
              "<style scoped>\n",
              "    .dataframe tbody tr th:only-of-type {\n",
              "        vertical-align: middle;\n",
              "    }\n",
              "\n",
              "    .dataframe tbody tr th {\n",
              "        vertical-align: top;\n",
              "    }\n",
              "\n",
              "    .dataframe thead th {\n",
              "        text-align: right;\n",
              "    }\n",
              "</style>\n",
              "<table border=\"1\" class=\"dataframe\">\n",
              "  <thead>\n",
              "    <tr style=\"text-align: right;\">\n",
              "      <th></th>\n",
              "      <th>site_id</th>\n",
              "      <th>building_id</th>\n",
              "      <th>primary_use</th>\n",
              "      <th>square_feet</th>\n",
              "    </tr>\n",
              "  </thead>\n",
              "  <tbody>\n",
              "    <tr>\n",
              "      <th>0</th>\n",
              "      <td>0</td>\n",
              "      <td>0</td>\n",
              "      <td>Education</td>\n",
              "      <td>7432</td>\n",
              "    </tr>\n",
              "    <tr>\n",
              "      <th>1</th>\n",
              "      <td>0</td>\n",
              "      <td>1</td>\n",
              "      <td>Education</td>\n",
              "      <td>2720</td>\n",
              "    </tr>\n",
              "    <tr>\n",
              "      <th>2</th>\n",
              "      <td>0</td>\n",
              "      <td>2</td>\n",
              "      <td>Education</td>\n",
              "      <td>5376</td>\n",
              "    </tr>\n",
              "    <tr>\n",
              "      <th>3</th>\n",
              "      <td>0</td>\n",
              "      <td>3</td>\n",
              "      <td>Education</td>\n",
              "      <td>23685</td>\n",
              "    </tr>\n",
              "    <tr>\n",
              "      <th>4</th>\n",
              "      <td>0</td>\n",
              "      <td>4</td>\n",
              "      <td>Education</td>\n",
              "      <td>116607</td>\n",
              "    </tr>\n",
              "    <tr>\n",
              "      <th>5</th>\n",
              "      <td>0</td>\n",
              "      <td>5</td>\n",
              "      <td>Education</td>\n",
              "      <td>8000</td>\n",
              "    </tr>\n",
              "    <tr>\n",
              "      <th>6</th>\n",
              "      <td>0</td>\n",
              "      <td>6</td>\n",
              "      <td>Lodging/residential</td>\n",
              "      <td>27926</td>\n",
              "    </tr>\n",
              "    <tr>\n",
              "      <th>7</th>\n",
              "      <td>0</td>\n",
              "      <td>7</td>\n",
              "      <td>Education</td>\n",
              "      <td>121074</td>\n",
              "    </tr>\n",
              "    <tr>\n",
              "      <th>8</th>\n",
              "      <td>0</td>\n",
              "      <td>8</td>\n",
              "      <td>Education</td>\n",
              "      <td>60809</td>\n",
              "    </tr>\n",
              "    <tr>\n",
              "      <th>9</th>\n",
              "      <td>0</td>\n",
              "      <td>9</td>\n",
              "      <td>Office</td>\n",
              "      <td>27000</td>\n",
              "    </tr>\n",
              "  </tbody>\n",
              "</table>\n",
              "</div>"
            ],
            "text/plain": [
              "   site_id  building_id          primary_use  square_feet\n",
              "0        0            0            Education         7432\n",
              "1        0            1            Education         2720\n",
              "2        0            2            Education         5376\n",
              "3        0            3            Education        23685\n",
              "4        0            4            Education       116607\n",
              "5        0            5            Education         8000\n",
              "6        0            6  Lodging/residential        27926\n",
              "7        0            7            Education       121074\n",
              "8        0            8            Education        60809\n",
              "9        0            9               Office        27000"
            ]
          },
          "metadata": {
            "tags": []
          },
          "execution_count": 40
        }
      ]
    },
    {
      "cell_type": "code",
      "metadata": {
        "id": "eIG9bggkYYRs",
        "colab_type": "code",
        "colab": {}
      },
      "source": [
        "new_building_metadata_primary_use = new_building_metadata['primary_use'].to_list()"
      ],
      "execution_count": 0,
      "outputs": []
    },
    {
      "cell_type": "code",
      "metadata": {
        "id": "JEWraut9YYRw",
        "colab_type": "code",
        "outputId": "b0843a25-609b-4992-c48d-cebb9e28ff92",
        "colab": {
          "base_uri": "https://localhost:8080/",
          "height": 34
        }
      },
      "source": [
        "train_primary_use = []\n",
        "for i in range(len(train_building_id)):\n",
        "    train_primary_use.append(new_building_metadata_primary_use[train_building_id[i]])\n",
        "len(train_primary_use)"
      ],
      "execution_count": 0,
      "outputs": [
        {
          "output_type": "execute_result",
          "data": {
            "text/plain": [
              "20216100"
            ]
          },
          "metadata": {
            "tags": []
          },
          "execution_count": 42
        }
      ]
    },
    {
      "cell_type": "code",
      "metadata": {
        "id": "AcUQsqolYYRz",
        "colab_type": "code",
        "colab": {}
      },
      "source": [
        "train['primary_use']=train_primary_use\n",
        "train_building_id = []\n",
        "train_primary_use = []\n",
        "train_site_id = []\n",
        "train_square_feet = []\n",
        "\n",
        "\n"
      ],
      "execution_count": 0,
      "outputs": []
    },
    {
      "cell_type": "code",
      "metadata": {
        "id": "cR8bcfdKYYSM",
        "colab_type": "code",
        "outputId": "f63f6220-e629-4bd7-a70c-5db1646ff5f3",
        "colab": {
          "base_uri": "https://localhost:8080/",
          "height": 359
        }
      },
      "source": [
        "train.head(10)"
      ],
      "execution_count": 0,
      "outputs": [
        {
          "output_type": "execute_result",
          "data": {
            "text/html": [
              "<div>\n",
              "<style scoped>\n",
              "    .dataframe tbody tr th:only-of-type {\n",
              "        vertical-align: middle;\n",
              "    }\n",
              "\n",
              "    .dataframe tbody tr th {\n",
              "        vertical-align: top;\n",
              "    }\n",
              "\n",
              "    .dataframe thead th {\n",
              "        text-align: right;\n",
              "    }\n",
              "</style>\n",
              "<table border=\"1\" class=\"dataframe\">\n",
              "  <thead>\n",
              "    <tr style=\"text-align: right;\">\n",
              "      <th></th>\n",
              "      <th>building_id</th>\n",
              "      <th>meter</th>\n",
              "      <th>timestamp</th>\n",
              "      <th>meter_reading</th>\n",
              "      <th>square_feet</th>\n",
              "      <th>site_id</th>\n",
              "      <th>primary_use</th>\n",
              "    </tr>\n",
              "  </thead>\n",
              "  <tbody>\n",
              "    <tr>\n",
              "      <th>0</th>\n",
              "      <td>0</td>\n",
              "      <td>0</td>\n",
              "      <td>2016-01-01 00:00:00</td>\n",
              "      <td>0.0</td>\n",
              "      <td>7432</td>\n",
              "      <td>0</td>\n",
              "      <td>Education</td>\n",
              "    </tr>\n",
              "    <tr>\n",
              "      <th>1</th>\n",
              "      <td>1</td>\n",
              "      <td>0</td>\n",
              "      <td>2016-01-01 00:00:00</td>\n",
              "      <td>0.0</td>\n",
              "      <td>2720</td>\n",
              "      <td>0</td>\n",
              "      <td>Education</td>\n",
              "    </tr>\n",
              "    <tr>\n",
              "      <th>2</th>\n",
              "      <td>2</td>\n",
              "      <td>0</td>\n",
              "      <td>2016-01-01 00:00:00</td>\n",
              "      <td>0.0</td>\n",
              "      <td>5376</td>\n",
              "      <td>0</td>\n",
              "      <td>Education</td>\n",
              "    </tr>\n",
              "    <tr>\n",
              "      <th>3</th>\n",
              "      <td>3</td>\n",
              "      <td>0</td>\n",
              "      <td>2016-01-01 00:00:00</td>\n",
              "      <td>0.0</td>\n",
              "      <td>23685</td>\n",
              "      <td>0</td>\n",
              "      <td>Education</td>\n",
              "    </tr>\n",
              "    <tr>\n",
              "      <th>4</th>\n",
              "      <td>4</td>\n",
              "      <td>0</td>\n",
              "      <td>2016-01-01 00:00:00</td>\n",
              "      <td>0.0</td>\n",
              "      <td>116607</td>\n",
              "      <td>0</td>\n",
              "      <td>Education</td>\n",
              "    </tr>\n",
              "    <tr>\n",
              "      <th>5</th>\n",
              "      <td>5</td>\n",
              "      <td>0</td>\n",
              "      <td>2016-01-01 00:00:00</td>\n",
              "      <td>0.0</td>\n",
              "      <td>8000</td>\n",
              "      <td>0</td>\n",
              "      <td>Education</td>\n",
              "    </tr>\n",
              "    <tr>\n",
              "      <th>6</th>\n",
              "      <td>6</td>\n",
              "      <td>0</td>\n",
              "      <td>2016-01-01 00:00:00</td>\n",
              "      <td>0.0</td>\n",
              "      <td>27926</td>\n",
              "      <td>0</td>\n",
              "      <td>Lodging/residential</td>\n",
              "    </tr>\n",
              "    <tr>\n",
              "      <th>7</th>\n",
              "      <td>7</td>\n",
              "      <td>0</td>\n",
              "      <td>2016-01-01 00:00:00</td>\n",
              "      <td>0.0</td>\n",
              "      <td>121074</td>\n",
              "      <td>0</td>\n",
              "      <td>Education</td>\n",
              "    </tr>\n",
              "    <tr>\n",
              "      <th>8</th>\n",
              "      <td>8</td>\n",
              "      <td>0</td>\n",
              "      <td>2016-01-01 00:00:00</td>\n",
              "      <td>0.0</td>\n",
              "      <td>60809</td>\n",
              "      <td>0</td>\n",
              "      <td>Education</td>\n",
              "    </tr>\n",
              "    <tr>\n",
              "      <th>9</th>\n",
              "      <td>9</td>\n",
              "      <td>0</td>\n",
              "      <td>2016-01-01 00:00:00</td>\n",
              "      <td>0.0</td>\n",
              "      <td>27000</td>\n",
              "      <td>0</td>\n",
              "      <td>Office</td>\n",
              "    </tr>\n",
              "  </tbody>\n",
              "</table>\n",
              "</div>"
            ],
            "text/plain": [
              "   building_id  meter  ... site_id          primary_use\n",
              "0            0      0  ...       0            Education\n",
              "1            1      0  ...       0            Education\n",
              "2            2      0  ...       0            Education\n",
              "3            3      0  ...       0            Education\n",
              "4            4      0  ...       0            Education\n",
              "5            5      0  ...       0            Education\n",
              "6            6      0  ...       0  Lodging/residential\n",
              "7            7      0  ...       0            Education\n",
              "8            8      0  ...       0            Education\n",
              "9            9      0  ...       0               Office\n",
              "\n",
              "[10 rows x 7 columns]"
            ]
          },
          "metadata": {
            "tags": []
          },
          "execution_count": 44
        }
      ]
    },
    {
      "cell_type": "code",
      "metadata": {
        "id": "KgNQE5_oYYSR",
        "colab_type": "code",
        "outputId": "d1bf1473-341a-4a58-e503-4e808fbc979b",
        "colab": {
          "base_uri": "https://localhost:8080/",
          "height": 514
        }
      },
      "source": [
        "new_weather_train.head(15)"
      ],
      "execution_count": 0,
      "outputs": [
        {
          "output_type": "execute_result",
          "data": {
            "text/html": [
              "<div>\n",
              "<style scoped>\n",
              "    .dataframe tbody tr th:only-of-type {\n",
              "        vertical-align: middle;\n",
              "    }\n",
              "\n",
              "    .dataframe tbody tr th {\n",
              "        vertical-align: top;\n",
              "    }\n",
              "\n",
              "    .dataframe thead th {\n",
              "        text-align: right;\n",
              "    }\n",
              "</style>\n",
              "<table border=\"1\" class=\"dataframe\">\n",
              "  <thead>\n",
              "    <tr style=\"text-align: right;\">\n",
              "      <th></th>\n",
              "      <th>site_id</th>\n",
              "      <th>timestamp</th>\n",
              "      <th>air_temperature</th>\n",
              "      <th>dew_temperature</th>\n",
              "      <th>wind_speed</th>\n",
              "    </tr>\n",
              "  </thead>\n",
              "  <tbody>\n",
              "    <tr>\n",
              "      <th>0</th>\n",
              "      <td>0</td>\n",
              "      <td>2016-01-01 00:00:00</td>\n",
              "      <td>25.0</td>\n",
              "      <td>20.0</td>\n",
              "      <td>0.0</td>\n",
              "    </tr>\n",
              "    <tr>\n",
              "      <th>1</th>\n",
              "      <td>0</td>\n",
              "      <td>2016-01-01 01:00:00</td>\n",
              "      <td>24.4</td>\n",
              "      <td>21.1</td>\n",
              "      <td>1.5</td>\n",
              "    </tr>\n",
              "    <tr>\n",
              "      <th>2</th>\n",
              "      <td>0</td>\n",
              "      <td>2016-01-01 02:00:00</td>\n",
              "      <td>22.8</td>\n",
              "      <td>21.1</td>\n",
              "      <td>0.0</td>\n",
              "    </tr>\n",
              "    <tr>\n",
              "      <th>3</th>\n",
              "      <td>0</td>\n",
              "      <td>2016-01-01 03:00:00</td>\n",
              "      <td>21.1</td>\n",
              "      <td>20.6</td>\n",
              "      <td>0.0</td>\n",
              "    </tr>\n",
              "    <tr>\n",
              "      <th>4</th>\n",
              "      <td>0</td>\n",
              "      <td>2016-01-01 04:00:00</td>\n",
              "      <td>20.0</td>\n",
              "      <td>20.0</td>\n",
              "      <td>2.6</td>\n",
              "    </tr>\n",
              "    <tr>\n",
              "      <th>5</th>\n",
              "      <td>0</td>\n",
              "      <td>2016-01-01 05:00:00</td>\n",
              "      <td>19.4</td>\n",
              "      <td>19.4</td>\n",
              "      <td>0.0</td>\n",
              "    </tr>\n",
              "    <tr>\n",
              "      <th>6</th>\n",
              "      <td>0</td>\n",
              "      <td>2016-01-01 06:00:00</td>\n",
              "      <td>21.1</td>\n",
              "      <td>21.1</td>\n",
              "      <td>0.0</td>\n",
              "    </tr>\n",
              "    <tr>\n",
              "      <th>7</th>\n",
              "      <td>0</td>\n",
              "      <td>2016-01-01 07:00:00</td>\n",
              "      <td>21.1</td>\n",
              "      <td>21.1</td>\n",
              "      <td>1.5</td>\n",
              "    </tr>\n",
              "    <tr>\n",
              "      <th>8</th>\n",
              "      <td>0</td>\n",
              "      <td>2016-01-01 08:00:00</td>\n",
              "      <td>20.6</td>\n",
              "      <td>20.0</td>\n",
              "      <td>0.0</td>\n",
              "    </tr>\n",
              "    <tr>\n",
              "      <th>9</th>\n",
              "      <td>0</td>\n",
              "      <td>2016-01-01 09:00:00</td>\n",
              "      <td>21.1</td>\n",
              "      <td>20.6</td>\n",
              "      <td>1.5</td>\n",
              "    </tr>\n",
              "    <tr>\n",
              "      <th>10</th>\n",
              "      <td>0</td>\n",
              "      <td>2016-01-01 10:00:00</td>\n",
              "      <td>21.1</td>\n",
              "      <td>20.6</td>\n",
              "      <td>0.0</td>\n",
              "    </tr>\n",
              "    <tr>\n",
              "      <th>11</th>\n",
              "      <td>0</td>\n",
              "      <td>2016-01-01 11:00:00</td>\n",
              "      <td>20.6</td>\n",
              "      <td>20.0</td>\n",
              "      <td>0.0</td>\n",
              "    </tr>\n",
              "    <tr>\n",
              "      <th>12</th>\n",
              "      <td>0</td>\n",
              "      <td>2016-01-01 12:00:00</td>\n",
              "      <td>18.9</td>\n",
              "      <td>18.9</td>\n",
              "      <td>1.5</td>\n",
              "    </tr>\n",
              "    <tr>\n",
              "      <th>13</th>\n",
              "      <td>0</td>\n",
              "      <td>2016-01-01 13:00:00</td>\n",
              "      <td>20.0</td>\n",
              "      <td>20.0</td>\n",
              "      <td>0.0</td>\n",
              "    </tr>\n",
              "    <tr>\n",
              "      <th>14</th>\n",
              "      <td>0</td>\n",
              "      <td>2016-01-01 14:00:00</td>\n",
              "      <td>21.7</td>\n",
              "      <td>21.1</td>\n",
              "      <td>0.0</td>\n",
              "    </tr>\n",
              "  </tbody>\n",
              "</table>\n",
              "</div>"
            ],
            "text/plain": [
              "    site_id            timestamp  air_temperature  dew_temperature  wind_speed\n",
              "0         0  2016-01-01 00:00:00             25.0             20.0         0.0\n",
              "1         0  2016-01-01 01:00:00             24.4             21.1         1.5\n",
              "2         0  2016-01-01 02:00:00             22.8             21.1         0.0\n",
              "3         0  2016-01-01 03:00:00             21.1             20.6         0.0\n",
              "4         0  2016-01-01 04:00:00             20.0             20.0         2.6\n",
              "5         0  2016-01-01 05:00:00             19.4             19.4         0.0\n",
              "6         0  2016-01-01 06:00:00             21.1             21.1         0.0\n",
              "7         0  2016-01-01 07:00:00             21.1             21.1         1.5\n",
              "8         0  2016-01-01 08:00:00             20.6             20.0         0.0\n",
              "9         0  2016-01-01 09:00:00             21.1             20.6         1.5\n",
              "10        0  2016-01-01 10:00:00             21.1             20.6         0.0\n",
              "11        0  2016-01-01 11:00:00             20.6             20.0         0.0\n",
              "12        0  2016-01-01 12:00:00             18.9             18.9         1.5\n",
              "13        0  2016-01-01 13:00:00             20.0             20.0         0.0\n",
              "14        0  2016-01-01 14:00:00             21.7             21.1         0.0"
            ]
          },
          "metadata": {
            "tags": []
          },
          "execution_count": 45
        }
      ]
    },
    {
      "cell_type": "code",
      "metadata": {
        "id": "rZQWhVs-YYSV",
        "colab_type": "code",
        "outputId": "c72434a4-8e64-4bd7-c87d-e9bfb3cb8047",
        "colab": {
          "base_uri": "https://localhost:8080/",
          "height": 461
        }
      },
      "source": [
        "def timestamp_tr (ch):\n",
        "    return int(re.sub('[-: ]','',ch)[3:10])\n",
        "\n",
        "new_weather_train['timestamp'] = new_weather_train['timestamp'].map(timestamp_tr)\n",
        "new_weather_train.head(10)"
      ],
      "execution_count": 0,
      "outputs": [
        {
          "output_type": "stream",
          "text": [
            "/usr/local/lib/python3.6/dist-packages/ipykernel_launcher.py:4: SettingWithCopyWarning: \n",
            "A value is trying to be set on a copy of a slice from a DataFrame.\n",
            "Try using .loc[row_indexer,col_indexer] = value instead\n",
            "\n",
            "See the caveats in the documentation: http://pandas.pydata.org/pandas-docs/stable/user_guide/indexing.html#returning-a-view-versus-a-copy\n",
            "  after removing the cwd from sys.path.\n"
          ],
          "name": "stderr"
        },
        {
          "output_type": "execute_result",
          "data": {
            "text/html": [
              "<div>\n",
              "<style scoped>\n",
              "    .dataframe tbody tr th:only-of-type {\n",
              "        vertical-align: middle;\n",
              "    }\n",
              "\n",
              "    .dataframe tbody tr th {\n",
              "        vertical-align: top;\n",
              "    }\n",
              "\n",
              "    .dataframe thead th {\n",
              "        text-align: right;\n",
              "    }\n",
              "</style>\n",
              "<table border=\"1\" class=\"dataframe\">\n",
              "  <thead>\n",
              "    <tr style=\"text-align: right;\">\n",
              "      <th></th>\n",
              "      <th>site_id</th>\n",
              "      <th>timestamp</th>\n",
              "      <th>air_temperature</th>\n",
              "      <th>dew_temperature</th>\n",
              "      <th>wind_speed</th>\n",
              "    </tr>\n",
              "  </thead>\n",
              "  <tbody>\n",
              "    <tr>\n",
              "      <th>0</th>\n",
              "      <td>0</td>\n",
              "      <td>6010100</td>\n",
              "      <td>25.0</td>\n",
              "      <td>20.0</td>\n",
              "      <td>0.0</td>\n",
              "    </tr>\n",
              "    <tr>\n",
              "      <th>1</th>\n",
              "      <td>0</td>\n",
              "      <td>6010101</td>\n",
              "      <td>24.4</td>\n",
              "      <td>21.1</td>\n",
              "      <td>1.5</td>\n",
              "    </tr>\n",
              "    <tr>\n",
              "      <th>2</th>\n",
              "      <td>0</td>\n",
              "      <td>6010102</td>\n",
              "      <td>22.8</td>\n",
              "      <td>21.1</td>\n",
              "      <td>0.0</td>\n",
              "    </tr>\n",
              "    <tr>\n",
              "      <th>3</th>\n",
              "      <td>0</td>\n",
              "      <td>6010103</td>\n",
              "      <td>21.1</td>\n",
              "      <td>20.6</td>\n",
              "      <td>0.0</td>\n",
              "    </tr>\n",
              "    <tr>\n",
              "      <th>4</th>\n",
              "      <td>0</td>\n",
              "      <td>6010104</td>\n",
              "      <td>20.0</td>\n",
              "      <td>20.0</td>\n",
              "      <td>2.6</td>\n",
              "    </tr>\n",
              "    <tr>\n",
              "      <th>5</th>\n",
              "      <td>0</td>\n",
              "      <td>6010105</td>\n",
              "      <td>19.4</td>\n",
              "      <td>19.4</td>\n",
              "      <td>0.0</td>\n",
              "    </tr>\n",
              "    <tr>\n",
              "      <th>6</th>\n",
              "      <td>0</td>\n",
              "      <td>6010106</td>\n",
              "      <td>21.1</td>\n",
              "      <td>21.1</td>\n",
              "      <td>0.0</td>\n",
              "    </tr>\n",
              "    <tr>\n",
              "      <th>7</th>\n",
              "      <td>0</td>\n",
              "      <td>6010107</td>\n",
              "      <td>21.1</td>\n",
              "      <td>21.1</td>\n",
              "      <td>1.5</td>\n",
              "    </tr>\n",
              "    <tr>\n",
              "      <th>8</th>\n",
              "      <td>0</td>\n",
              "      <td>6010108</td>\n",
              "      <td>20.6</td>\n",
              "      <td>20.0</td>\n",
              "      <td>0.0</td>\n",
              "    </tr>\n",
              "    <tr>\n",
              "      <th>9</th>\n",
              "      <td>0</td>\n",
              "      <td>6010109</td>\n",
              "      <td>21.1</td>\n",
              "      <td>20.6</td>\n",
              "      <td>1.5</td>\n",
              "    </tr>\n",
              "  </tbody>\n",
              "</table>\n",
              "</div>"
            ],
            "text/plain": [
              "   site_id  timestamp  air_temperature  dew_temperature  wind_speed\n",
              "0        0    6010100             25.0             20.0         0.0\n",
              "1        0    6010101             24.4             21.1         1.5\n",
              "2        0    6010102             22.8             21.1         0.0\n",
              "3        0    6010103             21.1             20.6         0.0\n",
              "4        0    6010104             20.0             20.0         2.6\n",
              "5        0    6010105             19.4             19.4         0.0\n",
              "6        0    6010106             21.1             21.1         0.0\n",
              "7        0    6010107             21.1             21.1         1.5\n",
              "8        0    6010108             20.6             20.0         0.0\n",
              "9        0    6010109             21.1             20.6         1.5"
            ]
          },
          "metadata": {
            "tags": []
          },
          "execution_count": 46
        }
      ]
    },
    {
      "cell_type": "code",
      "metadata": {
        "id": "gdAtVPAmcUxk",
        "colab_type": "code",
        "colab": {}
      },
      "source": [
        "train['timestamp'] = train['timestamp'].map(timestamp_tr)\n"
      ],
      "execution_count": 0,
      "outputs": []
    },
    {
      "cell_type": "code",
      "metadata": {
        "id": "4nnar7CEYYSj",
        "colab_type": "code",
        "outputId": "d5398dad-1c81-4668-f8be-dae5c6275633",
        "colab": {
          "base_uri": "https://localhost:8080/",
          "height": 34
        }
      },
      "source": [
        "\n",
        "temp_df = train[['site_id','timestamp']]\n",
        "temp_df = temp_df.merge(new_weather_train, on=['site_id','timestamp'], how='left')\n",
        "temp_df.shape"
      ],
      "execution_count": 0,
      "outputs": [
        {
          "output_type": "execute_result",
          "data": {
            "text/plain": [
              "(20216100, 5)"
            ]
          },
          "metadata": {
            "tags": []
          },
          "execution_count": 48
        }
      ]
    },
    {
      "cell_type": "code",
      "metadata": {
        "id": "haYu_MUaYYSm",
        "colab_type": "code",
        "colab": {}
      },
      "source": [
        "del temp_df['site_id'],temp_df['timestamp']\n"
      ],
      "execution_count": 0,
      "outputs": []
    },
    {
      "cell_type": "code",
      "metadata": {
        "id": "1X37iW7qhS8t",
        "colab_type": "code",
        "outputId": "31f070fe-a2a2-4522-d186-e8e9a36ad113",
        "colab": {
          "base_uri": "https://localhost:8080/",
          "height": 514
        }
      },
      "source": [
        "temp_df.head(15)"
      ],
      "execution_count": 0,
      "outputs": [
        {
          "output_type": "execute_result",
          "data": {
            "text/html": [
              "<div>\n",
              "<style scoped>\n",
              "    .dataframe tbody tr th:only-of-type {\n",
              "        vertical-align: middle;\n",
              "    }\n",
              "\n",
              "    .dataframe tbody tr th {\n",
              "        vertical-align: top;\n",
              "    }\n",
              "\n",
              "    .dataframe thead th {\n",
              "        text-align: right;\n",
              "    }\n",
              "</style>\n",
              "<table border=\"1\" class=\"dataframe\">\n",
              "  <thead>\n",
              "    <tr style=\"text-align: right;\">\n",
              "      <th></th>\n",
              "      <th>air_temperature</th>\n",
              "      <th>dew_temperature</th>\n",
              "      <th>wind_speed</th>\n",
              "    </tr>\n",
              "  </thead>\n",
              "  <tbody>\n",
              "    <tr>\n",
              "      <th>0</th>\n",
              "      <td>25.0</td>\n",
              "      <td>20.0</td>\n",
              "      <td>0.0</td>\n",
              "    </tr>\n",
              "    <tr>\n",
              "      <th>1</th>\n",
              "      <td>25.0</td>\n",
              "      <td>20.0</td>\n",
              "      <td>0.0</td>\n",
              "    </tr>\n",
              "    <tr>\n",
              "      <th>2</th>\n",
              "      <td>25.0</td>\n",
              "      <td>20.0</td>\n",
              "      <td>0.0</td>\n",
              "    </tr>\n",
              "    <tr>\n",
              "      <th>3</th>\n",
              "      <td>25.0</td>\n",
              "      <td>20.0</td>\n",
              "      <td>0.0</td>\n",
              "    </tr>\n",
              "    <tr>\n",
              "      <th>4</th>\n",
              "      <td>25.0</td>\n",
              "      <td>20.0</td>\n",
              "      <td>0.0</td>\n",
              "    </tr>\n",
              "    <tr>\n",
              "      <th>5</th>\n",
              "      <td>25.0</td>\n",
              "      <td>20.0</td>\n",
              "      <td>0.0</td>\n",
              "    </tr>\n",
              "    <tr>\n",
              "      <th>6</th>\n",
              "      <td>25.0</td>\n",
              "      <td>20.0</td>\n",
              "      <td>0.0</td>\n",
              "    </tr>\n",
              "    <tr>\n",
              "      <th>7</th>\n",
              "      <td>25.0</td>\n",
              "      <td>20.0</td>\n",
              "      <td>0.0</td>\n",
              "    </tr>\n",
              "    <tr>\n",
              "      <th>8</th>\n",
              "      <td>25.0</td>\n",
              "      <td>20.0</td>\n",
              "      <td>0.0</td>\n",
              "    </tr>\n",
              "    <tr>\n",
              "      <th>9</th>\n",
              "      <td>25.0</td>\n",
              "      <td>20.0</td>\n",
              "      <td>0.0</td>\n",
              "    </tr>\n",
              "    <tr>\n",
              "      <th>10</th>\n",
              "      <td>25.0</td>\n",
              "      <td>20.0</td>\n",
              "      <td>0.0</td>\n",
              "    </tr>\n",
              "    <tr>\n",
              "      <th>11</th>\n",
              "      <td>25.0</td>\n",
              "      <td>20.0</td>\n",
              "      <td>0.0</td>\n",
              "    </tr>\n",
              "    <tr>\n",
              "      <th>12</th>\n",
              "      <td>25.0</td>\n",
              "      <td>20.0</td>\n",
              "      <td>0.0</td>\n",
              "    </tr>\n",
              "    <tr>\n",
              "      <th>13</th>\n",
              "      <td>25.0</td>\n",
              "      <td>20.0</td>\n",
              "      <td>0.0</td>\n",
              "    </tr>\n",
              "    <tr>\n",
              "      <th>14</th>\n",
              "      <td>25.0</td>\n",
              "      <td>20.0</td>\n",
              "      <td>0.0</td>\n",
              "    </tr>\n",
              "  </tbody>\n",
              "</table>\n",
              "</div>"
            ],
            "text/plain": [
              "    air_temperature  dew_temperature  wind_speed\n",
              "0              25.0             20.0         0.0\n",
              "1              25.0             20.0         0.0\n",
              "2              25.0             20.0         0.0\n",
              "3              25.0             20.0         0.0\n",
              "4              25.0             20.0         0.0\n",
              "5              25.0             20.0         0.0\n",
              "6              25.0             20.0         0.0\n",
              "7              25.0             20.0         0.0\n",
              "8              25.0             20.0         0.0\n",
              "9              25.0             20.0         0.0\n",
              "10             25.0             20.0         0.0\n",
              "11             25.0             20.0         0.0\n",
              "12             25.0             20.0         0.0\n",
              "13             25.0             20.0         0.0\n",
              "14             25.0             20.0         0.0"
            ]
          },
          "metadata": {
            "tags": []
          },
          "execution_count": 50
        }
      ]
    },
    {
      "cell_type": "code",
      "metadata": {
        "id": "wtXMFKxKitFD",
        "colab_type": "code",
        "colab": {}
      },
      "source": [
        "train = pd.concat([train, temp_df], axis=1)"
      ],
      "execution_count": 0,
      "outputs": []
    },
    {
      "cell_type": "code",
      "metadata": {
        "id": "bDJ522QskdL-",
        "colab_type": "code",
        "outputId": "7ded6eae-de45-4459-ccb0-0d89467d3ec8",
        "colab": {
          "base_uri": "https://localhost:8080/",
          "height": 359
        }
      },
      "source": [
        "train.head(10)"
      ],
      "execution_count": 0,
      "outputs": [
        {
          "output_type": "execute_result",
          "data": {
            "text/html": [
              "<div>\n",
              "<style scoped>\n",
              "    .dataframe tbody tr th:only-of-type {\n",
              "        vertical-align: middle;\n",
              "    }\n",
              "\n",
              "    .dataframe tbody tr th {\n",
              "        vertical-align: top;\n",
              "    }\n",
              "\n",
              "    .dataframe thead th {\n",
              "        text-align: right;\n",
              "    }\n",
              "</style>\n",
              "<table border=\"1\" class=\"dataframe\">\n",
              "  <thead>\n",
              "    <tr style=\"text-align: right;\">\n",
              "      <th></th>\n",
              "      <th>building_id</th>\n",
              "      <th>meter</th>\n",
              "      <th>timestamp</th>\n",
              "      <th>meter_reading</th>\n",
              "      <th>square_feet</th>\n",
              "      <th>site_id</th>\n",
              "      <th>primary_use</th>\n",
              "      <th>air_temperature</th>\n",
              "      <th>dew_temperature</th>\n",
              "      <th>wind_speed</th>\n",
              "    </tr>\n",
              "  </thead>\n",
              "  <tbody>\n",
              "    <tr>\n",
              "      <th>0</th>\n",
              "      <td>0</td>\n",
              "      <td>0</td>\n",
              "      <td>6010100</td>\n",
              "      <td>0.0</td>\n",
              "      <td>7432</td>\n",
              "      <td>0</td>\n",
              "      <td>Education</td>\n",
              "      <td>25.0</td>\n",
              "      <td>20.0</td>\n",
              "      <td>0.0</td>\n",
              "    </tr>\n",
              "    <tr>\n",
              "      <th>1</th>\n",
              "      <td>1</td>\n",
              "      <td>0</td>\n",
              "      <td>6010100</td>\n",
              "      <td>0.0</td>\n",
              "      <td>2720</td>\n",
              "      <td>0</td>\n",
              "      <td>Education</td>\n",
              "      <td>25.0</td>\n",
              "      <td>20.0</td>\n",
              "      <td>0.0</td>\n",
              "    </tr>\n",
              "    <tr>\n",
              "      <th>2</th>\n",
              "      <td>2</td>\n",
              "      <td>0</td>\n",
              "      <td>6010100</td>\n",
              "      <td>0.0</td>\n",
              "      <td>5376</td>\n",
              "      <td>0</td>\n",
              "      <td>Education</td>\n",
              "      <td>25.0</td>\n",
              "      <td>20.0</td>\n",
              "      <td>0.0</td>\n",
              "    </tr>\n",
              "    <tr>\n",
              "      <th>3</th>\n",
              "      <td>3</td>\n",
              "      <td>0</td>\n",
              "      <td>6010100</td>\n",
              "      <td>0.0</td>\n",
              "      <td>23685</td>\n",
              "      <td>0</td>\n",
              "      <td>Education</td>\n",
              "      <td>25.0</td>\n",
              "      <td>20.0</td>\n",
              "      <td>0.0</td>\n",
              "    </tr>\n",
              "    <tr>\n",
              "      <th>4</th>\n",
              "      <td>4</td>\n",
              "      <td>0</td>\n",
              "      <td>6010100</td>\n",
              "      <td>0.0</td>\n",
              "      <td>116607</td>\n",
              "      <td>0</td>\n",
              "      <td>Education</td>\n",
              "      <td>25.0</td>\n",
              "      <td>20.0</td>\n",
              "      <td>0.0</td>\n",
              "    </tr>\n",
              "    <tr>\n",
              "      <th>5</th>\n",
              "      <td>5</td>\n",
              "      <td>0</td>\n",
              "      <td>6010100</td>\n",
              "      <td>0.0</td>\n",
              "      <td>8000</td>\n",
              "      <td>0</td>\n",
              "      <td>Education</td>\n",
              "      <td>25.0</td>\n",
              "      <td>20.0</td>\n",
              "      <td>0.0</td>\n",
              "    </tr>\n",
              "    <tr>\n",
              "      <th>6</th>\n",
              "      <td>6</td>\n",
              "      <td>0</td>\n",
              "      <td>6010100</td>\n",
              "      <td>0.0</td>\n",
              "      <td>27926</td>\n",
              "      <td>0</td>\n",
              "      <td>Lodging/residential</td>\n",
              "      <td>25.0</td>\n",
              "      <td>20.0</td>\n",
              "      <td>0.0</td>\n",
              "    </tr>\n",
              "    <tr>\n",
              "      <th>7</th>\n",
              "      <td>7</td>\n",
              "      <td>0</td>\n",
              "      <td>6010100</td>\n",
              "      <td>0.0</td>\n",
              "      <td>121074</td>\n",
              "      <td>0</td>\n",
              "      <td>Education</td>\n",
              "      <td>25.0</td>\n",
              "      <td>20.0</td>\n",
              "      <td>0.0</td>\n",
              "    </tr>\n",
              "    <tr>\n",
              "      <th>8</th>\n",
              "      <td>8</td>\n",
              "      <td>0</td>\n",
              "      <td>6010100</td>\n",
              "      <td>0.0</td>\n",
              "      <td>60809</td>\n",
              "      <td>0</td>\n",
              "      <td>Education</td>\n",
              "      <td>25.0</td>\n",
              "      <td>20.0</td>\n",
              "      <td>0.0</td>\n",
              "    </tr>\n",
              "    <tr>\n",
              "      <th>9</th>\n",
              "      <td>9</td>\n",
              "      <td>0</td>\n",
              "      <td>6010100</td>\n",
              "      <td>0.0</td>\n",
              "      <td>27000</td>\n",
              "      <td>0</td>\n",
              "      <td>Office</td>\n",
              "      <td>25.0</td>\n",
              "      <td>20.0</td>\n",
              "      <td>0.0</td>\n",
              "    </tr>\n",
              "  </tbody>\n",
              "</table>\n",
              "</div>"
            ],
            "text/plain": [
              "   building_id  meter  timestamp  ...  air_temperature  dew_temperature  wind_speed\n",
              "0            0      0    6010100  ...             25.0             20.0         0.0\n",
              "1            1      0    6010100  ...             25.0             20.0         0.0\n",
              "2            2      0    6010100  ...             25.0             20.0         0.0\n",
              "3            3      0    6010100  ...             25.0             20.0         0.0\n",
              "4            4      0    6010100  ...             25.0             20.0         0.0\n",
              "5            5      0    6010100  ...             25.0             20.0         0.0\n",
              "6            6      0    6010100  ...             25.0             20.0         0.0\n",
              "7            7      0    6010100  ...             25.0             20.0         0.0\n",
              "8            8      0    6010100  ...             25.0             20.0         0.0\n",
              "9            9      0    6010100  ...             25.0             20.0         0.0\n",
              "\n",
              "[10 rows x 10 columns]"
            ]
          },
          "metadata": {
            "tags": []
          },
          "execution_count": 52
        }
      ]
    },
    {
      "cell_type": "code",
      "metadata": {
        "id": "SMMyfReakktA",
        "colab_type": "code",
        "outputId": "73fdff8b-d54d-4daa-ef32-39a0b9c319fb",
        "colab": {
          "base_uri": "https://localhost:8080/",
          "height": 204
        }
      },
      "source": [
        "train.isna().sum()"
      ],
      "execution_count": 0,
      "outputs": [
        {
          "output_type": "execute_result",
          "data": {
            "text/plain": [
              "building_id            0\n",
              "meter                  0\n",
              "timestamp              0\n",
              "meter_reading          0\n",
              "square_feet            0\n",
              "site_id                0\n",
              "primary_use            0\n",
              "air_temperature    90495\n",
              "dew_temperature    90495\n",
              "wind_speed         90495\n",
              "dtype: int64"
            ]
          },
          "metadata": {
            "tags": []
          },
          "execution_count": 53
        }
      ]
    },
    {
      "cell_type": "code",
      "metadata": {
        "id": "DKq36ceFypf3",
        "colab_type": "code",
        "outputId": "f08dde2e-8061-423b-a297-2878f43fc099",
        "colab": {
          "base_uri": "https://localhost:8080/",
          "height": 297
        }
      },
      "source": [
        "train.describe()"
      ],
      "execution_count": 0,
      "outputs": [
        {
          "output_type": "execute_result",
          "data": {
            "text/html": [
              "<div>\n",
              "<style scoped>\n",
              "    .dataframe tbody tr th:only-of-type {\n",
              "        vertical-align: middle;\n",
              "    }\n",
              "\n",
              "    .dataframe tbody tr th {\n",
              "        vertical-align: top;\n",
              "    }\n",
              "\n",
              "    .dataframe thead th {\n",
              "        text-align: right;\n",
              "    }\n",
              "</style>\n",
              "<table border=\"1\" class=\"dataframe\">\n",
              "  <thead>\n",
              "    <tr style=\"text-align: right;\">\n",
              "      <th></th>\n",
              "      <th>building_id</th>\n",
              "      <th>meter</th>\n",
              "      <th>timestamp</th>\n",
              "      <th>meter_reading</th>\n",
              "      <th>square_feet</th>\n",
              "      <th>site_id</th>\n",
              "      <th>air_temperature</th>\n",
              "      <th>dew_temperature</th>\n",
              "      <th>wind_speed</th>\n",
              "    </tr>\n",
              "  </thead>\n",
              "  <tbody>\n",
              "    <tr>\n",
              "      <th>count</th>\n",
              "      <td>2.021610e+07</td>\n",
              "      <td>2.021610e+07</td>\n",
              "      <td>2.021610e+07</td>\n",
              "      <td>2.021610e+07</td>\n",
              "      <td>2.021610e+07</td>\n",
              "      <td>2.021610e+07</td>\n",
              "      <td>2.012560e+07</td>\n",
              "      <td>2.012560e+07</td>\n",
              "      <td>2.012560e+07</td>\n",
              "    </tr>\n",
              "    <tr>\n",
              "      <th>mean</th>\n",
              "      <td>7.992780e+02</td>\n",
              "      <td>6.624412e-01</td>\n",
              "      <td>6.067372e+06</td>\n",
              "      <td>2.117121e+03</td>\n",
              "      <td>1.077830e+05</td>\n",
              "      <td>7.992232e+00</td>\n",
              "      <td>1.598765e+01</td>\n",
              "      <td>7.747694e+00</td>\n",
              "      <td>3.376791e+00</td>\n",
              "    </tr>\n",
              "    <tr>\n",
              "      <th>std</th>\n",
              "      <td>4.269133e+02</td>\n",
              "      <td>9.309921e-01</td>\n",
              "      <td>3.438831e+04</td>\n",
              "      <td>1.532356e+05</td>\n",
              "      <td>1.171424e+05</td>\n",
              "      <td>5.099060e+00</td>\n",
              "      <td>1.094563e+01</td>\n",
              "      <td>1.017623e+01</td>\n",
              "      <td>2.262743e+00</td>\n",
              "    </tr>\n",
              "    <tr>\n",
              "      <th>min</th>\n",
              "      <td>0.000000e+00</td>\n",
              "      <td>0.000000e+00</td>\n",
              "      <td>6.010100e+06</td>\n",
              "      <td>0.000000e+00</td>\n",
              "      <td>2.830000e+02</td>\n",
              "      <td>0.000000e+00</td>\n",
              "      <td>-2.890000e+01</td>\n",
              "      <td>-3.500000e+01</td>\n",
              "      <td>0.000000e+00</td>\n",
              "    </tr>\n",
              "    <tr>\n",
              "      <th>25%</th>\n",
              "      <td>3.930000e+02</td>\n",
              "      <td>0.000000e+00</td>\n",
              "      <td>6.040521e+06</td>\n",
              "      <td>1.830000e+01</td>\n",
              "      <td>3.252700e+04</td>\n",
              "      <td>3.000000e+00</td>\n",
              "      <td>8.600000e+00</td>\n",
              "      <td>0.000000e+00</td>\n",
              "      <td>2.100000e+00</td>\n",
              "    </tr>\n",
              "    <tr>\n",
              "      <th>50%</th>\n",
              "      <td>8.950000e+02</td>\n",
              "      <td>0.000000e+00</td>\n",
              "      <td>6.070417e+06</td>\n",
              "      <td>7.877500e+01</td>\n",
              "      <td>7.270900e+04</td>\n",
              "      <td>9.000000e+00</td>\n",
              "      <td>1.670000e+01</td>\n",
              "      <td>8.900000e+00</td>\n",
              "      <td>3.100000e+00</td>\n",
              "    </tr>\n",
              "    <tr>\n",
              "      <th>75%</th>\n",
              "      <td>1.179000e+03</td>\n",
              "      <td>1.000000e+00</td>\n",
              "      <td>6.100222e+06</td>\n",
              "      <td>2.679840e+02</td>\n",
              "      <td>1.391130e+05</td>\n",
              "      <td>1.300000e+01</td>\n",
              "      <td>2.400000e+01</td>\n",
              "      <td>1.610000e+01</td>\n",
              "      <td>4.600000e+00</td>\n",
              "    </tr>\n",
              "    <tr>\n",
              "      <th>max</th>\n",
              "      <td>1.448000e+03</td>\n",
              "      <td>3.000000e+00</td>\n",
              "      <td>6.123123e+06</td>\n",
              "      <td>2.190470e+07</td>\n",
              "      <td>8.750000e+05</td>\n",
              "      <td>1.500000e+01</td>\n",
              "      <td>4.720000e+01</td>\n",
              "      <td>2.610000e+01</td>\n",
              "      <td>1.900000e+01</td>\n",
              "    </tr>\n",
              "  </tbody>\n",
              "</table>\n",
              "</div>"
            ],
            "text/plain": [
              "        building_id         meter  ...  dew_temperature    wind_speed\n",
              "count  2.021610e+07  2.021610e+07  ...     2.012560e+07  2.012560e+07\n",
              "mean   7.992780e+02  6.624412e-01  ...     7.747694e+00  3.376791e+00\n",
              "std    4.269133e+02  9.309921e-01  ...     1.017623e+01  2.262743e+00\n",
              "min    0.000000e+00  0.000000e+00  ...    -3.500000e+01  0.000000e+00\n",
              "25%    3.930000e+02  0.000000e+00  ...     0.000000e+00  2.100000e+00\n",
              "50%    8.950000e+02  0.000000e+00  ...     8.900000e+00  3.100000e+00\n",
              "75%    1.179000e+03  1.000000e+00  ...     1.610000e+01  4.600000e+00\n",
              "max    1.448000e+03  3.000000e+00  ...     2.610000e+01  1.900000e+01\n",
              "\n",
              "[8 rows x 9 columns]"
            ]
          },
          "metadata": {
            "tags": []
          },
          "execution_count": 54
        }
      ]
    },
    {
      "cell_type": "code",
      "metadata": {
        "id": "IF4A0NfAy8dO",
        "colab_type": "code",
        "outputId": "086f9faf-471d-48ff-eaf0-cb044a1574e0",
        "colab": {
          "base_uri": "https://localhost:8080/",
          "height": 119
        }
      },
      "source": [
        "##replace missing values with median\n",
        "train['air_temperature'].fillna(train['air_temperature'].median(), inplace=True)\n",
        "train['dew_temperature'].fillna(train['dew_temperature'].median(), inplace=True)\n",
        "train['wind_speed'].fillna(train['wind_speed'].median(), inplace=True)\n",
        "new_weather_train.isna().sum()"
      ],
      "execution_count": 0,
      "outputs": [
        {
          "output_type": "execute_result",
          "data": {
            "text/plain": [
              "site_id            0\n",
              "timestamp          0\n",
              "air_temperature    0\n",
              "dew_temperature    0\n",
              "wind_speed         0\n",
              "dtype: int64"
            ]
          },
          "metadata": {
            "tags": []
          },
          "execution_count": 55
        }
      ]
    },
    {
      "cell_type": "markdown",
      "metadata": {
        "id": "HGUcnzOsc6v3",
        "colab_type": "text"
      },
      "source": [
        "##**DATA Scaling**"
      ]
    },
    {
      "cell_type": "code",
      "metadata": {
        "id": "iMki-xSAlRQf",
        "colab_type": "code",
        "outputId": "7ab94e47-ab22-4074-bed6-3c97d8c946db",
        "colab": {
          "base_uri": "https://localhost:8080/",
          "height": 302
        }
      },
      "source": [
        "fig=train.square_feet.plot.hist(rot=50)\n"
      ],
      "execution_count": 0,
      "outputs": [
        {
          "output_type": "display_data",
          "data": {
            "image/png": "[encoded data removed]",
            "text/plain": [
              "<Figure size 432x288 with 1 Axes>"
            ]
          },
          "metadata": {
            "tags": []
          }
        }
      ]
    },
    {
      "cell_type": "code",
      "metadata": {
        "id": "ykO0AacgzXZH",
        "colab_type": "code",
        "outputId": "932e74c2-5f1c-4d79-c56b-fd5236597fd9",
        "colab": {
          "base_uri": "https://localhost:8080/",
          "height": 337
        }
      },
      "source": [
        "train.square_feet.plot('box')"
      ],
      "execution_count": 0,
      "outputs": [
        {
          "output_type": "stream",
          "text": [
            "/usr/local/lib/python3.6/dist-packages/ipykernel_launcher.py:1: FutureWarning: `Series.plot()` should not be called with positional arguments, only keyword arguments. The order of positional arguments will change in the future. Use `Series.plot(kind='box')` instead of `Series.plot('box',)`.\n",
            "  \"\"\"Entry point for launching an IPython kernel.\n"
          ],
          "name": "stderr"
        },
        {
          "output_type": "execute_result",
          "data": {
            "text/plain": [
              "<matplotlib.axes._subplots.AxesSubplot at 0x7f085f07ed68>"
            ]
          },
          "metadata": {
            "tags": []
          },
          "execution_count": 57
        },
        {
          "output_type": "display_data",
          "data": {
            "image/png": "[encoded data removed]",
            "text/plain": [
              "<Figure size 432x288 with 1 Axes>"
            ]
          },
          "metadata": {
            "tags": []
          }
        }
      ]
    },
    {
      "cell_type": "code",
      "metadata": {
        "id": "RSr3HFDcrqfK",
        "colab_type": "code",
        "outputId": "6ea2f289-15ea-44a7-a31a-eeaed3b75671",
        "colab": {
          "base_uri": "https://localhost:8080/",
          "height": 278
        }
      },
      "source": [
        "fig=train.air_temperature.plot.hist(rot=50)\n"
      ],
      "execution_count": 0,
      "outputs": [
        {
          "output_type": "display_data",
          "data": {
            "image/png": "[encoded data removed]",
            "text/plain": [
              "<Figure size 432x288 with 1 Axes>"
            ]
          },
          "metadata": {
            "tags": []
          }
        }
      ]
    },
    {
      "cell_type": "code",
      "metadata": {
        "id": "_soGCt29zcB-",
        "colab_type": "code",
        "outputId": "caa1d78f-438d-4e16-e8f7-ed98508372c0",
        "colab": {
          "base_uri": "https://localhost:8080/",
          "height": 339
        }
      },
      "source": [
        "train.air_temperature.plot('box')"
      ],
      "execution_count": 0,
      "outputs": [
        {
          "output_type": "stream",
          "text": [
            "/usr/local/lib/python3.6/dist-packages/ipykernel_launcher.py:1: FutureWarning: `Series.plot()` should not be called with positional arguments, only keyword arguments. The order of positional arguments will change in the future. Use `Series.plot(kind='box')` instead of `Series.plot('box',)`.\n",
            "  \"\"\"Entry point for launching an IPython kernel.\n"
          ],
          "name": "stderr"
        },
        {
          "output_type": "execute_result",
          "data": {
            "text/plain": [
              "<matplotlib.axes._subplots.AxesSubplot at 0x7f085f07e828>"
            ]
          },
          "metadata": {
            "tags": []
          },
          "execution_count": 59
        },
        {
          "output_type": "display_data",
          "data": {
            "image/png": "[encoded data removed]",
            "text/plain": [
              "<Figure size 432x288 with 1 Axes>"
            ]
          },
          "metadata": {
            "tags": []
          }
        }
      ]
    },
    {
      "cell_type": "code",
      "metadata": {
        "id": "cnQBOoXutzEk",
        "colab_type": "code",
        "outputId": "7f89cfd7-38f2-48d3-d02e-b7685d0d0a41",
        "colab": {
          "base_uri": "https://localhost:8080/",
          "height": 278
        }
      },
      "source": [
        "fig=train.dew_temperature.plot.hist(rot=50)\n"
      ],
      "execution_count": 0,
      "outputs": [
        {
          "output_type": "display_data",
          "data": {
            "image/png": "[encoded data removed]",
            "text/plain": [
              "<Figure size 432x288 with 1 Axes>"
            ]
          },
          "metadata": {
            "tags": []
          }
        }
      ]
    },
    {
      "cell_type": "code",
      "metadata": {
        "id": "RpA-pJfdzfmY",
        "colab_type": "code",
        "outputId": "a9b2a67c-79fe-4ce9-b112-214c696b1e93",
        "colab": {
          "base_uri": "https://localhost:8080/",
          "height": 337
        }
      },
      "source": [
        "train.dew_temperature.plot('box')"
      ],
      "execution_count": 0,
      "outputs": [
        {
          "output_type": "stream",
          "text": [
            "/usr/local/lib/python3.6/dist-packages/ipykernel_launcher.py:1: FutureWarning: `Series.plot()` should not be called with positional arguments, only keyword arguments. The order of positional arguments will change in the future. Use `Series.plot(kind='box')` instead of `Series.plot('box',)`.\n",
            "  \"\"\"Entry point for launching an IPython kernel.\n"
          ],
          "name": "stderr"
        },
        {
          "output_type": "execute_result",
          "data": {
            "text/plain": [
              "<matplotlib.axes._subplots.AxesSubplot at 0x7f085ea41be0>"
            ]
          },
          "metadata": {
            "tags": []
          },
          "execution_count": 61
        },
        {
          "output_type": "display_data",
          "data": {
            "image/png": "[encoded data removed]",
            "text/plain": [
              "<Figure size 432x288 with 1 Axes>"
            ]
          },
          "metadata": {
            "tags": []
          }
        }
      ]
    },
    {
      "cell_type": "code",
      "metadata": {
        "id": "-Tnz1NbcuFJc",
        "colab_type": "code",
        "outputId": "2028f8ee-3283-4965-a838-9b1d9f59c5d6",
        "colab": {
          "base_uri": "https://localhost:8080/",
          "height": 279
        }
      },
      "source": [
        "fig=train.wind_speed.plot.hist(rot=50)\n"
      ],
      "execution_count": 0,
      "outputs": [
        {
          "output_type": "display_data",
          "data": {
            "image/png": "[encoded data removed]",
            "text/plain": [
              "<Figure size 432x288 with 1 Axes>"
            ]
          },
          "metadata": {
            "tags": []
          }
        }
      ]
    },
    {
      "cell_type": "code",
      "metadata": {
        "id": "lkFDKG4FzjTG",
        "colab_type": "code",
        "outputId": "63bbc7ab-ce27-43d5-a362-83994f1124e2",
        "colab": {
          "base_uri": "https://localhost:8080/",
          "height": 337
        }
      },
      "source": [
        "train.wind_speed.plot('box')"
      ],
      "execution_count": 0,
      "outputs": [
        {
          "output_type": "stream",
          "text": [
            "/usr/local/lib/python3.6/dist-packages/ipykernel_launcher.py:1: FutureWarning: `Series.plot()` should not be called with positional arguments, only keyword arguments. The order of positional arguments will change in the future. Use `Series.plot(kind='box')` instead of `Series.plot('box',)`.\n",
            "  \"\"\"Entry point for launching an IPython kernel.\n"
          ],
          "name": "stderr"
        },
        {
          "output_type": "execute_result",
          "data": {
            "text/plain": [
              "<matplotlib.axes._subplots.AxesSubplot at 0x7f085e9cccf8>"
            ]
          },
          "metadata": {
            "tags": []
          },
          "execution_count": 63
        },
        {
          "output_type": "display_data",
          "data": {
            "image/png": "[encoded data removed]",
            "text/plain": [
              "<Figure size 432x288 with 1 Axes>"
            ]
          },
          "metadata": {
            "tags": []
          }
        }
      ]
    },
    {
      "cell_type": "code",
      "metadata": {
        "id": "A3URnwZMum4Q",
        "colab_type": "code",
        "outputId": "e2a19462-ab64-4ab3-b438-b1fc6a3df076",
        "colab": {
          "base_uri": "https://localhost:8080/",
          "height": 514
        }
      },
      "source": [
        "#log_normalization to square_feet\n",
        "\n",
        "train['square_feet']=train['square_feet'].map(np.log)\n",
        "train.head(15)\n",
        "\n"
      ],
      "execution_count": 0,
      "outputs": [
        {
          "output_type": "execute_result",
          "data": {
            "text/html": [
              "<div>\n",
              "<style scoped>\n",
              "    .dataframe tbody tr th:only-of-type {\n",
              "        vertical-align: middle;\n",
              "    }\n",
              "\n",
              "    .dataframe tbody tr th {\n",
              "        vertical-align: top;\n",
              "    }\n",
              "\n",
              "    .dataframe thead th {\n",
              "        text-align: right;\n",
              "    }\n",
              "</style>\n",
              "<table border=\"1\" class=\"dataframe\">\n",
              "  <thead>\n",
              "    <tr style=\"text-align: right;\">\n",
              "      <th></th>\n",
              "      <th>building_id</th>\n",
              "      <th>meter</th>\n",
              "      <th>timestamp</th>\n",
              "      <th>meter_reading</th>\n",
              "      <th>square_feet</th>\n",
              "      <th>site_id</th>\n",
              "      <th>primary_use</th>\n",
              "      <th>air_temperature</th>\n",
              "      <th>dew_temperature</th>\n",
              "      <th>wind_speed</th>\n",
              "    </tr>\n",
              "  </thead>\n",
              "  <tbody>\n",
              "    <tr>\n",
              "      <th>0</th>\n",
              "      <td>0</td>\n",
              "      <td>0</td>\n",
              "      <td>6010100</td>\n",
              "      <td>0.0</td>\n",
              "      <td>8.913550</td>\n",
              "      <td>0</td>\n",
              "      <td>Education</td>\n",
              "      <td>25.0</td>\n",
              "      <td>20.0</td>\n",
              "      <td>0.0</td>\n",
              "    </tr>\n",
              "    <tr>\n",
              "      <th>1</th>\n",
              "      <td>1</td>\n",
              "      <td>0</td>\n",
              "      <td>6010100</td>\n",
              "      <td>0.0</td>\n",
              "      <td>7.908387</td>\n",
              "      <td>0</td>\n",
              "      <td>Education</td>\n",
              "      <td>25.0</td>\n",
              "      <td>20.0</td>\n",
              "      <td>0.0</td>\n",
              "    </tr>\n",
              "    <tr>\n",
              "      <th>2</th>\n",
              "      <td>2</td>\n",
              "      <td>0</td>\n",
              "      <td>6010100</td>\n",
              "      <td>0.0</td>\n",
              "      <td>8.589700</td>\n",
              "      <td>0</td>\n",
              "      <td>Education</td>\n",
              "      <td>25.0</td>\n",
              "      <td>20.0</td>\n",
              "      <td>0.0</td>\n",
              "    </tr>\n",
              "    <tr>\n",
              "      <th>3</th>\n",
              "      <td>3</td>\n",
              "      <td>0</td>\n",
              "      <td>6010100</td>\n",
              "      <td>0.0</td>\n",
              "      <td>10.072597</td>\n",
              "      <td>0</td>\n",
              "      <td>Education</td>\n",
              "      <td>25.0</td>\n",
              "      <td>20.0</td>\n",
              "      <td>0.0</td>\n",
              "    </tr>\n",
              "    <tr>\n",
              "      <th>4</th>\n",
              "      <td>4</td>\n",
              "      <td>0</td>\n",
              "      <td>6010100</td>\n",
              "      <td>0.0</td>\n",
              "      <td>11.666565</td>\n",
              "      <td>0</td>\n",
              "      <td>Education</td>\n",
              "      <td>25.0</td>\n",
              "      <td>20.0</td>\n",
              "      <td>0.0</td>\n",
              "    </tr>\n",
              "    <tr>\n",
              "      <th>5</th>\n",
              "      <td>5</td>\n",
              "      <td>0</td>\n",
              "      <td>6010100</td>\n",
              "      <td>0.0</td>\n",
              "      <td>8.987197</td>\n",
              "      <td>0</td>\n",
              "      <td>Education</td>\n",
              "      <td>25.0</td>\n",
              "      <td>20.0</td>\n",
              "      <td>0.0</td>\n",
              "    </tr>\n",
              "    <tr>\n",
              "      <th>6</th>\n",
              "      <td>6</td>\n",
              "      <td>0</td>\n",
              "      <td>6010100</td>\n",
              "      <td>0.0</td>\n",
              "      <td>10.237313</td>\n",
              "      <td>0</td>\n",
              "      <td>Lodging/residential</td>\n",
              "      <td>25.0</td>\n",
              "      <td>20.0</td>\n",
              "      <td>0.0</td>\n",
              "    </tr>\n",
              "    <tr>\n",
              "      <th>7</th>\n",
              "      <td>7</td>\n",
              "      <td>0</td>\n",
              "      <td>6010100</td>\n",
              "      <td>0.0</td>\n",
              "      <td>11.704157</td>\n",
              "      <td>0</td>\n",
              "      <td>Education</td>\n",
              "      <td>25.0</td>\n",
              "      <td>20.0</td>\n",
              "      <td>0.0</td>\n",
              "    </tr>\n",
              "    <tr>\n",
              "      <th>8</th>\n",
              "      <td>8</td>\n",
              "      <td>0</td>\n",
              "      <td>6010100</td>\n",
              "      <td>0.0</td>\n",
              "      <td>11.015493</td>\n",
              "      <td>0</td>\n",
              "      <td>Education</td>\n",
              "      <td>25.0</td>\n",
              "      <td>20.0</td>\n",
              "      <td>0.0</td>\n",
              "    </tr>\n",
              "    <tr>\n",
              "      <th>9</th>\n",
              "      <td>9</td>\n",
              "      <td>0</td>\n",
              "      <td>6010100</td>\n",
              "      <td>0.0</td>\n",
              "      <td>10.203592</td>\n",
              "      <td>0</td>\n",
              "      <td>Office</td>\n",
              "      <td>25.0</td>\n",
              "      <td>20.0</td>\n",
              "      <td>0.0</td>\n",
              "    </tr>\n",
              "    <tr>\n",
              "      <th>10</th>\n",
              "      <td>10</td>\n",
              "      <td>0</td>\n",
              "      <td>6010100</td>\n",
              "      <td>0.0</td>\n",
              "      <td>12.823345</td>\n",
              "      <td>0</td>\n",
              "      <td>Entertainment/public assembly</td>\n",
              "      <td>25.0</td>\n",
              "      <td>20.0</td>\n",
              "      <td>0.0</td>\n",
              "    </tr>\n",
              "    <tr>\n",
              "      <th>11</th>\n",
              "      <td>11</td>\n",
              "      <td>0</td>\n",
              "      <td>6010100</td>\n",
              "      <td>0.0</td>\n",
              "      <td>10.801064</td>\n",
              "      <td>0</td>\n",
              "      <td>Education</td>\n",
              "      <td>25.0</td>\n",
              "      <td>20.0</td>\n",
              "      <td>0.0</td>\n",
              "    </tr>\n",
              "    <tr>\n",
              "      <th>12</th>\n",
              "      <td>12</td>\n",
              "      <td>0</td>\n",
              "      <td>6010100</td>\n",
              "      <td>0.0</td>\n",
              "      <td>10.521372</td>\n",
              "      <td>0</td>\n",
              "      <td>Lodging/residential</td>\n",
              "      <td>25.0</td>\n",
              "      <td>20.0</td>\n",
              "      <td>0.0</td>\n",
              "    </tr>\n",
              "    <tr>\n",
              "      <th>13</th>\n",
              "      <td>13</td>\n",
              "      <td>0</td>\n",
              "      <td>6010100</td>\n",
              "      <td>0.0</td>\n",
              "      <td>11.506706</td>\n",
              "      <td>0</td>\n",
              "      <td>Education</td>\n",
              "      <td>25.0</td>\n",
              "      <td>20.0</td>\n",
              "      <td>0.0</td>\n",
              "    </tr>\n",
              "    <tr>\n",
              "      <th>14</th>\n",
              "      <td>14</td>\n",
              "      <td>0</td>\n",
              "      <td>6010100</td>\n",
              "      <td>0.0</td>\n",
              "      <td>11.365005</td>\n",
              "      <td>0</td>\n",
              "      <td>Education</td>\n",
              "      <td>25.0</td>\n",
              "      <td>20.0</td>\n",
              "      <td>0.0</td>\n",
              "    </tr>\n",
              "  </tbody>\n",
              "</table>\n",
              "</div>"
            ],
            "text/plain": [
              "    building_id  meter  timestamp  ...  air_temperature  dew_temperature  wind_speed\n",
              "0             0      0    6010100  ...             25.0             20.0         0.0\n",
              "1             1      0    6010100  ...             25.0             20.0         0.0\n",
              "2             2      0    6010100  ...             25.0             20.0         0.0\n",
              "3             3      0    6010100  ...             25.0             20.0         0.0\n",
              "4             4      0    6010100  ...             25.0             20.0         0.0\n",
              "5             5      0    6010100  ...             25.0             20.0         0.0\n",
              "6             6      0    6010100  ...             25.0             20.0         0.0\n",
              "7             7      0    6010100  ...             25.0             20.0         0.0\n",
              "8             8      0    6010100  ...             25.0             20.0         0.0\n",
              "9             9      0    6010100  ...             25.0             20.0         0.0\n",
              "10           10      0    6010100  ...             25.0             20.0         0.0\n",
              "11           11      0    6010100  ...             25.0             20.0         0.0\n",
              "12           12      0    6010100  ...             25.0             20.0         0.0\n",
              "13           13      0    6010100  ...             25.0             20.0         0.0\n",
              "14           14      0    6010100  ...             25.0             20.0         0.0\n",
              "\n",
              "[15 rows x 10 columns]"
            ]
          },
          "metadata": {
            "tags": []
          },
          "execution_count": 64
        }
      ]
    },
    {
      "cell_type": "code",
      "metadata": {
        "id": "tIM_uhXL961o",
        "colab_type": "code",
        "outputId": "90ccd28a-f449-4c97-fc5d-ecc225b951a9",
        "colab": {
          "base_uri": "https://localhost:8080/",
          "height": 339
        }
      },
      "source": [
        "train.square_feet.plot('box')"
      ],
      "execution_count": 0,
      "outputs": [
        {
          "output_type": "stream",
          "text": [
            "/usr/local/lib/python3.6/dist-packages/ipykernel_launcher.py:1: FutureWarning: `Series.plot()` should not be called with positional arguments, only keyword arguments. The order of positional arguments will change in the future. Use `Series.plot(kind='box')` instead of `Series.plot('box',)`.\n",
            "  \"\"\"Entry point for launching an IPython kernel.\n"
          ],
          "name": "stderr"
        },
        {
          "output_type": "execute_result",
          "data": {
            "text/plain": [
              "<matplotlib.axes._subplots.AxesSubplot at 0x7f085e905400>"
            ]
          },
          "metadata": {
            "tags": []
          },
          "execution_count": 65
        },
        {
          "output_type": "display_data",
          "data": {
            "image/png": "[encoded data removed]",
            "text/plain": [
              "<Figure size 432x288 with 1 Axes>"
            ]
          },
          "metadata": {
            "tags": []
          }
        }
      ]
    },
    {
      "cell_type": "code",
      "metadata": {
        "id": "7l-do4Rd_kKy",
        "colab_type": "code",
        "outputId": "673359dd-306f-4143-d48c-6ee5c7631387",
        "colab": {
          "base_uri": "https://localhost:8080/",
          "height": 428
        }
      },
      "source": [
        "train.primary_use.value_counts().plot.bar()"
      ],
      "execution_count": 0,
      "outputs": [
        {
          "output_type": "execute_result",
          "data": {
            "text/plain": [
              "<matplotlib.axes._subplots.AxesSubplot at 0x7f085e9804e0>"
            ]
          },
          "metadata": {
            "tags": []
          },
          "execution_count": 66
        },
        {
          "output_type": "display_data",
          "data": {
            "image/png": "[encoded data removed]",
            "text/plain": [
              "<Figure size 432x288 with 1 Axes>"
            ]
          },
          "metadata": {
            "tags": []
          }
        }
      ]
    },
    {
      "cell_type": "code",
      "metadata": {
        "id": "kw9HJqdaAlvH",
        "colab_type": "code",
        "outputId": "0888cb5c-2576-45a6-988c-41a5043bd3ec",
        "colab": {
          "base_uri": "https://localhost:8080/",
          "height": 102
        }
      },
      "source": [
        "# Sparse Categories \n",
        "\n",
        "idx = train.primary_use.isin(['Parking','Manufacturing/industrial','Food sales and service','Retail','Warehouse/storage','Services','Technology/science','Utility','Religious worship'])\n",
        "train.primary_use[idx] = 'Other'"
      ],
      "execution_count": 0,
      "outputs": [
        {
          "output_type": "stream",
          "text": [
            "/usr/local/lib/python3.6/dist-packages/ipykernel_launcher.py:2: SettingWithCopyWarning: \n",
            "A value is trying to be set on a copy of a slice from a DataFrame\n",
            "\n",
            "See the caveats in the documentation: http://pandas.pydata.org/pandas-docs/stable/user_guide/indexing.html#returning-a-view-versus-a-copy\n",
            "  \n"
          ],
          "name": "stderr"
        }
      ]
    },
    {
      "cell_type": "code",
      "metadata": {
        "id": "mFnx57UAEXjH",
        "colab_type": "code",
        "outputId": "fba5accb-39d6-48aa-e2a9-790be3a821f8",
        "colab": {
          "base_uri": "https://localhost:8080/",
          "height": 428
        }
      },
      "source": [
        "train.primary_use.value_counts().plot.bar()"
      ],
      "execution_count": 0,
      "outputs": [
        {
          "output_type": "execute_result",
          "data": {
            "text/plain": [
              "<matplotlib.axes._subplots.AxesSubplot at 0x7f085eb9e978>"
            ]
          },
          "metadata": {
            "tags": []
          },
          "execution_count": 68
        },
        {
          "output_type": "display_data",
          "data": {
            "image/png": "[encoded data removed]",
            "text/plain": [
              "<Figure size 432x288 with 1 Axes>"
            ]
          },
          "metadata": {
            "tags": []
          }
        }
      ]
    },
    {
      "cell_type": "code",
      "metadata": {
        "id": "2ujdG4TsEb1f",
        "colab_type": "code",
        "outputId": "6b8693c6-3d50-440f-8da4-8090184cbbea",
        "colab": {
          "base_uri": "https://localhost:8080/",
          "height": 279
        }
      },
      "source": [
        "# Label Encoding\n",
        "\n",
        "from sklearn.preprocessing import LabelEncoder\n",
        "LE = LabelEncoder()\n",
        "train['primary_use'] = LE.fit_transform(train['primary_use']).astype(np.int8)\n",
        "\n",
        "train.primary_use.value_counts().plot.bar()\n"
      ],
      "execution_count": 0,
      "outputs": [
        {
          "output_type": "execute_result",
          "data": {
            "text/plain": [
              "<matplotlib.axes._subplots.AxesSubplot at 0x7f084b03b320>"
            ]
          },
          "metadata": {
            "tags": []
          },
          "execution_count": 69
        },
        {
          "output_type": "display_data",
          "data": {
            "image/png": "[encoded data removed]",
            "text/plain": [
              "<Figure size 432x288 with 1 Axes>"
            ]
          },
          "metadata": {
            "tags": []
          }
        }
      ]
    },
    {
      "cell_type": "code",
      "metadata": {
        "id": "1kkbrQ1FPUwA",
        "colab_type": "code",
        "outputId": "e78264d2-5e40-4643-a396-c58dcf28ec24",
        "colab": {
          "base_uri": "https://localhost:8080/",
          "height": 204
        }
      },
      "source": [
        "train.isna().sum()"
      ],
      "execution_count": 0,
      "outputs": [
        {
          "output_type": "execute_result",
          "data": {
            "text/plain": [
              "building_id        0\n",
              "meter              0\n",
              "timestamp          0\n",
              "meter_reading      0\n",
              "square_feet        0\n",
              "site_id            0\n",
              "primary_use        0\n",
              "air_temperature    0\n",
              "dew_temperature    0\n",
              "wind_speed         0\n",
              "dtype: int64"
            ]
          },
          "metadata": {
            "tags": []
          },
          "execution_count": 70
        }
      ]
    },
    {
      "cell_type": "code",
      "metadata": {
        "id": "mOBYkX0hP5_V",
        "colab_type": "code",
        "outputId": "4dcf2cee-2238-480b-99ba-4025856ba8b0",
        "colab": {
          "base_uri": "https://localhost:8080/",
          "height": 290
        }
      },
      "source": [
        "train.meter.value_counts().plot.bar()"
      ],
      "execution_count": 0,
      "outputs": [
        {
          "output_type": "execute_result",
          "data": {
            "text/plain": [
              "<matplotlib.axes._subplots.AxesSubplot at 0x7f084b03bc88>"
            ]
          },
          "metadata": {
            "tags": []
          },
          "execution_count": 71
        },
        {
          "output_type": "display_data",
          "data": {
            "image/png": "[encoded data removed]",
            "text/plain": [
              "<Figure size 432x288 with 1 Axes>"
            ]
          },
          "metadata": {
            "tags": []
          }
        }
      ]
    },
    {
      "cell_type": "code",
      "metadata": {
        "id": "IZpE2GifQERO",
        "colab_type": "code",
        "outputId": "7cea61b8-d31b-41f1-9253-1e421682fc95",
        "colab": {
          "base_uri": "https://localhost:8080/",
          "height": 297
        }
      },
      "source": [
        "train.describe()\n"
      ],
      "execution_count": 0,
      "outputs": [
        {
          "output_type": "execute_result",
          "data": {
            "text/html": [
              "<div>\n",
              "<style scoped>\n",
              "    .dataframe tbody tr th:only-of-type {\n",
              "        vertical-align: middle;\n",
              "    }\n",
              "\n",
              "    .dataframe tbody tr th {\n",
              "        vertical-align: top;\n",
              "    }\n",
              "\n",
              "    .dataframe thead th {\n",
              "        text-align: right;\n",
              "    }\n",
              "</style>\n",
              "<table border=\"1\" class=\"dataframe\">\n",
              "  <thead>\n",
              "    <tr style=\"text-align: right;\">\n",
              "      <th></th>\n",
              "      <th>building_id</th>\n",
              "      <th>meter</th>\n",
              "      <th>timestamp</th>\n",
              "      <th>meter_reading</th>\n",
              "      <th>square_feet</th>\n",
              "      <th>site_id</th>\n",
              "      <th>primary_use</th>\n",
              "      <th>air_temperature</th>\n",
              "      <th>dew_temperature</th>\n",
              "      <th>wind_speed</th>\n",
              "    </tr>\n",
              "  </thead>\n",
              "  <tbody>\n",
              "    <tr>\n",
              "      <th>count</th>\n",
              "      <td>2.021610e+07</td>\n",
              "      <td>2.021610e+07</td>\n",
              "      <td>2.021610e+07</td>\n",
              "      <td>2.021610e+07</td>\n",
              "      <td>2.021610e+07</td>\n",
              "      <td>2.021610e+07</td>\n",
              "      <td>2.021610e+07</td>\n",
              "      <td>2.021610e+07</td>\n",
              "      <td>2.021610e+07</td>\n",
              "      <td>2.021610e+07</td>\n",
              "    </tr>\n",
              "    <tr>\n",
              "      <th>mean</th>\n",
              "      <td>7.992780e+02</td>\n",
              "      <td>6.624412e-01</td>\n",
              "      <td>6.067372e+06</td>\n",
              "      <td>2.117121e+03</td>\n",
              "      <td>1.103941e+01</td>\n",
              "      <td>7.992232e+00</td>\n",
              "      <td>2.125675e+00</td>\n",
              "      <td>1.599084e+01</td>\n",
              "      <td>7.752852e+00</td>\n",
              "      <td>3.375552e+00</td>\n",
              "    </tr>\n",
              "    <tr>\n",
              "      <th>std</th>\n",
              "      <td>4.269133e+02</td>\n",
              "      <td>9.309921e-01</td>\n",
              "      <td>3.438831e+04</td>\n",
              "      <td>1.532356e+05</td>\n",
              "      <td>1.180525e+00</td>\n",
              "      <td>5.099060e+00</td>\n",
              "      <td>2.128464e+00</td>\n",
              "      <td>1.092121e+01</td>\n",
              "      <td>1.015372e+01</td>\n",
              "      <td>2.257749e+00</td>\n",
              "    </tr>\n",
              "    <tr>\n",
              "      <th>min</th>\n",
              "      <td>0.000000e+00</td>\n",
              "      <td>0.000000e+00</td>\n",
              "      <td>6.010100e+06</td>\n",
              "      <td>0.000000e+00</td>\n",
              "      <td>5.645447e+00</td>\n",
              "      <td>0.000000e+00</td>\n",
              "      <td>0.000000e+00</td>\n",
              "      <td>-2.890000e+01</td>\n",
              "      <td>-3.500000e+01</td>\n",
              "      <td>0.000000e+00</td>\n",
              "    </tr>\n",
              "    <tr>\n",
              "      <th>25%</th>\n",
              "      <td>3.930000e+02</td>\n",
              "      <td>0.000000e+00</td>\n",
              "      <td>6.040521e+06</td>\n",
              "      <td>1.830000e+01</td>\n",
              "      <td>1.038983e+01</td>\n",
              "      <td>3.000000e+00</td>\n",
              "      <td>0.000000e+00</td>\n",
              "      <td>8.900000e+00</td>\n",
              "      <td>3.000000e-01</td>\n",
              "      <td>2.100000e+00</td>\n",
              "    </tr>\n",
              "    <tr>\n",
              "      <th>50%</th>\n",
              "      <td>8.950000e+02</td>\n",
              "      <td>0.000000e+00</td>\n",
              "      <td>6.070417e+06</td>\n",
              "      <td>7.877500e+01</td>\n",
              "      <td>1.119422e+01</td>\n",
              "      <td>9.000000e+00</td>\n",
              "      <td>1.000000e+00</td>\n",
              "      <td>1.670000e+01</td>\n",
              "      <td>8.900000e+00</td>\n",
              "      <td>3.100000e+00</td>\n",
              "    </tr>\n",
              "    <tr>\n",
              "      <th>75%</th>\n",
              "      <td>1.179000e+03</td>\n",
              "      <td>1.000000e+00</td>\n",
              "      <td>6.100222e+06</td>\n",
              "      <td>2.679840e+02</td>\n",
              "      <td>1.184304e+01</td>\n",
              "      <td>1.300000e+01</td>\n",
              "      <td>4.000000e+00</td>\n",
              "      <td>2.390000e+01</td>\n",
              "      <td>1.600000e+01</td>\n",
              "      <td>4.600000e+00</td>\n",
              "    </tr>\n",
              "    <tr>\n",
              "      <th>max</th>\n",
              "      <td>1.448000e+03</td>\n",
              "      <td>3.000000e+00</td>\n",
              "      <td>6.123123e+06</td>\n",
              "      <td>2.190470e+07</td>\n",
              "      <td>1.368198e+01</td>\n",
              "      <td>1.500000e+01</td>\n",
              "      <td>6.000000e+00</td>\n",
              "      <td>4.720000e+01</td>\n",
              "      <td>2.610000e+01</td>\n",
              "      <td>1.900000e+01</td>\n",
              "    </tr>\n",
              "  </tbody>\n",
              "</table>\n",
              "</div>"
            ],
            "text/plain": [
              "        building_id         meter  ...  dew_temperature    wind_speed\n",
              "count  2.021610e+07  2.021610e+07  ...     2.021610e+07  2.021610e+07\n",
              "mean   7.992780e+02  6.624412e-01  ...     7.752852e+00  3.375552e+00\n",
              "std    4.269133e+02  9.309921e-01  ...     1.015372e+01  2.257749e+00\n",
              "min    0.000000e+00  0.000000e+00  ...    -3.500000e+01  0.000000e+00\n",
              "25%    3.930000e+02  0.000000e+00  ...     3.000000e-01  2.100000e+00\n",
              "50%    8.950000e+02  0.000000e+00  ...     8.900000e+00  3.100000e+00\n",
              "75%    1.179000e+03  1.000000e+00  ...     1.600000e+01  4.600000e+00\n",
              "max    1.448000e+03  3.000000e+00  ...     2.610000e+01  1.900000e+01\n",
              "\n",
              "[8 rows x 10 columns]"
            ]
          },
          "metadata": {
            "tags": []
          },
          "execution_count": 72
        }
      ]
    },
    {
      "cell_type": "code",
      "metadata": {
        "id": "vSyxmixqRXQQ",
        "colab_type": "code",
        "outputId": "fa453da8-ae00-4382-8002-a9f54076e55d",
        "colab": {
          "base_uri": "https://localhost:8080/",
          "height": 279
        }
      },
      "source": [
        "fig=train.wind_speed.plot.hist(rot=50)"
      ],
      "execution_count": 0,
      "outputs": [
        {
          "output_type": "display_data",
          "data": {
            "image/png": "[encoded data removed]",
            "text/plain": [
              "<Figure size 432x288 with 1 Axes>"
            ]
          },
          "metadata": {
            "tags": []
          }
        }
      ]
    },
    {
      "cell_type": "code",
      "metadata": {
        "id": "8rleBDBnSqV6",
        "colab_type": "code",
        "colab": {}
      },
      "source": [
        "#MinMax normalization ('air_temperature','dew_temperature','wind_speed')\n",
        "\n",
        "from sklearn.preprocessing import MinMaxScaler\n",
        "\n",
        "mmsc = MinMaxScaler()\n",
        "non_skewed_vars = ['air_temperature','dew_temperature','wind_speed']\n",
        "for x in non_skewed_vars:\n",
        "    u = mmsc.fit_transform(train[[x]])  # this returns a 2D array with one column\n",
        "    u = u.ravel()  # convert to a 1D array\n",
        "    train[x] = pd.Series(u)"
      ],
      "execution_count": 0,
      "outputs": []
    },
    {
      "cell_type": "code",
      "metadata": {
        "id": "Rm3HOAGygsGb",
        "colab_type": "code",
        "outputId": "2d7b8d5e-5bd8-475a-d662-c5ab598140a9",
        "colab": {
          "base_uri": "https://localhost:8080/",
          "height": 514
        }
      },
      "source": [
        "# same processing to test\n",
        "\n",
        "test = pd.read_csv ('/content/gdrive/My Drive/ashrae-energy-prediction/test.csv')\n",
        "test.head(15)"
      ],
      "execution_count": 0,
      "outputs": [
        {
          "output_type": "execute_result",
          "data": {
            "text/html": [
              "<div>\n",
              "<style scoped>\n",
              "    .dataframe tbody tr th:only-of-type {\n",
              "        vertical-align: middle;\n",
              "    }\n",
              "\n",
              "    .dataframe tbody tr th {\n",
              "        vertical-align: top;\n",
              "    }\n",
              "\n",
              "    .dataframe thead th {\n",
              "        text-align: right;\n",
              "    }\n",
              "</style>\n",
              "<table border=\"1\" class=\"dataframe\">\n",
              "  <thead>\n",
              "    <tr style=\"text-align: right;\">\n",
              "      <th></th>\n",
              "      <th>row_id</th>\n",
              "      <th>building_id</th>\n",
              "      <th>meter</th>\n",
              "      <th>timestamp</th>\n",
              "    </tr>\n",
              "  </thead>\n",
              "  <tbody>\n",
              "    <tr>\n",
              "      <th>0</th>\n",
              "      <td>0</td>\n",
              "      <td>0</td>\n",
              "      <td>0</td>\n",
              "      <td>2017-01-01 00:00:00</td>\n",
              "    </tr>\n",
              "    <tr>\n",
              "      <th>1</th>\n",
              "      <td>1</td>\n",
              "      <td>1</td>\n",
              "      <td>0</td>\n",
              "      <td>2017-01-01 00:00:00</td>\n",
              "    </tr>\n",
              "    <tr>\n",
              "      <th>2</th>\n",
              "      <td>2</td>\n",
              "      <td>2</td>\n",
              "      <td>0</td>\n",
              "      <td>2017-01-01 00:00:00</td>\n",
              "    </tr>\n",
              "    <tr>\n",
              "      <th>3</th>\n",
              "      <td>3</td>\n",
              "      <td>3</td>\n",
              "      <td>0</td>\n",
              "      <td>2017-01-01 00:00:00</td>\n",
              "    </tr>\n",
              "    <tr>\n",
              "      <th>4</th>\n",
              "      <td>4</td>\n",
              "      <td>4</td>\n",
              "      <td>0</td>\n",
              "      <td>2017-01-01 00:00:00</td>\n",
              "    </tr>\n",
              "    <tr>\n",
              "      <th>5</th>\n",
              "      <td>5</td>\n",
              "      <td>5</td>\n",
              "      <td>0</td>\n",
              "      <td>2017-01-01 00:00:00</td>\n",
              "    </tr>\n",
              "    <tr>\n",
              "      <th>6</th>\n",
              "      <td>6</td>\n",
              "      <td>6</td>\n",
              "      <td>0</td>\n",
              "      <td>2017-01-01 00:00:00</td>\n",
              "    </tr>\n",
              "    <tr>\n",
              "      <th>7</th>\n",
              "      <td>7</td>\n",
              "      <td>7</td>\n",
              "      <td>0</td>\n",
              "      <td>2017-01-01 00:00:00</td>\n",
              "    </tr>\n",
              "    <tr>\n",
              "      <th>8</th>\n",
              "      <td>8</td>\n",
              "      <td>7</td>\n",
              "      <td>1</td>\n",
              "      <td>2017-01-01 00:00:00</td>\n",
              "    </tr>\n",
              "    <tr>\n",
              "      <th>9</th>\n",
              "      <td>9</td>\n",
              "      <td>8</td>\n",
              "      <td>0</td>\n",
              "      <td>2017-01-01 00:00:00</td>\n",
              "    </tr>\n",
              "    <tr>\n",
              "      <th>10</th>\n",
              "      <td>10</td>\n",
              "      <td>9</td>\n",
              "      <td>0</td>\n",
              "      <td>2017-01-01 00:00:00</td>\n",
              "    </tr>\n",
              "    <tr>\n",
              "      <th>11</th>\n",
              "      <td>11</td>\n",
              "      <td>9</td>\n",
              "      <td>1</td>\n",
              "      <td>2017-01-01 00:00:00</td>\n",
              "    </tr>\n",
              "    <tr>\n",
              "      <th>12</th>\n",
              "      <td>12</td>\n",
              "      <td>10</td>\n",
              "      <td>0</td>\n",
              "      <td>2017-01-01 00:00:00</td>\n",
              "    </tr>\n",
              "    <tr>\n",
              "      <th>13</th>\n",
              "      <td>13</td>\n",
              "      <td>11</td>\n",
              "      <td>0</td>\n",
              "      <td>2017-01-01 00:00:00</td>\n",
              "    </tr>\n",
              "    <tr>\n",
              "      <th>14</th>\n",
              "      <td>14</td>\n",
              "      <td>12</td>\n",
              "      <td>0</td>\n",
              "      <td>2017-01-01 00:00:00</td>\n",
              "    </tr>\n",
              "  </tbody>\n",
              "</table>\n",
              "</div>"
            ],
            "text/plain": [
              "    row_id  building_id  meter            timestamp\n",
              "0        0            0      0  2017-01-01 00:00:00\n",
              "1        1            1      0  2017-01-01 00:00:00\n",
              "2        2            2      0  2017-01-01 00:00:00\n",
              "3        3            3      0  2017-01-01 00:00:00\n",
              "4        4            4      0  2017-01-01 00:00:00\n",
              "5        5            5      0  2017-01-01 00:00:00\n",
              "6        6            6      0  2017-01-01 00:00:00\n",
              "7        7            7      0  2017-01-01 00:00:00\n",
              "8        8            7      1  2017-01-01 00:00:00\n",
              "9        9            8      0  2017-01-01 00:00:00\n",
              "10      10            9      0  2017-01-01 00:00:00\n",
              "11      11            9      1  2017-01-01 00:00:00\n",
              "12      12           10      0  2017-01-01 00:00:00\n",
              "13      13           11      0  2017-01-01 00:00:00\n",
              "14      14           12      0  2017-01-01 00:00:00"
            ]
          },
          "metadata": {
            "tags": []
          },
          "execution_count": 75
        }
      ]
    },
    {
      "cell_type": "code",
      "metadata": {
        "id": "JsPH4fs4FLgr",
        "colab_type": "code",
        "outputId": "64f1b406-43ce-4001-92f3-6ff6df27c4da",
        "colab": {
          "base_uri": "https://localhost:8080/",
          "height": 34
        }
      },
      "source": [
        "test.shape"
      ],
      "execution_count": 0,
      "outputs": [
        {
          "output_type": "execute_result",
          "data": {
            "text/plain": [
              "(41697600, 4)"
            ]
          },
          "metadata": {
            "tags": []
          },
          "execution_count": 76
        }
      ]
    },
    {
      "cell_type": "code",
      "metadata": {
        "id": "V_MMB9mdFLyV",
        "colab_type": "code",
        "outputId": "316ae7b1-2e84-4942-e2f7-3680a0fd6f46",
        "colab": {
          "base_uri": "https://localhost:8080/",
          "height": 514
        }
      },
      "source": [
        "weather_test = pd.read_csv ('/content/gdrive/My Drive/ashrae-energy-prediction/weather_test.csv')\n",
        "weather_test.head(15)"
      ],
      "execution_count": 0,
      "outputs": [
        {
          "output_type": "execute_result",
          "data": {
            "text/html": [
              "<div>\n",
              "<style scoped>\n",
              "    .dataframe tbody tr th:only-of-type {\n",
              "        vertical-align: middle;\n",
              "    }\n",
              "\n",
              "    .dataframe tbody tr th {\n",
              "        vertical-align: top;\n",
              "    }\n",
              "\n",
              "    .dataframe thead th {\n",
              "        text-align: right;\n",
              "    }\n",
              "</style>\n",
              "<table border=\"1\" class=\"dataframe\">\n",
              "  <thead>\n",
              "    <tr style=\"text-align: right;\">\n",
              "      <th></th>\n",
              "      <th>site_id</th>\n",
              "      <th>timestamp</th>\n",
              "      <th>air_temperature</th>\n",
              "      <th>cloud_coverage</th>\n",
              "      <th>dew_temperature</th>\n",
              "      <th>precip_depth_1_hr</th>\n",
              "      <th>sea_level_pressure</th>\n",
              "      <th>wind_direction</th>\n",
              "      <th>wind_speed</th>\n",
              "    </tr>\n",
              "  </thead>\n",
              "  <tbody>\n",
              "    <tr>\n",
              "      <th>0</th>\n",
              "      <td>0</td>\n",
              "      <td>2017-01-01 00:00:00</td>\n",
              "      <td>17.8</td>\n",
              "      <td>4.0</td>\n",
              "      <td>11.7</td>\n",
              "      <td>NaN</td>\n",
              "      <td>1021.4</td>\n",
              "      <td>100.0</td>\n",
              "      <td>3.6</td>\n",
              "    </tr>\n",
              "    <tr>\n",
              "      <th>1</th>\n",
              "      <td>0</td>\n",
              "      <td>2017-01-01 01:00:00</td>\n",
              "      <td>17.8</td>\n",
              "      <td>2.0</td>\n",
              "      <td>12.8</td>\n",
              "      <td>0.0</td>\n",
              "      <td>1022.0</td>\n",
              "      <td>130.0</td>\n",
              "      <td>3.1</td>\n",
              "    </tr>\n",
              "    <tr>\n",
              "      <th>2</th>\n",
              "      <td>0</td>\n",
              "      <td>2017-01-01 02:00:00</td>\n",
              "      <td>16.1</td>\n",
              "      <td>0.0</td>\n",
              "      <td>12.8</td>\n",
              "      <td>0.0</td>\n",
              "      <td>1021.9</td>\n",
              "      <td>140.0</td>\n",
              "      <td>3.1</td>\n",
              "    </tr>\n",
              "    <tr>\n",
              "      <th>3</th>\n",
              "      <td>0</td>\n",
              "      <td>2017-01-01 03:00:00</td>\n",
              "      <td>17.2</td>\n",
              "      <td>0.0</td>\n",
              "      <td>13.3</td>\n",
              "      <td>0.0</td>\n",
              "      <td>1022.2</td>\n",
              "      <td>140.0</td>\n",
              "      <td>3.1</td>\n",
              "    </tr>\n",
              "    <tr>\n",
              "      <th>4</th>\n",
              "      <td>0</td>\n",
              "      <td>2017-01-01 04:00:00</td>\n",
              "      <td>16.7</td>\n",
              "      <td>2.0</td>\n",
              "      <td>13.3</td>\n",
              "      <td>0.0</td>\n",
              "      <td>1022.3</td>\n",
              "      <td>130.0</td>\n",
              "      <td>2.6</td>\n",
              "    </tr>\n",
              "    <tr>\n",
              "      <th>5</th>\n",
              "      <td>0</td>\n",
              "      <td>2017-01-01 05:00:00</td>\n",
              "      <td>15.6</td>\n",
              "      <td>2.0</td>\n",
              "      <td>12.8</td>\n",
              "      <td>0.0</td>\n",
              "      <td>1022.1</td>\n",
              "      <td>130.0</td>\n",
              "      <td>2.1</td>\n",
              "    </tr>\n",
              "    <tr>\n",
              "      <th>6</th>\n",
              "      <td>0</td>\n",
              "      <td>2017-01-01 06:00:00</td>\n",
              "      <td>15.0</td>\n",
              "      <td>0.0</td>\n",
              "      <td>12.8</td>\n",
              "      <td>0.0</td>\n",
              "      <td>1021.7</td>\n",
              "      <td>150.0</td>\n",
              "      <td>1.5</td>\n",
              "    </tr>\n",
              "    <tr>\n",
              "      <th>7</th>\n",
              "      <td>0</td>\n",
              "      <td>2017-01-01 07:00:00</td>\n",
              "      <td>15.0</td>\n",
              "      <td>2.0</td>\n",
              "      <td>13.3</td>\n",
              "      <td>0.0</td>\n",
              "      <td>1021.6</td>\n",
              "      <td>0.0</td>\n",
              "      <td>0.0</td>\n",
              "    </tr>\n",
              "    <tr>\n",
              "      <th>8</th>\n",
              "      <td>0</td>\n",
              "      <td>2017-01-01 08:00:00</td>\n",
              "      <td>13.3</td>\n",
              "      <td>0.0</td>\n",
              "      <td>12.2</td>\n",
              "      <td>0.0</td>\n",
              "      <td>1021.4</td>\n",
              "      <td>0.0</td>\n",
              "      <td>0.0</td>\n",
              "    </tr>\n",
              "    <tr>\n",
              "      <th>9</th>\n",
              "      <td>0</td>\n",
              "      <td>2017-01-01 09:00:00</td>\n",
              "      <td>12.2</td>\n",
              "      <td>4.0</td>\n",
              "      <td>11.7</td>\n",
              "      <td>0.0</td>\n",
              "      <td>1021.4</td>\n",
              "      <td>0.0</td>\n",
              "      <td>0.0</td>\n",
              "    </tr>\n",
              "    <tr>\n",
              "      <th>10</th>\n",
              "      <td>0</td>\n",
              "      <td>2017-01-01 10:00:00</td>\n",
              "      <td>13.9</td>\n",
              "      <td>2.0</td>\n",
              "      <td>12.8</td>\n",
              "      <td>0.0</td>\n",
              "      <td>1021.0</td>\n",
              "      <td>80.0</td>\n",
              "      <td>1.5</td>\n",
              "    </tr>\n",
              "    <tr>\n",
              "      <th>11</th>\n",
              "      <td>0</td>\n",
              "      <td>2017-01-01 11:00:00</td>\n",
              "      <td>13.9</td>\n",
              "      <td>0.0</td>\n",
              "      <td>12.8</td>\n",
              "      <td>0.0</td>\n",
              "      <td>1021.0</td>\n",
              "      <td>0.0</td>\n",
              "      <td>0.0</td>\n",
              "    </tr>\n",
              "    <tr>\n",
              "      <th>12</th>\n",
              "      <td>0</td>\n",
              "      <td>2017-01-01 12:00:00</td>\n",
              "      <td>12.2</td>\n",
              "      <td>2.0</td>\n",
              "      <td>11.1</td>\n",
              "      <td>0.0</td>\n",
              "      <td>1021.6</td>\n",
              "      <td>110.0</td>\n",
              "      <td>1.5</td>\n",
              "    </tr>\n",
              "    <tr>\n",
              "      <th>13</th>\n",
              "      <td>0</td>\n",
              "      <td>2017-01-01 13:00:00</td>\n",
              "      <td>13.3</td>\n",
              "      <td>2.0</td>\n",
              "      <td>12.2</td>\n",
              "      <td>0.0</td>\n",
              "      <td>1021.9</td>\n",
              "      <td>150.0</td>\n",
              "      <td>3.1</td>\n",
              "    </tr>\n",
              "    <tr>\n",
              "      <th>14</th>\n",
              "      <td>0</td>\n",
              "      <td>2017-01-01 14:00:00</td>\n",
              "      <td>17.8</td>\n",
              "      <td>4.0</td>\n",
              "      <td>15.0</td>\n",
              "      <td>0.0</td>\n",
              "      <td>1022.5</td>\n",
              "      <td>160.0</td>\n",
              "      <td>2.6</td>\n",
              "    </tr>\n",
              "  </tbody>\n",
              "</table>\n",
              "</div>"
            ],
            "text/plain": [
              "    site_id            timestamp  ...  wind_direction  wind_speed\n",
              "0         0  2017-01-01 00:00:00  ...           100.0         3.6\n",
              "1         0  2017-01-01 01:00:00  ...           130.0         3.1\n",
              "2         0  2017-01-01 02:00:00  ...           140.0         3.1\n",
              "3         0  2017-01-01 03:00:00  ...           140.0         3.1\n",
              "4         0  2017-01-01 04:00:00  ...           130.0         2.6\n",
              "5         0  2017-01-01 05:00:00  ...           130.0         2.1\n",
              "6         0  2017-01-01 06:00:00  ...           150.0         1.5\n",
              "7         0  2017-01-01 07:00:00  ...             0.0         0.0\n",
              "8         0  2017-01-01 08:00:00  ...             0.0         0.0\n",
              "9         0  2017-01-01 09:00:00  ...             0.0         0.0\n",
              "10        0  2017-01-01 10:00:00  ...            80.0         1.5\n",
              "11        0  2017-01-01 11:00:00  ...             0.0         0.0\n",
              "12        0  2017-01-01 12:00:00  ...           110.0         1.5\n",
              "13        0  2017-01-01 13:00:00  ...           150.0         3.1\n",
              "14        0  2017-01-01 14:00:00  ...           160.0         2.6\n",
              "\n",
              "[15 rows x 9 columns]"
            ]
          },
          "metadata": {
            "tags": []
          },
          "execution_count": 77
        }
      ]
    },
    {
      "cell_type": "code",
      "metadata": {
        "id": "Pbb33oCDG_TH",
        "colab_type": "code",
        "outputId": "b10c8eb9-f20f-4f33-ff27-16a8ac182119",
        "colab": {
          "base_uri": "https://localhost:8080/",
          "height": 187
        }
      },
      "source": [
        "weather_test.isna().sum()"
      ],
      "execution_count": 0,
      "outputs": [
        {
          "output_type": "execute_result",
          "data": {
            "text/plain": [
              "site_id                    0\n",
              "timestamp                  0\n",
              "air_temperature          104\n",
              "cloud_coverage        140448\n",
              "dew_temperature          327\n",
              "precip_depth_1_hr      95588\n",
              "sea_level_pressure     21265\n",
              "wind_direction         12370\n",
              "wind_speed               460\n",
              "dtype: int64"
            ]
          },
          "metadata": {
            "tags": []
          },
          "execution_count": 78
        }
      ]
    },
    {
      "cell_type": "code",
      "metadata": {
        "id": "JLwvFeVPIMLZ",
        "colab_type": "code",
        "colab": {}
      },
      "source": [
        "var_test = [x for x in weather_test.columns if x not in ['cloud_coverage','precip_depth_1_hr','sea_level_pressure','wind_direction']]\n",
        "new_weather_test = weather_test[var_test]"
      ],
      "execution_count": 0,
      "outputs": []
    },
    {
      "cell_type": "code",
      "metadata": {
        "id": "Cor35_3mJSPi",
        "colab_type": "code",
        "outputId": "feaa94ed-574c-47e9-cbf2-1f167c86086d",
        "colab": {
          "base_uri": "https://localhost:8080/",
          "height": 102
        }
      },
      "source": [
        "new_weather_test['wind_speed'].fillna(new_weather_test['wind_speed'].median(), inplace=True)\n",
        "new_weather_test['air_temperature'].fillna(new_weather_test['air_temperature'].median(), inplace=True)\n",
        "new_weather_test['dew_temperature'].fillna(new_weather_test['dew_temperature'].median(), inplace=True)\n"
      ],
      "execution_count": 0,
      "outputs": [
        {
          "output_type": "stream",
          "text": [
            "/usr/local/lib/python3.6/dist-packages/pandas/core/generic.py:6287: SettingWithCopyWarning: \n",
            "A value is trying to be set on a copy of a slice from a DataFrame\n",
            "\n",
            "See the caveats in the documentation: http://pandas.pydata.org/pandas-docs/stable/user_guide/indexing.html#returning-a-view-versus-a-copy\n",
            "  self._update_inplace(new_data)\n"
          ],
          "name": "stderr"
        }
      ]
    },
    {
      "cell_type": "code",
      "metadata": {
        "id": "5ZXkXzPeLFTP",
        "colab_type": "code",
        "outputId": "f8b828fb-dfa6-47de-87fa-6add4a3140c0",
        "colab": {
          "base_uri": "https://localhost:8080/",
          "height": 119
        }
      },
      "source": [
        "new_weather_test.isna().sum()"
      ],
      "execution_count": 0,
      "outputs": [
        {
          "output_type": "execute_result",
          "data": {
            "text/plain": [
              "site_id            0\n",
              "timestamp          0\n",
              "air_temperature    0\n",
              "dew_temperature    0\n",
              "wind_speed         0\n",
              "dtype: int64"
            ]
          },
          "metadata": {
            "tags": []
          },
          "execution_count": 81
        }
      ]
    },
    {
      "cell_type": "code",
      "metadata": {
        "id": "uNMxhrpyLSyV",
        "colab_type": "code",
        "colab": {}
      },
      "source": [
        "test_building_id = test['building_id'].to_list()\n",
        "test_square_feet = []\n",
        "for i in range(len(test_building_id)):\n",
        "    test_square_feet.append(new_building_metadata_square_feet[test_building_id[i]])"
      ],
      "execution_count": 0,
      "outputs": []
    },
    {
      "cell_type": "code",
      "metadata": {
        "id": "anIbL27MMGkF",
        "colab_type": "code",
        "outputId": "e19c10f0-6e82-4a15-83bd-a857f460dded",
        "colab": {
          "base_uri": "https://localhost:8080/",
          "height": 204
        }
      },
      "source": [
        "test['square_feet']=test_square_feet\n",
        "test_square_feet = []\n",
        "test.head()"
      ],
      "execution_count": 0,
      "outputs": [
        {
          "output_type": "execute_result",
          "data": {
            "text/html": [
              "<div>\n",
              "<style scoped>\n",
              "    .dataframe tbody tr th:only-of-type {\n",
              "        vertical-align: middle;\n",
              "    }\n",
              "\n",
              "    .dataframe tbody tr th {\n",
              "        vertical-align: top;\n",
              "    }\n",
              "\n",
              "    .dataframe thead th {\n",
              "        text-align: right;\n",
              "    }\n",
              "</style>\n",
              "<table border=\"1\" class=\"dataframe\">\n",
              "  <thead>\n",
              "    <tr style=\"text-align: right;\">\n",
              "      <th></th>\n",
              "      <th>row_id</th>\n",
              "      <th>building_id</th>\n",
              "      <th>meter</th>\n",
              "      <th>timestamp</th>\n",
              "      <th>square_feet</th>\n",
              "    </tr>\n",
              "  </thead>\n",
              "  <tbody>\n",
              "    <tr>\n",
              "      <th>0</th>\n",
              "      <td>0</td>\n",
              "      <td>0</td>\n",
              "      <td>0</td>\n",
              "      <td>2017-01-01 00:00:00</td>\n",
              "      <td>7432</td>\n",
              "    </tr>\n",
              "    <tr>\n",
              "      <th>1</th>\n",
              "      <td>1</td>\n",
              "      <td>1</td>\n",
              "      <td>0</td>\n",
              "      <td>2017-01-01 00:00:00</td>\n",
              "      <td>2720</td>\n",
              "    </tr>\n",
              "    <tr>\n",
              "      <th>2</th>\n",
              "      <td>2</td>\n",
              "      <td>2</td>\n",
              "      <td>0</td>\n",
              "      <td>2017-01-01 00:00:00</td>\n",
              "      <td>5376</td>\n",
              "    </tr>\n",
              "    <tr>\n",
              "      <th>3</th>\n",
              "      <td>3</td>\n",
              "      <td>3</td>\n",
              "      <td>0</td>\n",
              "      <td>2017-01-01 00:00:00</td>\n",
              "      <td>23685</td>\n",
              "    </tr>\n",
              "    <tr>\n",
              "      <th>4</th>\n",
              "      <td>4</td>\n",
              "      <td>4</td>\n",
              "      <td>0</td>\n",
              "      <td>2017-01-01 00:00:00</td>\n",
              "      <td>116607</td>\n",
              "    </tr>\n",
              "  </tbody>\n",
              "</table>\n",
              "</div>"
            ],
            "text/plain": [
              "   row_id  building_id  meter            timestamp  square_feet\n",
              "0       0            0      0  2017-01-01 00:00:00         7432\n",
              "1       1            1      0  2017-01-01 00:00:00         2720\n",
              "2       2            2      0  2017-01-01 00:00:00         5376\n",
              "3       3            3      0  2017-01-01 00:00:00        23685\n",
              "4       4            4      0  2017-01-01 00:00:00       116607"
            ]
          },
          "metadata": {
            "tags": []
          },
          "execution_count": 83
        }
      ]
    },
    {
      "cell_type": "code",
      "metadata": {
        "id": "vzNSXiq4MMBY",
        "colab_type": "code",
        "colab": {}
      },
      "source": [
        "test_site_id = []\n",
        "for i in range(len(test_building_id)):\n",
        "    test_site_id.append(new_building_metadata_site_id[test_building_id[i]])\n",
        "test['site_id'] = test_site_id \n",
        "test_site_id = []"
      ],
      "execution_count": 0,
      "outputs": []
    },
    {
      "cell_type": "code",
      "metadata": {
        "id": "Zqrz5u_6NHlg",
        "colab_type": "code",
        "colab": {}
      },
      "source": [
        "test_primary_use = []\n",
        "for i in range(len(test_building_id)):\n",
        "    test_primary_use.append(new_building_metadata_primary_use[test_building_id[i]])\n",
        "test['primary_use']=test_primary_use\n",
        "test_primary_use = []\n",
        "test_building_id = []"
      ],
      "execution_count": 0,
      "outputs": []
    },
    {
      "cell_type": "code",
      "metadata": {
        "id": "B6VcIbhYNkxt",
        "colab_type": "code",
        "outputId": "438e3364-04a0-4d82-9389-939c5f5bbeb1",
        "colab": {
          "base_uri": "https://localhost:8080/",
          "height": 119
        }
      },
      "source": [
        "new_weather_test['timestamp'] = new_weather_test['timestamp'].map(timestamp_tr)\n"
      ],
      "execution_count": 0,
      "outputs": [
        {
          "output_type": "stream",
          "text": [
            "/usr/local/lib/python3.6/dist-packages/ipykernel_launcher.py:1: SettingWithCopyWarning: \n",
            "A value is trying to be set on a copy of a slice from a DataFrame.\n",
            "Try using .loc[row_indexer,col_indexer] = value instead\n",
            "\n",
            "See the caveats in the documentation: http://pandas.pydata.org/pandas-docs/stable/user_guide/indexing.html#returning-a-view-versus-a-copy\n",
            "  \"\"\"Entry point for launching an IPython kernel.\n"
          ],
          "name": "stderr"
        }
      ]
    },
    {
      "cell_type": "code",
      "metadata": {
        "id": "yuphIcldOxmN",
        "colab_type": "code",
        "outputId": "50802acb-0bbc-4b4d-fdd5-bd8de4b0d63b",
        "colab": {
          "base_uri": "https://localhost:8080/",
          "height": 204
        }
      },
      "source": [
        "new_weather_test.head()"
      ],
      "execution_count": 0,
      "outputs": [
        {
          "output_type": "execute_result",
          "data": {
            "text/html": [
              "<div>\n",
              "<style scoped>\n",
              "    .dataframe tbody tr th:only-of-type {\n",
              "        vertical-align: middle;\n",
              "    }\n",
              "\n",
              "    .dataframe tbody tr th {\n",
              "        vertical-align: top;\n",
              "    }\n",
              "\n",
              "    .dataframe thead th {\n",
              "        text-align: right;\n",
              "    }\n",
              "</style>\n",
              "<table border=\"1\" class=\"dataframe\">\n",
              "  <thead>\n",
              "    <tr style=\"text-align: right;\">\n",
              "      <th></th>\n",
              "      <th>site_id</th>\n",
              "      <th>timestamp</th>\n",
              "      <th>air_temperature</th>\n",
              "      <th>dew_temperature</th>\n",
              "      <th>wind_speed</th>\n",
              "    </tr>\n",
              "  </thead>\n",
              "  <tbody>\n",
              "    <tr>\n",
              "      <th>0</th>\n",
              "      <td>0</td>\n",
              "      <td>7010100</td>\n",
              "      <td>17.8</td>\n",
              "      <td>11.7</td>\n",
              "      <td>3.6</td>\n",
              "    </tr>\n",
              "    <tr>\n",
              "      <th>1</th>\n",
              "      <td>0</td>\n",
              "      <td>7010101</td>\n",
              "      <td>17.8</td>\n",
              "      <td>12.8</td>\n",
              "      <td>3.1</td>\n",
              "    </tr>\n",
              "    <tr>\n",
              "      <th>2</th>\n",
              "      <td>0</td>\n",
              "      <td>7010102</td>\n",
              "      <td>16.1</td>\n",
              "      <td>12.8</td>\n",
              "      <td>3.1</td>\n",
              "    </tr>\n",
              "    <tr>\n",
              "      <th>3</th>\n",
              "      <td>0</td>\n",
              "      <td>7010103</td>\n",
              "      <td>17.2</td>\n",
              "      <td>13.3</td>\n",
              "      <td>3.1</td>\n",
              "    </tr>\n",
              "    <tr>\n",
              "      <th>4</th>\n",
              "      <td>0</td>\n",
              "      <td>7010104</td>\n",
              "      <td>16.7</td>\n",
              "      <td>13.3</td>\n",
              "      <td>2.6</td>\n",
              "    </tr>\n",
              "  </tbody>\n",
              "</table>\n",
              "</div>"
            ],
            "text/plain": [
              "   site_id  timestamp  air_temperature  dew_temperature  wind_speed\n",
              "0        0    7010100             17.8             11.7         3.6\n",
              "1        0    7010101             17.8             12.8         3.1\n",
              "2        0    7010102             16.1             12.8         3.1\n",
              "3        0    7010103             17.2             13.3         3.1\n",
              "4        0    7010104             16.7             13.3         2.6"
            ]
          },
          "metadata": {
            "tags": []
          },
          "execution_count": 87
        }
      ]
    },
    {
      "cell_type": "code",
      "metadata": {
        "id": "ShkywtASO023",
        "colab_type": "code",
        "colab": {}
      },
      "source": [
        "test['timestamp'] = test['timestamp'].map(timestamp_tr)\n"
      ],
      "execution_count": 0,
      "outputs": []
    },
    {
      "cell_type": "code",
      "metadata": {
        "id": "48-35s1gU7cN",
        "colab_type": "code",
        "outputId": "da5b614f-3e34-4e15-9d77-3360640bb922",
        "colab": {
          "base_uri": "https://localhost:8080/",
          "height": 34
        }
      },
      "source": [
        "temp_df = test[['site_id','timestamp']]\n",
        "temp_df = temp_df.merge(new_weather_test, on=['site_id','timestamp'], how='left')\n",
        "temp_df.shape"
      ],
      "execution_count": 0,
      "outputs": [
        {
          "output_type": "execute_result",
          "data": {
            "text/plain": [
              "(41697600, 5)"
            ]
          },
          "metadata": {
            "tags": []
          },
          "execution_count": 89
        }
      ]
    },
    {
      "cell_type": "code",
      "metadata": {
        "id": "d_SRE3oVVk6e",
        "colab_type": "code",
        "colab": {}
      },
      "source": [
        "del temp_df['site_id'],temp_df['timestamp']\n"
      ],
      "execution_count": 0,
      "outputs": []
    },
    {
      "cell_type": "code",
      "metadata": {
        "id": "2gVAoJ0bZuYO",
        "colab_type": "code",
        "colab": {}
      },
      "source": [
        "test = pd.concat([test, temp_df], axis=1)"
      ],
      "execution_count": 0,
      "outputs": []
    },
    {
      "cell_type": "code",
      "metadata": {
        "id": "QRPXKQ_aZ8V-",
        "colab_type": "code",
        "colab": {}
      },
      "source": [
        "test['air_temperature'].fillna(test['air_temperature'].median(), inplace=True)\n",
        "test['dew_temperature'].fillna(test['dew_temperature'].median(), inplace=True)\n",
        "test['wind_speed'].fillna(test['wind_speed'].median(), inplace=True)\n"
      ],
      "execution_count": 0,
      "outputs": []
    },
    {
      "cell_type": "code",
      "metadata": {
        "id": "XSU-SVhjz_IA",
        "colab_type": "code",
        "colab": {}
      },
      "source": [
        "test['square_feet']=test['square_feet'].map(np.log)\n"
      ],
      "execution_count": 0,
      "outputs": []
    },
    {
      "cell_type": "code",
      "metadata": {
        "id": "B9fGCPz_8PCG",
        "colab_type": "code",
        "outputId": "59596b83-1445-4758-c407-1918a1f20bf3",
        "colab": {
          "base_uri": "https://localhost:8080/",
          "height": 439
        }
      },
      "source": [
        "test.primary_use.value_counts().plot.bar()"
      ],
      "execution_count": 0,
      "outputs": [
        {
          "output_type": "execute_result",
          "data": {
            "text/plain": [
              "<matplotlib.axes._subplots.AxesSubplot at 0x7f084af96390>"
            ]
          },
          "metadata": {
            "tags": []
          },
          "execution_count": 94
        },
        {
          "output_type": "display_data",
          "data": {
            "image/png": "[encoded data removed]",
            "text/plain": [
              "<Figure size 432x288 with 1 Axes>"
            ]
          },
          "metadata": {
            "tags": []
          }
        }
      ]
    },
    {
      "cell_type": "code",
      "metadata": {
        "id": "AfExS_On79LE",
        "colab_type": "code",
        "outputId": "7e70e890-d8f7-4449-f6b4-beb42f8c885e",
        "colab": {
          "base_uri": "https://localhost:8080/",
          "height": 102
        }
      },
      "source": [
        "idx = test.primary_use.isin(['Parking','Manufacturing/industrial','Food sales and service','Retail','Warehouse/storage','Services','Technology/science','Utility','Religious worship'])\n",
        "test.primary_use[idx] = 'Other'"
      ],
      "execution_count": 0,
      "outputs": [
        {
          "output_type": "stream",
          "text": [
            "/usr/local/lib/python3.6/dist-packages/ipykernel_launcher.py:2: SettingWithCopyWarning: \n",
            "A value is trying to be set on a copy of a slice from a DataFrame\n",
            "\n",
            "See the caveats in the documentation: http://pandas.pydata.org/pandas-docs/stable/user_guide/indexing.html#returning-a-view-versus-a-copy\n",
            "  \n"
          ],
          "name": "stderr"
        }
      ]
    },
    {
      "cell_type": "code",
      "metadata": {
        "id": "09TxkM3-8e6-",
        "colab_type": "code",
        "outputId": "02a0dcb0-1f6f-4e1d-afd6-c976a36f463d",
        "colab": {
          "base_uri": "https://localhost:8080/",
          "height": 439
        }
      },
      "source": [
        "test.primary_use.value_counts().plot.bar()"
      ],
      "execution_count": 0,
      "outputs": [
        {
          "output_type": "execute_result",
          "data": {
            "text/plain": [
              "<matplotlib.axes._subplots.AxesSubplot at 0x7f084950f390>"
            ]
          },
          "metadata": {
            "tags": []
          },
          "execution_count": 96
        },
        {
          "output_type": "display_data",
          "data": {
            "image/png": "[encoded data removed]",
            "text/plain": [
              "<Figure size 432x288 with 1 Axes>"
            ]
          },
          "metadata": {
            "tags": []
          }
        }
      ]
    },
    {
      "cell_type": "code",
      "metadata": {
        "id": "IK467xVC8h02",
        "colab_type": "code",
        "outputId": "d81fefd2-32ae-49a2-8edd-6fe7bbd29bf8",
        "colab": {
          "base_uri": "https://localhost:8080/",
          "height": 290
        }
      },
      "source": [
        "test['primary_use'] = LE.fit_transform(test['primary_use']).astype(np.int8)\n",
        "test.primary_use.value_counts().plot.bar()"
      ],
      "execution_count": 0,
      "outputs": [
        {
          "output_type": "execute_result",
          "data": {
            "text/plain": [
              "<matplotlib.axes._subplots.AxesSubplot at 0x7f08494e68d0>"
            ]
          },
          "metadata": {
            "tags": []
          },
          "execution_count": 97
        },
        {
          "output_type": "display_data",
          "data": {
            "image/png": "[encoded data removed]",
            "text/plain": [
              "<Figure size 432x288 with 1 Axes>"
            ]
          },
          "metadata": {
            "tags": []
          }
        }
      ]
    },
    {
      "cell_type": "code",
      "metadata": {
        "id": "47xmE3R28_Fm",
        "colab_type": "code",
        "colab": {}
      },
      "source": [
        "for x in non_skewed_vars:\n",
        "    u = mmsc.fit_transform(test[[x]])  # this returns a 2D array with one column\n",
        "    u = u.ravel()  # convert to a 1D array\n",
        "    test[x] = pd.Series(u)\n",
        "\n",
        "    "
      ],
      "execution_count": 0,
      "outputs": []
    },
    {
      "cell_type": "code",
      "metadata": {
        "id": "bJ1lMN8i9Wme",
        "colab_type": "code",
        "outputId": "5d32be16-0b82-4ec8-8671-75d7535276fc",
        "colab": {
          "base_uri": "https://localhost:8080/",
          "height": 297
        }
      },
      "source": [
        "test.describe()"
      ],
      "execution_count": 0,
      "outputs": [
        {
          "output_type": "execute_result",
          "data": {
            "text/html": [
              "<div>\n",
              "<style scoped>\n",
              "    .dataframe tbody tr th:only-of-type {\n",
              "        vertical-align: middle;\n",
              "    }\n",
              "\n",
              "    .dataframe tbody tr th {\n",
              "        vertical-align: top;\n",
              "    }\n",
              "\n",
              "    .dataframe thead th {\n",
              "        text-align: right;\n",
              "    }\n",
              "</style>\n",
              "<table border=\"1\" class=\"dataframe\">\n",
              "  <thead>\n",
              "    <tr style=\"text-align: right;\">\n",
              "      <th></th>\n",
              "      <th>row_id</th>\n",
              "      <th>building_id</th>\n",
              "      <th>meter</th>\n",
              "      <th>timestamp</th>\n",
              "      <th>square_feet</th>\n",
              "      <th>site_id</th>\n",
              "      <th>primary_use</th>\n",
              "      <th>air_temperature</th>\n",
              "      <th>dew_temperature</th>\n",
              "      <th>wind_speed</th>\n",
              "    </tr>\n",
              "  </thead>\n",
              "  <tbody>\n",
              "    <tr>\n",
              "      <th>count</th>\n",
              "      <td>4.169760e+07</td>\n",
              "      <td>4.169760e+07</td>\n",
              "      <td>4.169760e+07</td>\n",
              "      <td>4.169760e+07</td>\n",
              "      <td>4.169760e+07</td>\n",
              "      <td>4.169760e+07</td>\n",
              "      <td>4.169760e+07</td>\n",
              "      <td>4.169760e+07</td>\n",
              "      <td>4.169760e+07</td>\n",
              "      <td>4.169760e+07</td>\n",
              "    </tr>\n",
              "    <tr>\n",
              "      <th>mean</th>\n",
              "      <td>2.084880e+07</td>\n",
              "      <td>8.075824e+02</td>\n",
              "      <td>6.642857e-01</td>\n",
              "      <td>7.566844e+06</td>\n",
              "      <td>1.103240e+01</td>\n",
              "      <td>8.086134e+00</td>\n",
              "      <td>2.125210e+00</td>\n",
              "      <td>5.708263e-01</td>\n",
              "      <td>6.722719e-01</td>\n",
              "      <td>1.398380e-01</td>\n",
              "    </tr>\n",
              "    <tr>\n",
              "      <th>std</th>\n",
              "      <td>1.203706e+07</td>\n",
              "      <td>4.297680e+02</td>\n",
              "      <td>9.278067e-01</td>\n",
              "      <td>5.011889e+05</td>\n",
              "      <td>1.182033e+00</td>\n",
              "      <td>5.134712e+00</td>\n",
              "      <td>2.126334e+00</td>\n",
              "      <td>1.473174e-01</td>\n",
              "      <td>1.805442e-01</td>\n",
              "      <td>9.214036e-02</td>\n",
              "    </tr>\n",
              "    <tr>\n",
              "      <th>min</th>\n",
              "      <td>0.000000e+00</td>\n",
              "      <td>0.000000e+00</td>\n",
              "      <td>0.000000e+00</td>\n",
              "      <td>7.010100e+06</td>\n",
              "      <td>5.645447e+00</td>\n",
              "      <td>0.000000e+00</td>\n",
              "      <td>0.000000e+00</td>\n",
              "      <td>0.000000e+00</td>\n",
              "      <td>0.000000e+00</td>\n",
              "      <td>0.000000e+00</td>\n",
              "    </tr>\n",
              "    <tr>\n",
              "      <th>25%</th>\n",
              "      <td>1.042440e+07</td>\n",
              "      <td>4.047500e+02</td>\n",
              "      <td>0.000000e+00</td>\n",
              "      <td>7.070212e+06</td>\n",
              "      <td>1.038107e+01</td>\n",
              "      <td>3.000000e+00</td>\n",
              "      <td>0.000000e+00</td>\n",
              "      <td>4.698953e-01</td>\n",
              "      <td>5.420240e-01</td>\n",
              "      <td>8.677686e-02</td>\n",
              "    </tr>\n",
              "    <tr>\n",
              "      <th>50%</th>\n",
              "      <td>2.084880e+07</td>\n",
              "      <td>9.000000e+02</td>\n",
              "      <td>0.000000e+00</td>\n",
              "      <td>7.566612e+06</td>\n",
              "      <td>1.118806e+01</td>\n",
              "      <td>9.000000e+00</td>\n",
              "      <td>1.000000e+00</td>\n",
              "      <td>5.863874e-01</td>\n",
              "      <td>6.946827e-01</td>\n",
              "      <td>1.280992e-01</td>\n",
              "    </tr>\n",
              "    <tr>\n",
              "      <th>75%</th>\n",
              "      <td>3.127320e+07</td>\n",
              "      <td>1.194250e+03</td>\n",
              "      <td>1.000000e+00</td>\n",
              "      <td>8.070211e+06</td>\n",
              "      <td>1.183781e+01</td>\n",
              "      <td>1.300000e+01</td>\n",
              "      <td>4.000000e+00</td>\n",
              "      <td>6.806283e-01</td>\n",
              "      <td>8.181818e-01</td>\n",
              "      <td>1.900826e-01</td>\n",
              "    </tr>\n",
              "    <tr>\n",
              "      <th>max</th>\n",
              "      <td>4.169760e+07</td>\n",
              "      <td>1.448000e+03</td>\n",
              "      <td>3.000000e+00</td>\n",
              "      <td>8.123123e+06</td>\n",
              "      <td>1.368198e+01</td>\n",
              "      <td>1.500000e+01</td>\n",
              "      <td>6.000000e+00</td>\n",
              "      <td>1.000000e+00</td>\n",
              "      <td>1.000000e+00</td>\n",
              "      <td>1.000000e+00</td>\n",
              "    </tr>\n",
              "  </tbody>\n",
              "</table>\n",
              "</div>"
            ],
            "text/plain": [
              "             row_id   building_id  ...  dew_temperature    wind_speed\n",
              "count  4.169760e+07  4.169760e+07  ...     4.169760e+07  4.169760e+07\n",
              "mean   2.084880e+07  8.075824e+02  ...     6.722719e-01  1.398380e-01\n",
              "std    1.203706e+07  4.297680e+02  ...     1.805442e-01  9.214036e-02\n",
              "min    0.000000e+00  0.000000e+00  ...     0.000000e+00  0.000000e+00\n",
              "25%    1.042440e+07  4.047500e+02  ...     5.420240e-01  8.677686e-02\n",
              "50%    2.084880e+07  9.000000e+02  ...     6.946827e-01  1.280992e-01\n",
              "75%    3.127320e+07  1.194250e+03  ...     8.181818e-01  1.900826e-01\n",
              "max    4.169760e+07  1.448000e+03  ...     1.000000e+00  1.000000e+00\n",
              "\n",
              "[8 rows x 10 columns]"
            ]
          },
          "metadata": {
            "tags": []
          },
          "execution_count": 99
        }
      ]
    },
    {
      "cell_type": "code",
      "metadata": {
        "id": "ygsIEmVE9afC",
        "colab_type": "code",
        "outputId": "8b64b69f-cafb-4c3d-a4e7-08ddf3a47f61",
        "colab": {
          "base_uri": "https://localhost:8080/",
          "height": 297
        }
      },
      "source": [
        "train.describe()"
      ],
      "execution_count": 0,
      "outputs": [
        {
          "output_type": "execute_result",
          "data": {
            "text/html": [
              "<div>\n",
              "<style scoped>\n",
              "    .dataframe tbody tr th:only-of-type {\n",
              "        vertical-align: middle;\n",
              "    }\n",
              "\n",
              "    .dataframe tbody tr th {\n",
              "        vertical-align: top;\n",
              "    }\n",
              "\n",
              "    .dataframe thead th {\n",
              "        text-align: right;\n",
              "    }\n",
              "</style>\n",
              "<table border=\"1\" class=\"dataframe\">\n",
              "  <thead>\n",
              "    <tr style=\"text-align: right;\">\n",
              "      <th></th>\n",
              "      <th>building_id</th>\n",
              "      <th>meter</th>\n",
              "      <th>timestamp</th>\n",
              "      <th>meter_reading</th>\n",
              "      <th>square_feet</th>\n",
              "      <th>site_id</th>\n",
              "      <th>primary_use</th>\n",
              "      <th>air_temperature</th>\n",
              "      <th>dew_temperature</th>\n",
              "      <th>wind_speed</th>\n",
              "    </tr>\n",
              "  </thead>\n",
              "  <tbody>\n",
              "    <tr>\n",
              "      <th>count</th>\n",
              "      <td>2.021610e+07</td>\n",
              "      <td>2.021610e+07</td>\n",
              "      <td>2.021610e+07</td>\n",
              "      <td>2.021610e+07</td>\n",
              "      <td>2.021610e+07</td>\n",
              "      <td>2.021610e+07</td>\n",
              "      <td>2.021610e+07</td>\n",
              "      <td>2.021610e+07</td>\n",
              "      <td>2.021610e+07</td>\n",
              "      <td>2.021610e+07</td>\n",
              "    </tr>\n",
              "    <tr>\n",
              "      <th>mean</th>\n",
              "      <td>7.992780e+02</td>\n",
              "      <td>6.624412e-01</td>\n",
              "      <td>6.067372e+06</td>\n",
              "      <td>2.117121e+03</td>\n",
              "      <td>1.103941e+01</td>\n",
              "      <td>7.992232e+00</td>\n",
              "      <td>2.125675e+00</td>\n",
              "      <td>5.898928e-01</td>\n",
              "      <td>6.997194e-01</td>\n",
              "      <td>1.776606e-01</td>\n",
              "    </tr>\n",
              "    <tr>\n",
              "      <th>std</th>\n",
              "      <td>4.269133e+02</td>\n",
              "      <td>9.309921e-01</td>\n",
              "      <td>3.438831e+04</td>\n",
              "      <td>1.532356e+05</td>\n",
              "      <td>1.180525e+00</td>\n",
              "      <td>5.099060e+00</td>\n",
              "      <td>2.128464e+00</td>\n",
              "      <td>1.435113e-01</td>\n",
              "      <td>1.661821e-01</td>\n",
              "      <td>1.188289e-01</td>\n",
              "    </tr>\n",
              "    <tr>\n",
              "      <th>min</th>\n",
              "      <td>0.000000e+00</td>\n",
              "      <td>0.000000e+00</td>\n",
              "      <td>6.010100e+06</td>\n",
              "      <td>0.000000e+00</td>\n",
              "      <td>5.645447e+00</td>\n",
              "      <td>0.000000e+00</td>\n",
              "      <td>0.000000e+00</td>\n",
              "      <td>0.000000e+00</td>\n",
              "      <td>0.000000e+00</td>\n",
              "      <td>0.000000e+00</td>\n",
              "    </tr>\n",
              "    <tr>\n",
              "      <th>25%</th>\n",
              "      <td>3.930000e+02</td>\n",
              "      <td>0.000000e+00</td>\n",
              "      <td>6.040521e+06</td>\n",
              "      <td>1.830000e+01</td>\n",
              "      <td>1.038983e+01</td>\n",
              "      <td>3.000000e+00</td>\n",
              "      <td>0.000000e+00</td>\n",
              "      <td>4.967148e-01</td>\n",
              "      <td>5.777414e-01</td>\n",
              "      <td>1.105263e-01</td>\n",
              "    </tr>\n",
              "    <tr>\n",
              "      <th>50%</th>\n",
              "      <td>8.950000e+02</td>\n",
              "      <td>0.000000e+00</td>\n",
              "      <td>6.070417e+06</td>\n",
              "      <td>7.877500e+01</td>\n",
              "      <td>1.119422e+01</td>\n",
              "      <td>9.000000e+00</td>\n",
              "      <td>1.000000e+00</td>\n",
              "      <td>5.992116e-01</td>\n",
              "      <td>7.184943e-01</td>\n",
              "      <td>1.631579e-01</td>\n",
              "    </tr>\n",
              "    <tr>\n",
              "      <th>75%</th>\n",
              "      <td>1.179000e+03</td>\n",
              "      <td>1.000000e+00</td>\n",
              "      <td>6.100222e+06</td>\n",
              "      <td>2.679840e+02</td>\n",
              "      <td>1.184304e+01</td>\n",
              "      <td>1.300000e+01</td>\n",
              "      <td>4.000000e+00</td>\n",
              "      <td>6.938239e-01</td>\n",
              "      <td>8.346972e-01</td>\n",
              "      <td>2.421053e-01</td>\n",
              "    </tr>\n",
              "    <tr>\n",
              "      <th>max</th>\n",
              "      <td>1.448000e+03</td>\n",
              "      <td>3.000000e+00</td>\n",
              "      <td>6.123123e+06</td>\n",
              "      <td>2.190470e+07</td>\n",
              "      <td>1.368198e+01</td>\n",
              "      <td>1.500000e+01</td>\n",
              "      <td>6.000000e+00</td>\n",
              "      <td>1.000000e+00</td>\n",
              "      <td>1.000000e+00</td>\n",
              "      <td>1.000000e+00</td>\n",
              "    </tr>\n",
              "  </tbody>\n",
              "</table>\n",
              "</div>"
            ],
            "text/plain": [
              "        building_id         meter  ...  dew_temperature    wind_speed\n",
              "count  2.021610e+07  2.021610e+07  ...     2.021610e+07  2.021610e+07\n",
              "mean   7.992780e+02  6.624412e-01  ...     6.997194e-01  1.776606e-01\n",
              "std    4.269133e+02  9.309921e-01  ...     1.661821e-01  1.188289e-01\n",
              "min    0.000000e+00  0.000000e+00  ...     0.000000e+00  0.000000e+00\n",
              "25%    3.930000e+02  0.000000e+00  ...     5.777414e-01  1.105263e-01\n",
              "50%    8.950000e+02  0.000000e+00  ...     7.184943e-01  1.631579e-01\n",
              "75%    1.179000e+03  1.000000e+00  ...     8.346972e-01  2.421053e-01\n",
              "max    1.448000e+03  3.000000e+00  ...     1.000000e+00  1.000000e+00\n",
              "\n",
              "[8 rows x 10 columns]"
            ]
          },
          "metadata": {
            "tags": []
          },
          "execution_count": 100
        }
      ]
    },
    {
      "cell_type": "code",
      "metadata": {
        "id": "DyepcsL49kUA",
        "colab_type": "code",
        "outputId": "f0cec04d-0062-4767-d55b-5af77e978438",
        "colab": {
          "base_uri": "https://localhost:8080/",
          "height": 297
        }
      },
      "source": [
        "train = train[[x for x in train.columns if x not in ['building_id','site_id','timestamp']]]\n",
        "train.describe()"
      ],
      "execution_count": 0,
      "outputs": [
        {
          "output_type": "execute_result",
          "data": {
            "text/html": [
              "<div>\n",
              "<style scoped>\n",
              "    .dataframe tbody tr th:only-of-type {\n",
              "        vertical-align: middle;\n",
              "    }\n",
              "\n",
              "    .dataframe tbody tr th {\n",
              "        vertical-align: top;\n",
              "    }\n",
              "\n",
              "    .dataframe thead th {\n",
              "        text-align: right;\n",
              "    }\n",
              "</style>\n",
              "<table border=\"1\" class=\"dataframe\">\n",
              "  <thead>\n",
              "    <tr style=\"text-align: right;\">\n",
              "      <th></th>\n",
              "      <th>meter</th>\n",
              "      <th>meter_reading</th>\n",
              "      <th>square_feet</th>\n",
              "      <th>primary_use</th>\n",
              "      <th>air_temperature</th>\n",
              "      <th>dew_temperature</th>\n",
              "      <th>wind_speed</th>\n",
              "    </tr>\n",
              "  </thead>\n",
              "  <tbody>\n",
              "    <tr>\n",
              "      <th>count</th>\n",
              "      <td>2.021610e+07</td>\n",
              "      <td>2.021610e+07</td>\n",
              "      <td>2.021610e+07</td>\n",
              "      <td>2.021610e+07</td>\n",
              "      <td>2.021610e+07</td>\n",
              "      <td>2.021610e+07</td>\n",
              "      <td>2.021610e+07</td>\n",
              "    </tr>\n",
              "    <tr>\n",
              "      <th>mean</th>\n",
              "      <td>6.624412e-01</td>\n",
              "      <td>2.117121e+03</td>\n",
              "      <td>1.103941e+01</td>\n",
              "      <td>2.125675e+00</td>\n",
              "      <td>5.898928e-01</td>\n",
              "      <td>6.997194e-01</td>\n",
              "      <td>1.776606e-01</td>\n",
              "    </tr>\n",
              "    <tr>\n",
              "      <th>std</th>\n",
              "      <td>9.309921e-01</td>\n",
              "      <td>1.532356e+05</td>\n",
              "      <td>1.180525e+00</td>\n",
              "      <td>2.128464e+00</td>\n",
              "      <td>1.435113e-01</td>\n",
              "      <td>1.661821e-01</td>\n",
              "      <td>1.188289e-01</td>\n",
              "    </tr>\n",
              "    <tr>\n",
              "      <th>min</th>\n",
              "      <td>0.000000e+00</td>\n",
              "      <td>0.000000e+00</td>\n",
              "      <td>5.645447e+00</td>\n",
              "      <td>0.000000e+00</td>\n",
              "      <td>0.000000e+00</td>\n",
              "      <td>0.000000e+00</td>\n",
              "      <td>0.000000e+00</td>\n",
              "    </tr>\n",
              "    <tr>\n",
              "      <th>25%</th>\n",
              "      <td>0.000000e+00</td>\n",
              "      <td>1.830000e+01</td>\n",
              "      <td>1.038983e+01</td>\n",
              "      <td>0.000000e+00</td>\n",
              "      <td>4.967148e-01</td>\n",
              "      <td>5.777414e-01</td>\n",
              "      <td>1.105263e-01</td>\n",
              "    </tr>\n",
              "    <tr>\n",
              "      <th>50%</th>\n",
              "      <td>0.000000e+00</td>\n",
              "      <td>7.877500e+01</td>\n",
              "      <td>1.119422e+01</td>\n",
              "      <td>1.000000e+00</td>\n",
              "      <td>5.992116e-01</td>\n",
              "      <td>7.184943e-01</td>\n",
              "      <td>1.631579e-01</td>\n",
              "    </tr>\n",
              "    <tr>\n",
              "      <th>75%</th>\n",
              "      <td>1.000000e+00</td>\n",
              "      <td>2.679840e+02</td>\n",
              "      <td>1.184304e+01</td>\n",
              "      <td>4.000000e+00</td>\n",
              "      <td>6.938239e-01</td>\n",
              "      <td>8.346972e-01</td>\n",
              "      <td>2.421053e-01</td>\n",
              "    </tr>\n",
              "    <tr>\n",
              "      <th>max</th>\n",
              "      <td>3.000000e+00</td>\n",
              "      <td>2.190470e+07</td>\n",
              "      <td>1.368198e+01</td>\n",
              "      <td>6.000000e+00</td>\n",
              "      <td>1.000000e+00</td>\n",
              "      <td>1.000000e+00</td>\n",
              "      <td>1.000000e+00</td>\n",
              "    </tr>\n",
              "  </tbody>\n",
              "</table>\n",
              "</div>"
            ],
            "text/plain": [
              "              meter  meter_reading  ...  dew_temperature    wind_speed\n",
              "count  2.021610e+07   2.021610e+07  ...     2.021610e+07  2.021610e+07\n",
              "mean   6.624412e-01   2.117121e+03  ...     6.997194e-01  1.776606e-01\n",
              "std    9.309921e-01   1.532356e+05  ...     1.661821e-01  1.188289e-01\n",
              "min    0.000000e+00   0.000000e+00  ...     0.000000e+00  0.000000e+00\n",
              "25%    0.000000e+00   1.830000e+01  ...     5.777414e-01  1.105263e-01\n",
              "50%    0.000000e+00   7.877500e+01  ...     7.184943e-01  1.631579e-01\n",
              "75%    1.000000e+00   2.679840e+02  ...     8.346972e-01  2.421053e-01\n",
              "max    3.000000e+00   2.190470e+07  ...     1.000000e+00  1.000000e+00\n",
              "\n",
              "[8 rows x 7 columns]"
            ]
          },
          "metadata": {
            "tags": []
          },
          "execution_count": 101
        }
      ]
    },
    {
      "cell_type": "code",
      "metadata": {
        "id": "eYjqZa8aoL22",
        "colab_type": "code",
        "outputId": "980e3c23-97fe-4889-a9d7-255ea528c1d2",
        "colab": {
          "base_uri": "https://localhost:8080/",
          "height": 348
        }
      },
      "source": [
        "train.meter_reading.plot('box')"
      ],
      "execution_count": 0,
      "outputs": [
        {
          "output_type": "stream",
          "text": [
            "/usr/local/lib/python3.6/dist-packages/ipykernel_launcher.py:1: FutureWarning: `Series.plot()` should not be called with positional arguments, only keyword arguments. The order of positional arguments will change in the future. Use `Series.plot(kind='box')` instead of `Series.plot('box',)`.\n",
            "  \"\"\"Entry point for launching an IPython kernel.\n"
          ],
          "name": "stderr"
        },
        {
          "output_type": "execute_result",
          "data": {
            "text/plain": [
              "<matplotlib.axes._subplots.AxesSubplot at 0x7f084b02aa58>"
            ]
          },
          "metadata": {
            "tags": []
          },
          "execution_count": 102
        },
        {
          "output_type": "display_data",
          "data": {
            "image/png": "[encoded data removed]",
            "text/plain": [
              "<Figure size 432x288 with 1 Axes>"
            ]
          },
          "metadata": {
            "tags": []
          }
        }
      ]
    },
    {
      "cell_type": "code",
      "metadata": {
        "id": "uxsTQplIoe-v",
        "colab_type": "code",
        "outputId": "9f2c574f-e4e3-4646-b93e-ecd6882e1e17",
        "colab": {
          "base_uri": "https://localhost:8080/",
          "height": 298
        }
      },
      "source": [
        "fig=train.meter_reading.plot.hist(rot=50)"
      ],
      "execution_count": 0,
      "outputs": [
        {
          "output_type": "display_data",
          "data": {
            "image/png": "[encoded data removed]",
            "text/plain": [
              "<Figure size 432x288 with 1 Axes>"
            ]
          },
          "metadata": {
            "tags": []
          }
        }
      ]
    },
    {
      "cell_type": "code",
      "metadata": {
        "id": "xa9ycTfHor0L",
        "colab_type": "code",
        "colab": {}
      },
      "source": [
        "#log normalization ('meter_reading')\n",
        "\n",
        "train['meter_reading'] = train['meter_reading'] + 1\n",
        "train['meter_reading'] = train['meter_reading'].map(np.log)"
      ],
      "execution_count": 0,
      "outputs": []
    },
    {
      "cell_type": "code",
      "metadata": {
        "id": "WRnPwgXIqzMy",
        "colab_type": "code",
        "outputId": "8f8fdf80-757e-4a09-b8fd-860e0dc4a328",
        "colab": {
          "base_uri": "https://localhost:8080/",
          "height": 338
        }
      },
      "source": [
        "train.meter_reading.plot('box')"
      ],
      "execution_count": 0,
      "outputs": [
        {
          "output_type": "stream",
          "text": [
            "/usr/local/lib/python3.6/dist-packages/ipykernel_launcher.py:1: FutureWarning: `Series.plot()` should not be called with positional arguments, only keyword arguments. The order of positional arguments will change in the future. Use `Series.plot(kind='box')` instead of `Series.plot('box',)`.\n",
            "  \"\"\"Entry point for launching an IPython kernel.\n"
          ],
          "name": "stderr"
        },
        {
          "output_type": "execute_result",
          "data": {
            "text/plain": [
              "<matplotlib.axes._subplots.AxesSubplot at 0x7f0849367c18>"
            ]
          },
          "metadata": {
            "tags": []
          },
          "execution_count": 105
        },
        {
          "output_type": "display_data",
          "data": {
            "image/png": "[encoded data removed]",
            "text/plain": [
              "<Figure size 432x288 with 1 Axes>"
            ]
          },
          "metadata": {
            "tags": []
          }
        }
      ]
    },
    {
      "cell_type": "code",
      "metadata": {
        "id": "JN4eDLPmqzbz",
        "colab_type": "code",
        "outputId": "925f0b46-44c3-4bf8-dfa9-a13bc6f7f029",
        "colab": {
          "base_uri": "https://localhost:8080/",
          "height": 279
        }
      },
      "source": [
        "fig=train.meter_reading.plot.hist(rot=50)"
      ],
      "execution_count": 0,
      "outputs": [
        {
          "output_type": "display_data",
          "data": {
            "image/png": "[encoded data removed]",
            "text/plain": [
              "<Figure size 432x288 with 1 Axes>"
            ]
          },
          "metadata": {
            "tags": []
          }
        }
      ]
    },
    {
      "cell_type": "code",
      "metadata": {
        "id": "W72bXGNmlUKU",
        "colab_type": "code",
        "outputId": "d6c9c662-b6e9-405a-e04c-32525af726e8",
        "colab": {
          "base_uri": "https://localhost:8080/",
          "height": 365
        }
      },
      "source": [
        "import seaborn as sns\n",
        "C=train.corr()\n",
        "sns.heatmap(C)"
      ],
      "execution_count": 0,
      "outputs": [
        {
          "output_type": "execute_result",
          "data": {
            "text/plain": [
              "<matplotlib.axes._subplots.AxesSubplot at 0x7f08463663c8>"
            ]
          },
          "metadata": {
            "tags": []
          },
          "execution_count": 107
        },
        {
          "output_type": "display_data",
          "data": {
            "image/png": "[encoded data removed]",
            "text/plain": [
              "<Figure size 432x288 with 2 Axes>"
            ]
          },
          "metadata": {
            "tags": []
          }
        }
      ]
    },
    {
      "cell_type": "code",
      "metadata": {
        "id": "L2c4ILKIBFfQ",
        "colab_type": "code",
        "colab": {}
      },
      "source": [
        "X = train[[x for x in train.columns if x not in ['meter_reading']]]\n",
        "Y = train[['meter_reading']]"
      ],
      "execution_count": 0,
      "outputs": []
    },
    {
      "cell_type": "code",
      "metadata": {
        "id": "tZMjQLVdBQz3",
        "colab_type": "code",
        "colab": {}
      },
      "source": [
        "# Split the DataFrame\n",
        "\n",
        "from sklearn.model_selection import train_test_split\n",
        "X_train,X_test,Y_train,Y_test=train_test_split(X,Y,test_size=0.3,shuffle=True)"
      ],
      "execution_count": 0,
      "outputs": []
    },
    {
      "cell_type": "code",
      "metadata": {
        "id": "psf2BygGuDvr",
        "colab_type": "code",
        "outputId": "6065e67b-33aa-4d34-a790-0a5e1dd5fa24",
        "colab": {
          "base_uri": "https://localhost:8080/",
          "height": 359
        }
      },
      "source": [
        "X_train.head(10)"
      ],
      "execution_count": 0,
      "outputs": [
        {
          "output_type": "execute_result",
          "data": {
            "text/html": [
              "<div>\n",
              "<style scoped>\n",
              "    .dataframe tbody tr th:only-of-type {\n",
              "        vertical-align: middle;\n",
              "    }\n",
              "\n",
              "    .dataframe tbody tr th {\n",
              "        vertical-align: top;\n",
              "    }\n",
              "\n",
              "    .dataframe thead th {\n",
              "        text-align: right;\n",
              "    }\n",
              "</style>\n",
              "<table border=\"1\" class=\"dataframe\">\n",
              "  <thead>\n",
              "    <tr style=\"text-align: right;\">\n",
              "      <th></th>\n",
              "      <th>meter</th>\n",
              "      <th>square_feet</th>\n",
              "      <th>primary_use</th>\n",
              "      <th>air_temperature</th>\n",
              "      <th>dew_temperature</th>\n",
              "      <th>wind_speed</th>\n",
              "    </tr>\n",
              "  </thead>\n",
              "  <tbody>\n",
              "    <tr>\n",
              "      <th>18725907</th>\n",
              "      <td>1</td>\n",
              "      <td>12.186089</td>\n",
              "      <td>4</td>\n",
              "      <td>0.371879</td>\n",
              "      <td>0.527005</td>\n",
              "      <td>0.215789</td>\n",
              "    </tr>\n",
              "    <tr>\n",
              "      <th>6960477</th>\n",
              "      <td>1</td>\n",
              "      <td>12.753723</td>\n",
              "      <td>6</td>\n",
              "      <td>0.716163</td>\n",
              "      <td>0.654664</td>\n",
              "      <td>0.078947</td>\n",
              "    </tr>\n",
              "    <tr>\n",
              "      <th>6250941</th>\n",
              "      <td>0</td>\n",
              "      <td>10.081759</td>\n",
              "      <td>2</td>\n",
              "      <td>0.671485</td>\n",
              "      <td>0.828151</td>\n",
              "      <td>0.110526</td>\n",
              "    </tr>\n",
              "    <tr>\n",
              "      <th>18138488</th>\n",
              "      <td>2</td>\n",
              "      <td>10.629513</td>\n",
              "      <td>4</td>\n",
              "      <td>0.634691</td>\n",
              "      <td>0.626841</td>\n",
              "      <td>0.136842</td>\n",
              "    </tr>\n",
              "    <tr>\n",
              "      <th>15188575</th>\n",
              "      <td>0</td>\n",
              "      <td>8.196161</td>\n",
              "      <td>6</td>\n",
              "      <td>0.708279</td>\n",
              "      <td>0.954173</td>\n",
              "      <td>0.110526</td>\n",
              "    </tr>\n",
              "    <tr>\n",
              "      <th>18390976</th>\n",
              "      <td>0</td>\n",
              "      <td>9.836118</td>\n",
              "      <td>0</td>\n",
              "      <td>0.392904</td>\n",
              "      <td>0.556465</td>\n",
              "      <td>0.136842</td>\n",
              "    </tr>\n",
              "    <tr>\n",
              "      <th>4805674</th>\n",
              "      <td>0</td>\n",
              "      <td>10.409311</td>\n",
              "      <td>5</td>\n",
              "      <td>0.540079</td>\n",
              "      <td>0.718494</td>\n",
              "      <td>0.242105</td>\n",
              "    </tr>\n",
              "    <tr>\n",
              "      <th>6978632</th>\n",
              "      <td>0</td>\n",
              "      <td>12.049910</td>\n",
              "      <td>0</td>\n",
              "      <td>0.584757</td>\n",
              "      <td>0.700491</td>\n",
              "      <td>0.110526</td>\n",
              "    </tr>\n",
              "    <tr>\n",
              "      <th>8008907</th>\n",
              "      <td>2</td>\n",
              "      <td>10.473167</td>\n",
              "      <td>2</td>\n",
              "      <td>0.634691</td>\n",
              "      <td>0.818331</td>\n",
              "      <td>0.110526</td>\n",
              "    </tr>\n",
              "    <tr>\n",
              "      <th>2623108</th>\n",
              "      <td>0</td>\n",
              "      <td>10.469965</td>\n",
              "      <td>6</td>\n",
              "      <td>0.416557</td>\n",
              "      <td>0.481178</td>\n",
              "      <td>0.110526</td>\n",
              "    </tr>\n",
              "  </tbody>\n",
              "</table>\n",
              "</div>"
            ],
            "text/plain": [
              "          meter  square_feet  ...  dew_temperature  wind_speed\n",
              "18725907      1    12.186089  ...         0.527005    0.215789\n",
              "6960477       1    12.753723  ...         0.654664    0.078947\n",
              "6250941       0    10.081759  ...         0.828151    0.110526\n",
              "18138488      2    10.629513  ...         0.626841    0.136842\n",
              "15188575      0     8.196161  ...         0.954173    0.110526\n",
              "18390976      0     9.836118  ...         0.556465    0.136842\n",
              "4805674       0    10.409311  ...         0.718494    0.242105\n",
              "6978632       0    12.049910  ...         0.700491    0.110526\n",
              "8008907       2    10.473167  ...         0.818331    0.110526\n",
              "2623108       0    10.469965  ...         0.481178    0.110526\n",
              "\n",
              "[10 rows x 6 columns]"
            ]
          },
          "metadata": {
            "tags": []
          },
          "execution_count": 110
        }
      ]
    },
    {
      "cell_type": "code",
      "metadata": {
        "id": "P8lKd-bsi837",
        "colab_type": "code",
        "colab": {}
      },
      "source": [
        "X_train.to_csv(r'/content/gdrive/My Drive/ashrae-energy-prediction/X_train.csv')\n",
        "X_test.to_csv(r'/content/gdrive/My Drive/ashrae-energy-prediction/X_test.csv')\n",
        "Y_train.to_csv(r'/content/gdrive/My Drive/ashrae-energy-prediction/Y_train.csv')\n",
        "Y_test.to_csv(r'/content/gdrive/My Drive/ashrae-energy-prediction/Y_test.csv')"
      ],
      "execution_count": 0,
      "outputs": []
    },
    {
      "cell_type": "code",
      "metadata": {
        "id": "WcJyFEVD3vME",
        "colab_type": "code",
        "colab": {}
      },
      "source": [
        "X_train = pd.read_csv ('/content/gdrive/My Drive/ashrae-energy-prediction/X_train.csv')\n",
        "X_test = pd.read_csv ('/content/gdrive/My Drive/ashrae-energy-prediction/X_test.csv')\n",
        "Y_train = pd.read_csv ('/content/gdrive/My Drive/ashrae-energy-prediction/Y_train.csv')\n",
        "Y_test = pd.read_csv ('/content/gdrive/My Drive/ashrae-energy-prediction/Y_test.csv')"
      ],
      "execution_count": 0,
      "outputs": []
    },
    {
      "cell_type": "code",
      "metadata": {
        "id": "HgWAUJ8h4kX0",
        "colab_type": "code",
        "colab": {}
      },
      "source": [
        "X_train=X_train.drop(['Unnamed: 0'], axis=1)\n",
        "Y_train = Y_train.drop(['Unnamed: 0'], axis=1)\n",
        "X_test = X_test.drop(['Unnamed: 0'], axis=1)\n",
        "Y_test = Y_test.drop(['Unnamed: 0'], axis=1)"
      ],
      "execution_count": 0,
      "outputs": []
    },
    {
      "cell_type": "code",
      "metadata": {
        "id": "xYivKUpsmnRz",
        "colab_type": "code",
        "colab": {}
      },
      "source": [
        "# Convert DataFrames to Matrix\n",
        "X_train = X_train.to_numpy()\n",
        "Y_train = Y_train.to_numpy()\n",
        "X_test = X_test.to_numpy()\n",
        "Y_test = Y_test.to_numpy()"
      ],
      "execution_count": 0,
      "outputs": []
    },
    {
      "cell_type": "code",
      "metadata": {
        "id": "PISKWeb0mrRy",
        "colab_type": "code",
        "outputId": "bb2f5e2b-0fd5-49c1-e62f-f71e3aae0081",
        "colab": {
          "base_uri": "https://localhost:8080/",
          "height": 34
        }
      },
      "source": [
        "X_train.shape"
      ],
      "execution_count": 6,
      "outputs": [
        {
          "output_type": "execute_result",
          "data": {
            "text/plain": [
              "(14151270, 6)"
            ]
          },
          "metadata": {
            "tags": []
          },
          "execution_count": 6
        }
      ]
    },
    {
      "cell_type": "code",
      "metadata": {
        "id": "51f9CsAgHDzB",
        "colab_type": "code",
        "outputId": "61653246-522a-4b23-8f11-98069f3f19d0",
        "colab": {
          "base_uri": "https://localhost:8080/",
          "height": 34
        }
      },
      "source": [
        "Y_train.shape"
      ],
      "execution_count": 7,
      "outputs": [
        {
          "output_type": "execute_result",
          "data": {
            "text/plain": [
              "(14151270, 1)"
            ]
          },
          "metadata": {
            "tags": []
          },
          "execution_count": 7
        }
      ]
    },
    {
      "cell_type": "markdown",
      "metadata": {
        "id": "8yW86M5heom8",
        "colab_type": "text"
      },
      "source": [
        "#**Modeling**"
      ]
    },
    {
      "cell_type": "code",
      "metadata": {
        "id": "Z73z205yHKr4",
        "colab_type": "code",
        "outputId": "17af1573-dbe0-4d15-8461-f695719c978e",
        "colab": {
          "base_uri": "https://localhost:8080/",
          "height": 80
        }
      },
      "source": [
        "import keras\n",
        "from keras.models import Sequential\n",
        "from keras.layers import Dense\n",
        "from keras.layers import LeakyReLU\n",
        "from keras.layers import Dropout"
      ],
      "execution_count": 8,
      "outputs": [
        {
          "output_type": "stream",
          "text": [
            "Using TensorFlow backend.\n"
          ],
          "name": "stderr"
        },
        {
          "output_type": "display_data",
          "data": {
            "text/html": [
              "<p style=\"color: red;\">\n",
              "The default version of TensorFlow in Colab will soon switch to TensorFlow 2.x.<br>\n",
              "We recommend you <a href=\"https://www.tensorflow.org/guide/migrate\" target=\"_blank\">upgrade</a> now \n",
              "or ensure your notebook will continue to use TensorFlow 1.x via the <code>%tensorflow_version 1.x</code> magic:\n",
              "<a href=\"https://colab.research.google.com/notebooks/tensorflow_version.ipynb\" target=\"_blank\">more info</a>.</p>\n"
            ],
            "text/plain": [
              "<IPython.core.display.HTML object>"
            ]
          },
          "metadata": {
            "tags": []
          }
        }
      ]
    },
    {
      "cell_type": "code",
      "metadata": {
        "id": "5gj-h9JbHYAw",
        "colab_type": "code",
        "outputId": "ba0ef3f6-8f91-401c-9be2-36c202c4179c",
        "colab": {
          "base_uri": "https://localhost:8080/",
          "height": 139
        }
      },
      "source": [
        "x=0.01\n",
        "model = Sequential()\n",
        "model.add(Dense(64, input_dim=6))\n",
        "model.add(LeakyReLU(alpha=x))\n",
        "model.add(Dense(128))\n",
        "model.add(LeakyReLU(alpha=x))\n",
        "model.add(Dense(256))\n",
        "model.add(LeakyReLU(alpha=x))\n",
        "model.add(Dense(512))\n",
        "model.add(LeakyReLU(alpha=x))\n",
        "model.add(Dense(512))\n",
        "model.add(LeakyReLU(alpha=x))\n",
        "model.add(Dense(256))\n",
        "model.add(LeakyReLU(alpha=x))\n",
        "model.add(Dense(128))\n",
        "model.add(LeakyReLU(alpha=x))\n",
        "model.add(Dense(64))\n",
        "model.add(LeakyReLU(alpha=x))\n",
        "model.add(Dense(1))"
      ],
      "execution_count": 9,
      "outputs": [
        {
          "output_type": "stream",
          "text": [
            "WARNING:tensorflow:From /usr/local/lib/python3.6/dist-packages/keras/backend/tensorflow_backend.py:66: The name tf.get_default_graph is deprecated. Please use tf.compat.v1.get_default_graph instead.\n",
            "\n",
            "WARNING:tensorflow:From /usr/local/lib/python3.6/dist-packages/keras/backend/tensorflow_backend.py:541: The name tf.placeholder is deprecated. Please use tf.compat.v1.placeholder instead.\n",
            "\n",
            "WARNING:tensorflow:From /usr/local/lib/python3.6/dist-packages/keras/backend/tensorflow_backend.py:4432: The name tf.random_uniform is deprecated. Please use tf.random.uniform instead.\n",
            "\n"
          ],
          "name": "stdout"
        }
      ]
    },
    {
      "cell_type": "code",
      "metadata": {
        "id": "SFxO5Ew2H7rQ",
        "colab_type": "code",
        "outputId": "d7c08f03-70ee-4721-8269-ff40c71622bc",
        "colab": {
          "base_uri": "https://localhost:8080/",
          "height": 71
        }
      },
      "source": [
        "model.compile(loss='mse', optimizer='adam')"
      ],
      "execution_count": 10,
      "outputs": [
        {
          "output_type": "stream",
          "text": [
            "WARNING:tensorflow:From /usr/local/lib/python3.6/dist-packages/keras/optimizers.py:793: The name tf.train.Optimizer is deprecated. Please use tf.compat.v1.train.Optimizer instead.\n",
            "\n"
          ],
          "name": "stdout"
        }
      ]
    },
    {
      "cell_type": "code",
      "metadata": {
        "id": "YaY1H-4ZIAJU",
        "colab_type": "code",
        "outputId": "2fa69278-f3b6-413b-d938-c27c0b18688c",
        "colab": {
          "base_uri": "https://localhost:8080/",
          "height": 1000
        }
      },
      "source": [
        "history = model.fit(X_train, Y_train, validation_data = (X_test,Y_test), epochs=25, batch_size=2048,shuffle=True)"
      ],
      "execution_count": 11,
      "outputs": [
        {
          "output_type": "stream",
          "text": [
            "WARNING:tensorflow:From /usr/local/lib/python3.6/dist-packages/keras/backend/tensorflow_backend.py:1033: The name tf.assign_add is deprecated. Please use tf.compat.v1.assign_add instead.\n",
            "\n",
            "WARNING:tensorflow:From /usr/local/lib/python3.6/dist-packages/keras/backend/tensorflow_backend.py:1020: The name tf.assign is deprecated. Please use tf.compat.v1.assign instead.\n",
            "\n",
            "WARNING:tensorflow:From /usr/local/lib/python3.6/dist-packages/keras/backend/tensorflow_backend.py:3005: The name tf.Session is deprecated. Please use tf.compat.v1.Session instead.\n",
            "\n",
            "Train on 14151270 samples, validate on 6064830 samples\n",
            "Epoch 1/25\n",
            "WARNING:tensorflow:From /usr/local/lib/python3.6/dist-packages/keras/backend/tensorflow_backend.py:190: The name tf.get_default_session is deprecated. Please use tf.compat.v1.get_default_session instead.\n",
            "\n",
            "WARNING:tensorflow:From /usr/local/lib/python3.6/dist-packages/keras/backend/tensorflow_backend.py:197: The name tf.ConfigProto is deprecated. Please use tf.compat.v1.ConfigProto instead.\n",
            "\n",
            "WARNING:tensorflow:From /usr/local/lib/python3.6/dist-packages/keras/backend/tensorflow_backend.py:207: The name tf.global_variables is deprecated. Please use tf.compat.v1.global_variables instead.\n",
            "\n",
            "WARNING:tensorflow:From /usr/local/lib/python3.6/dist-packages/keras/backend/tensorflow_backend.py:216: The name tf.is_variable_initialized is deprecated. Please use tf.compat.v1.is_variable_initialized instead.\n",
            "\n",
            "WARNING:tensorflow:From /usr/local/lib/python3.6/dist-packages/keras/backend/tensorflow_backend.py:223: The name tf.variables_initializer is deprecated. Please use tf.compat.v1.variables_initializer instead.\n",
            "\n",
            "14151270/14151270 [==============================] - 56s 4us/step - loss: 2.8161 - val_loss: 2.6165\n",
            "Epoch 2/25\n",
            "14151270/14151270 [==============================] - 46s 3us/step - loss: 2.5460 - val_loss: 2.4554\n",
            "Epoch 3/25\n",
            "14151270/14151270 [==============================] - 46s 3us/step - loss: 2.4405 - val_loss: 2.3926\n",
            "Epoch 4/25\n",
            "14151270/14151270 [==============================] - 46s 3us/step - loss: 2.3621 - val_loss: 2.3354\n",
            "Epoch 5/25\n",
            "14151270/14151270 [==============================] - 46s 3us/step - loss: 2.3057 - val_loss: 2.2522\n",
            "Epoch 6/25\n",
            "14151270/14151270 [==============================] - 46s 3us/step - loss: 2.2619 - val_loss: 2.2028\n",
            "Epoch 7/25\n",
            "14151270/14151270 [==============================] - 46s 3us/step - loss: 2.2211 - val_loss: 2.1713\n",
            "Epoch 8/25\n",
            "14151270/14151270 [==============================] - 46s 3us/step - loss: 2.1924 - val_loss: 2.2070\n",
            "Epoch 9/25\n",
            "14151270/14151270 [==============================] - 45s 3us/step - loss: 2.1621 - val_loss: 2.0914\n",
            "Epoch 10/25\n",
            "14151270/14151270 [==============================] - 45s 3us/step - loss: 2.1388 - val_loss: 2.0836\n",
            "Epoch 11/25\n",
            "14151270/14151270 [==============================] - 46s 3us/step - loss: 2.1160 - val_loss: 2.3069\n",
            "Epoch 12/25\n",
            "14151270/14151270 [==============================] - 46s 3us/step - loss: 2.0915 - val_loss: 2.0954\n",
            "Epoch 13/25\n",
            "14151270/14151270 [==============================] - 45s 3us/step - loss: 2.0741 - val_loss: 2.0084\n",
            "Epoch 14/25\n",
            "14151270/14151270 [==============================] - 45s 3us/step - loss: 2.0589 - val_loss: 1.9713\n",
            "Epoch 15/25\n",
            "14151270/14151270 [==============================] - 46s 3us/step - loss: 2.0458 - val_loss: 1.9710\n",
            "Epoch 16/25\n",
            "14151270/14151270 [==============================] - 45s 3us/step - loss: 2.0296 - val_loss: 2.0061\n",
            "Epoch 17/25\n",
            "14151270/14151270 [==============================] - 45s 3us/step - loss: 2.0182 - val_loss: 2.0180\n",
            "Epoch 18/25\n",
            "14151270/14151270 [==============================] - 45s 3us/step - loss: 1.9989 - val_loss: 1.9403\n",
            "Epoch 19/25\n",
            "14151270/14151270 [==============================] - 45s 3us/step - loss: 1.9865 - val_loss: 1.9576\n",
            "Epoch 20/25\n",
            "14151270/14151270 [==============================] - 45s 3us/step - loss: 1.9721 - val_loss: 1.9151\n",
            "Epoch 21/25\n",
            "14151270/14151270 [==============================] - 45s 3us/step - loss: 1.9678 - val_loss: 2.0226\n",
            "Epoch 22/25\n",
            "14151270/14151270 [==============================] - 45s 3us/step - loss: 1.9951 - val_loss: 1.9856\n",
            "Epoch 23/25\n",
            "14151270/14151270 [==============================] - 45s 3us/step - loss: 1.9571 - val_loss: 1.9114\n",
            "Epoch 24/25\n",
            "14151270/14151270 [==============================] - 45s 3us/step - loss: 1.9483 - val_loss: 1.9522\n",
            "Epoch 25/25\n",
            "14151270/14151270 [==============================] - 44s 3us/step - loss: 1.9354 - val_loss: 1.9756\n"
          ],
          "name": "stdout"
        }
      ]
    },
    {
      "cell_type": "code",
      "metadata": {
        "id": "nt1GBQULIJNL",
        "colab_type": "code",
        "colab": {
          "base_uri": "https://localhost:8080/",
          "height": 295
        },
        "outputId": "01a76a41-47f8-4c38-e824-1f315a5ea37c"
      },
      "source": [
        "import matplotlib.pyplot as plt\n",
        "plt.plot(history.history['loss'])\n",
        "plt.plot(history.history['val_loss'])\n",
        "plt.title('model loss')\n",
        "plt.ylabel('loss')\n",
        "plt.xlabel('epoch')\n",
        "plt.legend(['train', 'test'], loc='upper left')\n",
        "plt.show()\n"
      ],
      "execution_count": 12,
      "outputs": [
        {
          "output_type": "display_data",
          "data": {
            "image/png": "[encoded data removed]",
            "text/plain": [
              "<Figure size 432x288 with 1 Axes>"
            ]
          },
          "metadata": {
            "tags": []
          }
        }
      ]
    },
    {
      "cell_type": "code",
      "metadata": {
        "id": "X4KFImaq5kOU",
        "colab_type": "code",
        "colab": {}
      },
      "source": [
        "model.save('/content/gdrive/My Drive/ashrae-energy-prediction/Model.h5')"
      ],
      "execution_count": 0,
      "outputs": []
    },
    {
      "cell_type": "code",
      "metadata": {
        "id": "Nn48BUn_K4R1",
        "colab_type": "code",
        "colab": {}
      },
      "source": [
        ""
      ],
      "execution_count": 0,
      "outputs": []
    }
  ]
}